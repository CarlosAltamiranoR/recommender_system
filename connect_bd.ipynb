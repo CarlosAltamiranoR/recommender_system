{
 "cells": [
  {
   "cell_type": "code",
   "execution_count": 1,
   "metadata": {
    "scrolled": true
   },
   "outputs": [],
   "source": [
    "import os\n",
    "import pymysql\n",
    "import pandas as pd\n",
    "import requests\n",
    "from bs4 import BeautifulSoup\n",
    "\n",
    "host = os.getenv('localhost')\n",
    "port = os.getenv('MYSQL_PORT')\n",
    "user = os.getenv('MYSQL_USER')\n",
    "password = os.getenv('MYSQL_PASSWORD')\n",
    "database = os.getenv('MYSQL_DATABASE')\n",
    "\n",
    "conn = pymysql.connect(\n",
    "    host=host,\n",
    "    port=int(3306),\n",
    "    user=\"root\",\n",
    "    passwd=\"\",\n",
    "    db=\"recommender_system\",\n",
    "    charset='utf8mb4')\n",
    "\n"
   ]
  },
  {
   "cell_type": "code",
   "execution_count": 2,
   "metadata": {},
   "outputs": [],
   "source": [
    "#PARA BUSCAR UNA PELICULA POR SU CODIGO\n",
    "\n",
    "def searchMovieIfExist( key ):\n",
    "    \n",
    "    sql  = \"SELECT * FROM tittle_basics WHERE tconst='%s'\"%(key)\n",
    "   \n",
    "    df = pd.read_sql_query( sql, conn )\n",
    "    return df.tail(10)\n"
   ]
  },
  {
   "cell_type": "code",
   "execution_count": 3,
   "metadata": {},
   "outputs": [],
   "source": [
    "#searchMovieIfExist(\"tt0000001\")"
   ]
  },
  {
   "cell_type": "code",
   "execution_count": 4,
   "metadata": {},
   "outputs": [],
   "source": [
    "#OBTIENE TODA LAS LISTAS GURDADAS\n",
    "def getList(name):\n",
    "    sql  = \"SELECT * FROM lists WHERE name like '%s'\"%(name)\n",
    "   \n",
    "    df = pd.read_sql_query( sql, conn )\n",
    "    return df"
   ]
  },
  {
   "cell_type": "code",
   "execution_count": 5,
   "metadata": {},
   "outputs": [],
   "source": [
    "#getList(\"nombre prueba\")"
   ]
  },
  {
   "cell_type": "code",
   "execution_count": 6,
   "metadata": {},
   "outputs": [],
   "source": [
    "def insertList(name, link, metadata):\n",
    "    \n",
    "    with conn.cursor() as cursor:\n",
    "        # CREA UNA NUEVA FILA\n",
    "        sql = \"INSERT INTO lists ( name, link, metadata ) VALUES ( %s, %s, %s )\"\n",
    "        cursor.execute( sql,( name, link, metadata ) )\n",
    "        \n",
    "        #GUARDAMOS LOS CAMBIOS\n",
    "        conn.commit()\n",
    "               \n",
    "    "
   ]
  },
  {
   "cell_type": "code",
   "execution_count": 7,
   "metadata": {
    "scrolled": false
   },
   "outputs": [],
   "source": [
    "#insertList(\"nombre prueba\", \"link prueba\", \"meta prueba\")"
   ]
  },
  {
   "cell_type": "code",
   "execution_count": 11,
   "metadata": {},
   "outputs": [],
   "source": [
    "\n",
    "\n",
    "def getListImdb(url):\n",
    "    \n",
    "    countPage = 1\n",
    "    url+=\"?page=%d\"%countPage\n",
    "    r = requests.get(url)\n",
    "    html_content = r.text\n",
    "    soup = BeautifulSoup(html_content, 'lxml')\n",
    "    nIterations=  soup.find(\"span\",{\"class\":\"list-pagination-total-elements\"})\n",
    "    print(nIterations.text)\n",
    "         \n",
    "            \n",
    "    while r.status_code==200:\n",
    "        print(r.status_code)\n",
    "        html_content = r.text\n",
    "        soup = BeautifulSoup(html_content, 'lxml')\n",
    "\n",
    "        #OBTENGO TODAS LAS LISTAS\n",
    "        lists = soup.findAll(\"div\", {\"class\": \"list-preview\"})\n",
    "\n",
    "        resultList = []\n",
    "\n",
    "\n",
    "        #RECORRO LAS LISTAS Y SACO LA INFORMACIÓN\n",
    "        for list in lists:\n",
    "            collectorList = []\n",
    "            #OBTENGO EL NOMBRE DE LA LISTA\n",
    "            infoList = list.find( \"div\" , {\"class\": \"list_name\"} )\n",
    "            nameList = infoList.find( \"a\" )    \n",
    "            collectorList.append(nameList.text)\n",
    "\n",
    "\n",
    "            #OBTENGO EL LINK DE LA LISTA\n",
    "\n",
    "            linkList = infoList.find( 'a', href = True) \n",
    "            collectorList.append(linkList['href'])\n",
    "\n",
    "\n",
    "            #OBTENGO LA METADATA DE LA LISTA\n",
    "            metadataList = list.find( \"div\" , {\"class\": \"list_meta\"} )\n",
    "            collectorList.append(metadataList.text)\n",
    "\n",
    "            resultList.append(collectorList)\n",
    "        \n",
    "        print(url)\n",
    "        countPage+=1\n",
    "        url=url.split('?',1)[0]\n",
    "        url+=\"?page=%d\"%countPage\n",
    "        r = requests.get(url)\n",
    "        \n",
    "        \n",
    "\n",
    "    return resultList\n"
   ]
  },
  {
   "cell_type": "code",
   "execution_count": 12,
   "metadata": {},
   "outputs": [
    {
     "name": "stdout",
     "output_type": "stream",
     "text": [
      "998\n",
      "200\n",
      "https://www.imdb.com/lists/tt0074486?page=1\n",
      "200\n",
      "https://www.imdb.com/lists/tt0074486?page=2\n",
      "200\n",
      "https://www.imdb.com/lists/tt0074486?page=3\n",
      "200\n",
      "https://www.imdb.com/lists/tt0074486?page=4\n"
     ]
    }
   ],
   "source": [
    "#URL DE LA LISTA A BUSCAR\n",
    "url='https://www.imdb.com/lists/tt0074486'\n",
    "\n",
    "#SACAMOS EL CODIGO DE LA PELICULA\n",
    "tconst=url.split('/',4)[-1]\n",
    "tconst=tconst.split('?',1)[0]\n",
    "\n",
    "#limpiamos parametros get\n",
    "urlSplit= url.split('?',1)[0]\n",
    "\n",
    "#OBTENEMOS LAS LISTAS\n",
    "listas = getListImdb(  url) \n",
    "\n",
    "#for lista in listas:\n",
    "#    insertList(lista[0], lista[1], lista[2])\n",
    "  "
   ]
  },
  {
   "cell_type": "code",
   "execution_count": null,
   "metadata": {},
   "outputs": [],
   "source": []
  }
 ],
 "metadata": {
  "kernelspec": {
   "display_name": "Python 3",
   "language": "python",
   "name": "python3"
  },
  "language_info": {
   "codemirror_mode": {
    "name": "ipython",
    "version": 3
   },
   "file_extension": ".py",
   "mimetype": "text/x-python",
   "name": "python",
   "nbconvert_exporter": "python",
   "pygments_lexer": "ipython3",
   "version": "3.7.5"
  }
 },
 "nbformat": 4,
 "nbformat_minor": 2
}
