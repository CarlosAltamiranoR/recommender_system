{
 "cells": [
  {
   "cell_type": "code",
   "execution_count": 1,
   "metadata": {
    "scrolled": true
   },
   "outputs": [],
   "source": [
    "import os\n",
    "import pymysql\n",
    "import pandas as pd\n",
    "import requests\n",
    "import time\n",
    "import urllib3\n",
    "from bs4 import BeautifulSoup\n",
    "\n",
    "host = os.getenv('localhost')\n",
    "port = os.getenv('MYSQL_PORT')\n",
    "user = os.getenv('MYSQL_USER')\n",
    "password = os.getenv('MYSQL_PASSWORD')\n",
    "database = os.getenv('MYSQL_DATABASE')\n",
    "\n",
    "conn = pymysql.connect(\n",
    "    host=host,\n",
    "    port=int(3306),\n",
    "    user=\"root\",\n",
    "    passwd=\"\",\n",
    "    db=\"recommender_system\",\n",
    "    charset='utf8mb4')\n",
    "\n"
   ]
  },
  {
   "cell_type": "code",
   "execution_count": 2,
   "metadata": {},
   "outputs": [],
   "source": [
    "#PARA BUSCAR UNA PELICULA POR SU CODIGO\n",
    "\n",
    "def searchMovieIfExist( key ):\n",
    "    \n",
    "    sql  = \"SELECT * FROM tittle_basics WHERE tconst='%s'\"%(key)\n",
    "   \n",
    "    df = pd.read_sql_query( sql, conn )\n",
    "    return df.tail(10)\n"
   ]
  },
  {
   "cell_type": "code",
   "execution_count": 3,
   "metadata": {},
   "outputs": [],
   "source": [
    "#searchMovieIfExist(\"tt0000001\")"
   ]
  },
  {
   "cell_type": "code",
   "execution_count": 4,
   "metadata": {},
   "outputs": [],
   "source": [
    "#OBTIENE TODA LAS LISTAS GURDADAS\n",
    "def getList(name):\n",
    "    sql  = \"SELECT * FROM lists WHERE name like '%s'\"%(name)\n",
    "   \n",
    "    df = pd.read_sql_query( sql, conn )\n",
    "    return df"
   ]
  },
  {
   "cell_type": "code",
   "execution_count": 5,
   "metadata": {},
   "outputs": [],
   "source": [
    "#getList(\"nombre prueba\")"
   ]
  },
  {
   "cell_type": "code",
   "execution_count": 6,
   "metadata": {},
   "outputs": [],
   "source": [
    "def insertList(name, link, metadata):\n",
    "    \n",
    "    with conn.cursor() as cursor:\n",
    "        # CREA UNA NUEVA FILA\n",
    "        sql = \"INSERT INTO lists ( name, link, metadata ) VALUES ( %s, %s, %s )\"\n",
    "        cursor.execute( sql,( name, link, metadata ) )\n",
    "        \n",
    "        #GUARDAMOS LOS CAMBIOS\n",
    "        conn.commit()\n",
    "               \n",
    "    "
   ]
  },
  {
   "cell_type": "code",
   "execution_count": 7,
   "metadata": {
    "scrolled": false
   },
   "outputs": [],
   "source": [
    "#insertList(\"nombre prueba\", \"link prueba\", \"meta prueba\")"
   ]
  },
  {
   "cell_type": "code",
   "execution_count": 8,
   "metadata": {},
   "outputs": [],
   "source": [
    "def getNIterations(number):\n",
    "    nIteration = 1\n",
    "    div= number%100\n",
    "    print (\"Resto: \",div)\n",
    "    if number >= 100:\n",
    "        \n",
    "        nIteration = int(number/100)+1\n",
    "        print(\"N iteration-> \", nIteration)\n",
    "        \n",
    "    return nIteration"
   ]
  },
  {
   "cell_type": "code",
   "execution_count": 9,
   "metadata": {},
   "outputs": [],
   "source": [
    "def getInfoLists( lists ):\n",
    "    \n",
    "    resultList = []\n",
    "    \n",
    "    #RECORRO LAS LISTAS Y SACO LA INFORMACIÓN\n",
    "    for list in lists:\n",
    "        collectorList = []\n",
    "        #OBTENGO EL NOMBRE DE LA LISTA\n",
    "        infoList = list.find( \"div\" , {\"class\": \"list_name\"} )\n",
    "        nameList = infoList.find( \"a\" )    \n",
    "        collectorList.append(nameList.text)\n",
    "\n",
    "\n",
    "        #OBTENGO EL LINK DE LA LISTA\n",
    "\n",
    "        linkList = infoList.find( 'a', href = True) \n",
    "        collectorList.append(linkList['href'])\n",
    "        \n",
    "\n",
    "\n",
    "        #OBTENGO LA METADATA DE LA LISTA\n",
    "        metadataList = list.find( \"div\" , {\"class\": \"list_meta\"} )\n",
    "        collectorList.append(metadataList.text)\n",
    "\n",
    "        resultList.append(collectorList)\n",
    "        \n",
    "    return resultList"
   ]
  },
  {
   "cell_type": "code",
   "execution_count": 10,
   "metadata": {},
   "outputs": [],
   "source": [
    "def formatUrlPage( url, number ):\n",
    "    url+=\"?page=%d\"%number #url formatada para rec\n",
    "    return  url\n",
    "    "
   ]
  },
  {
   "cell_type": "code",
   "execution_count": 11,
   "metadata": {},
   "outputs": [],
   "source": [
    "def isDownloadable(url):\n",
    "    \"\"\"\n",
    "    Does the url contain a downloadable resource\n",
    "    \"\"\"\n",
    "    h = requests.head(url, allow_redirects=True)\n",
    "    header = h.headers\n",
    "    content_type = header.get('content-type')\n",
    "    content_type= content_type.split('/',1)\n",
    "    print(\"Content type \"+content_type)\n",
    "    if 'text' in content_type.lower():\n",
    "        return False\n",
    "    if 'html' in content_type.lower():\n",
    "        return False\n",
    "    return True"
   ]
  },
  {
   "cell_type": "code",
   "execution_count": 12,
   "metadata": {},
   "outputs": [],
   "source": [
    "def downloadExcel( urlDomain ,urlIdList ):\n",
    "    \n",
    "      time.sleep(1)\n",
    "    stringExport = \"/export?ref_=ttls_otexp\"\n",
    "    url = urlDomain+urlIdList+stringExport\n",
    "    response = requests.get(url)\n",
    "    html = response.text()\n",
    "    print(html)\n",
    "    \n",
    "    print (\"Downloading \"+ url)\n",
    "    if( isDownloadable (url) ):\n",
    "        \n",
    "        idList = urlIdList.split(\"/\",2)[-1]        \n",
    "        fileName= idList+\".csv\"\n",
    "        r = requests.get(url, allow_redirects=True)\n",
    "        open(fileName, 'wb').write(r.content)       \n",
    "        len(r.content)\n",
    "        "
   ]
  },
  {
   "cell_type": "code",
   "execution_count": 13,
   "metadata": {},
   "outputs": [],
   "source": [
    "\n",
    "\n",
    "def getListImdb(url):\n",
    "    \n",
    "    countPage = 1 #indice de la página que debe iterar al menos una vez\n",
    "    url = formatUrlPage( url, countPage )\n",
    "    \n",
    "    r = requests.get(url)\n",
    "    html_content = r.text\n",
    "    soup = BeautifulSoup(html_content, 'lxml')\n",
    "    \n",
    "    nIterationsText=  soup.find(\"span\",{\"class\":\"list-pagination-total-elements\"})\n",
    "    nIterations = getNIterations( int( nIterationsText.text ) )    \n",
    "    countIterations = 0\n",
    "    \n",
    "    resultList = None \n",
    "    countNot200 = 0\n",
    "    while countIterations < nIterations:\n",
    "        time.sleep(1.5)\n",
    "        print(\"Url: \" + url)\n",
    "        print(\"CountNot200: \", countNot200)      \n",
    "            \n",
    "        if r.status_code == 200:\n",
    "            countNot200 = 0\n",
    "            html_content = r.text\n",
    "            soup = BeautifulSoup(html_content, 'lxml')\n",
    "            #OBTENGO TODAS LAS LISTAS\n",
    "            lists = soup.findAll(\"div\", {\"class\": \"list-preview\"})\n",
    "            resultList = getInfoLists( lists )\n",
    "            countPage+=1\n",
    "            url=url.split('?',1)[0]\n",
    "            url = formatUrlPage( url, countPage )\n",
    "            r = requests.get(url)\n",
    "            countIterations+=1\n",
    "\n",
    "        elif countNot200 >= 10:\n",
    "            \n",
    "            return resultList\n",
    "        else:\n",
    "            countNot200 += 1\n",
    "\n",
    "    return resultList\n"
   ]
  },
  {
   "cell_type": "code",
   "execution_count": 14,
   "metadata": {},
   "outputs": [
    {
     "name": "stdout",
     "output_type": "stream",
     "text": [
      "Resto:  97\n",
      "N iteration->  10\n",
      "Url: https://www.imdb.com/lists/tt0074486?page=1\n",
      "CountNot200:  0\n",
      "Url: https://www.imdb.com/lists/tt0074486?page=2\n",
      "CountNot200:  0\n",
      "Url: https://www.imdb.com/lists/tt0074486?page=2\n",
      "CountNot200:  1\n",
      "Url: https://www.imdb.com/lists/tt0074486?page=2\n",
      "CountNot200:  2\n",
      "Url: https://www.imdb.com/lists/tt0074486?page=2\n",
      "CountNot200:  3\n",
      "Url: https://www.imdb.com/lists/tt0074486?page=2\n",
      "CountNot200:  4\n",
      "Url: https://www.imdb.com/lists/tt0074486?page=2\n",
      "CountNot200:  5\n",
      "Url: https://www.imdb.com/lists/tt0074486?page=2\n",
      "CountNot200:  6\n",
      "Url: https://www.imdb.com/lists/tt0074486?page=2\n",
      "CountNot200:  7\n",
      "Url: https://www.imdb.com/lists/tt0074486?page=2\n",
      "CountNot200:  8\n",
      "Url: https://www.imdb.com/lists/tt0074486?page=2\n",
      "CountNot200:  9\n",
      "Url: https://www.imdb.com/lists/tt0074486?page=2\n",
      "CountNot200:  10\n"
     ]
    }
   ],
   "source": [
    "#URL DE LA LISTA A BUSCAR\n",
    "urlDomain='https://www.imdb.com'\n",
    "urlList=\"/lists/tt0074486\"\n",
    "url=urlDomain+urlList\n",
    "\n",
    "#SACAMOS EL CODIGO DE LA PELICULA\n",
    "tconst=url.split('/',4)[-1]\n",
    "tconst=tconst.split('?',1)[0]\n",
    "\n",
    "#limpiamos parametros get\n",
    "urlSplit= url.split('?',1)[0]\n",
    "\n",
    "#OBTENEMOS LAS LISTAS\n",
    "listas = getListImdb(  url) \n",
    "\n",
    "\n",
    "  "
   ]
  },
  {
   "cell_type": "code",
   "execution_count": 15,
   "metadata": {},
   "outputs": [
    {
     "ename": "TypeError",
     "evalue": "'str' object is not callable",
     "output_type": "error",
     "traceback": [
      "\u001b[1;31m---------------------------------------------------------------------------\u001b[0m",
      "\u001b[1;31mTypeError\u001b[0m                                 Traceback (most recent call last)",
      "\u001b[1;32m<ipython-input-15-7ec7d5133fa7>\u001b[0m in \u001b[0;36m<module>\u001b[1;34m\u001b[0m\n\u001b[0;32m      4\u001b[0m \u001b[1;33m\u001b[0m\u001b[0m\n\u001b[0;32m      5\u001b[0m         \u001b[0mtime\u001b[0m\u001b[1;33m.\u001b[0m\u001b[0msleep\u001b[0m\u001b[1;33m(\u001b[0m\u001b[1;36m1\u001b[0m\u001b[1;33m)\u001b[0m\u001b[1;33m\u001b[0m\u001b[1;33m\u001b[0m\u001b[0m\n\u001b[1;32m----> 6\u001b[1;33m         \u001b[0mdownloadExcel\u001b[0m\u001b[1;33m(\u001b[0m \u001b[0murlDomain\u001b[0m\u001b[1;33m,\u001b[0m \u001b[0mlista\u001b[0m\u001b[1;33m[\u001b[0m\u001b[1;36m1\u001b[0m\u001b[1;33m]\u001b[0m \u001b[1;33m)\u001b[0m\u001b[1;33m\u001b[0m\u001b[1;33m\u001b[0m\u001b[0m\n\u001b[0m\u001b[0;32m      7\u001b[0m      \u001b[1;31m#insertList(lista[0], lista[1], lista[2])\u001b[0m\u001b[1;33m\u001b[0m\u001b[1;33m\u001b[0m\u001b[1;33m\u001b[0m\u001b[0m\n\u001b[0;32m      8\u001b[0m \u001b[1;32melse\u001b[0m\u001b[1;33m:\u001b[0m\u001b[1;33m\u001b[0m\u001b[1;33m\u001b[0m\u001b[0m\n",
      "\u001b[1;32m<ipython-input-12-d5a8f2d5a5de>\u001b[0m in \u001b[0;36mdownloadExcel\u001b[1;34m(urlDomain, urlIdList)\u001b[0m\n\u001b[0;32m      5\u001b[0m     \u001b[0murl\u001b[0m \u001b[1;33m=\u001b[0m \u001b[0murlDomain\u001b[0m\u001b[1;33m+\u001b[0m\u001b[0murlIdList\u001b[0m\u001b[1;33m+\u001b[0m\u001b[0mstringExport\u001b[0m\u001b[1;33m\u001b[0m\u001b[1;33m\u001b[0m\u001b[0m\n\u001b[0;32m      6\u001b[0m     \u001b[0mresponse\u001b[0m \u001b[1;33m=\u001b[0m \u001b[0mrequests\u001b[0m\u001b[1;33m.\u001b[0m\u001b[0mget\u001b[0m\u001b[1;33m(\u001b[0m\u001b[0murl\u001b[0m\u001b[1;33m)\u001b[0m\u001b[1;33m\u001b[0m\u001b[1;33m\u001b[0m\u001b[0m\n\u001b[1;32m----> 7\u001b[1;33m     \u001b[0mhtml\u001b[0m \u001b[1;33m=\u001b[0m \u001b[0mresponse\u001b[0m\u001b[1;33m.\u001b[0m\u001b[0mtext\u001b[0m\u001b[1;33m(\u001b[0m\u001b[1;33m)\u001b[0m\u001b[1;33m\u001b[0m\u001b[1;33m\u001b[0m\u001b[0m\n\u001b[0m\u001b[0;32m      8\u001b[0m     \u001b[0mprint\u001b[0m\u001b[1;33m(\u001b[0m\u001b[0mhtml\u001b[0m\u001b[1;33m)\u001b[0m\u001b[1;33m\u001b[0m\u001b[1;33m\u001b[0m\u001b[0m\n\u001b[0;32m      9\u001b[0m \u001b[1;33m\u001b[0m\u001b[0m\n",
      "\u001b[1;31mTypeError\u001b[0m: 'str' object is not callable"
     ]
    }
   ],
   "source": [
    "if isinstance( listas, list):\n",
    "    \n",
    "    for lista in listas:\n",
    "        \n",
    "        time.sleep(1)\n",
    "        downloadExcel( urlDomain, lista[1] )    \n",
    "     #insertList(lista[0], lista[1], lista[2])\n",
    "else:\n",
    "    print( \"Problema al descargar la data: \", listas)"
   ]
  },
  {
   "cell_type": "code",
   "execution_count": null,
   "metadata": {},
   "outputs": [],
   "source": []
  }
 ],
 "metadata": {
  "kernelspec": {
   "display_name": "Python 3",
   "language": "python",
   "name": "python3"
  },
  "language_info": {
   "codemirror_mode": {
    "name": "ipython",
    "version": 3
   },
   "file_extension": ".py",
   "mimetype": "text/x-python",
   "name": "python",
   "nbconvert_exporter": "python",
   "pygments_lexer": "ipython3",
   "version": "3.7.5"
  }
 },
 "nbformat": 4,
 "nbformat_minor": 2
}
