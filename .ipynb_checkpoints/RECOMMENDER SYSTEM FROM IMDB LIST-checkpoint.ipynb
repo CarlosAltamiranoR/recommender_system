{
 "cells": [
  {
   "cell_type": "markdown",
   "metadata": {},
   "source": [
    "# Importar librerias y connección a BD"
   ]
  },
  {
   "cell_type": "code",
   "execution_count": 1,
   "metadata": {
    "scrolled": true
   },
   "outputs": [],
   "source": [
    "import os\n",
    "import pymysql\n",
    "import pandas as pd\n",
    "import requests\n",
    "import time\n",
    "import urllib3\n",
    "urllib3.disable_warnings(urllib3.exceptions.InsecureRequestWarning)\n",
    "from bs4 import BeautifulSoup\n",
    "import csv\n",
    "import time\n",
    "import sys\n",
    "import re\n",
    "\n",
    "host = os.getenv('localhost')\n",
    "port = os.getenv('MYSQL_PORT')\n",
    "user = os.getenv('MYSQL_USER')\n",
    "password = os.getenv('MYSQL_PASSWORD')\n",
    "database = os.getenv('MYSQL_DATABASE')\n",
    "\n",
    "conn = pymysql.connect(\n",
    "    host=host,\n",
    "    port=int(3306),\n",
    "    user=\"root\",\n",
    "    passwd=\"\",\n",
    "    db=\"recommender_system\",\n",
    "    charset='utf8mb4')\n",
    "\n"
   ]
  },
  {
   "cell_type": "markdown",
   "metadata": {},
   "source": [
    "# [BD]Consulta en  si una lista existe"
   ]
  },
  {
   "cell_type": "code",
   "execution_count": 2,
   "metadata": {},
   "outputs": [],
   "source": [
    "def idImdbExists(idImdb):    \n",
    "    \n",
    "    exist= True\n",
    "    sql  = \" SELECT * FROM lists WHERE idImdb = %s \"\n",
    "    with conn.cursor() as cursor:\n",
    "        row_count = cursor.execute( sql, (idImdb) )    \n",
    "        if row_count == 0:\n",
    "            exist = False \n",
    "    return exist"
   ]
  },
  {
   "cell_type": "markdown",
   "metadata": {},
   "source": [
    "# [BD] Consulta si un tittle (pelicula) existe"
   ]
  },
  {
   "cell_type": "code",
   "execution_count": 3,
   "metadata": {},
   "outputs": [],
   "source": [
    "def tittleExists(tconst):\n",
    "    exist= True\n",
    "    sql  = \" SELECT * FROM tittle_list WHERE tconst = %s \"\n",
    "    with conn.cursor() as cursor:\n",
    "        row_count = cursor.execute( sql, (tconst) )    \n",
    "        if row_count == 0:\n",
    "            exist = False \n",
    "    return exist"
   ]
  },
  {
   "cell_type": "markdown",
   "metadata": {},
   "source": [
    "# [BD] Insertar información descriptiva de una lista"
   ]
  },
  {
   "cell_type": "code",
   "execution_count": 4,
   "metadata": {},
   "outputs": [],
   "source": [
    "def insertList(name, link, metadata, idImdb):\n",
    "    \n",
    "    with conn.cursor() as cursor:\n",
    "        # CREA UNA NUEVA FILA\n",
    "        sql = \"INSERT INTO lists ( name, link, metadata, idImdb ) VALUES ( %s, %s, %s,%s )\"\n",
    "        cursor.execute( sql,( name, link, metadata,idImdb ) )\n",
    "        \n",
    "        #GUARDAMOS LOS CAMBIOS\n",
    "        conn.commit()\n",
    "               \n",
    "    "
   ]
  },
  {
   "cell_type": "markdown",
   "metadata": {},
   "source": [
    "# [BD] Inserta asosiciaion pelicula-lista (tabla n:n)"
   ]
  },
  {
   "cell_type": "code",
   "execution_count": 5,
   "metadata": {},
   "outputs": [],
   "source": [
    "def instertListTittleList(id_list, id_tittlelist):\n",
    "    with conn.cursor() as cursor:\n",
    "        # CREA UNA NUEVA FILA\n",
    "        sql = \"INSERT INTO list_tittlelist ( id_list, id_tittlelist ) VALUES ( %s, %s )\"\n",
    "        cursor.execute( sql,( id_list, id_tittlelist ) )\n",
    "        \n",
    "        #GUARDAMOS LOS CAMBIOS\n",
    "        conn.commit()"
   ]
  },
  {
   "cell_type": "markdown",
   "metadata": {},
   "source": [
    "# [BD] Inserta información de peliculas"
   ]
  },
  {
   "cell_type": "code",
   "execution_count": 6,
   "metadata": {},
   "outputs": [],
   "source": [
    "def insertTittleList( tconst, f_created, f_modified, description, name_tittle, url, tittle_type, imdb_rating, runtime_mins, year, release_date):\n",
    "    with conn.cursor() as cursor:\n",
    "        # CREA UNA NUEVA FILA\n",
    "        sql = \"INSERT INTO tittle_list ( tconst, f_created, f_modified, description, name_tittle, url, tittle_type, imdb_rating, runtime_mins, year, release_date ) VALUES ( %s, %s, %s,%s, %s, %s,%s, %s, %s,%s, %s)\"\n",
    "        cursor.execute( sql,( tconst, f_created, f_modified, description, name_tittle, url, tittle_type, imdb_rating, runtime_mins, year, release_date ) )\n",
    "        \n",
    "        #GUARDAMOS LOS CAMBIOS\n",
    "        conn.commit()"
   ]
  },
  {
   "cell_type": "markdown",
   "metadata": {},
   "source": [
    "# [BD] OBTENGO TODAS LAS PELICULAS DE UNA LISTA"
   ]
  },
  {
   "cell_type": "code",
   "execution_count": 7,
   "metadata": {},
   "outputs": [],
   "source": [
    "def getTitlesList(idList):\n",
    "    \n",
    "    sql  = \" SELECT * FROM list_tittlelist WHERE id_list = %s \"\n",
    "    with conn.cursor() as cursor:\n",
    "        result = cursor.execute( sql, (idList) )    \n",
    "        if result == 0:\n",
    "            return -1\n",
    "        result= cursor.fetchall()\n",
    "    return result"
   ]
  },
  {
   "cell_type": "code",
   "execution_count": null,
   "metadata": {},
   "outputs": [],
   "source": [
    "# [BD]"
   ]
  },
  {
   "cell_type": "markdown",
   "metadata": {},
   "source": [
    "# [IMDB] Numero de consultas(peticiones) que se ha hecho"
   ]
  },
  {
   "cell_type": "code",
   "execution_count": 8,
   "metadata": {},
   "outputs": [],
   "source": [
    "def getNIterations(number):\n",
    "    nIteration = 1\n",
    "    div= number%100\n",
    "   \n",
    "    if number >= 100:\n",
    "        \n",
    "        nIteration = int(number/100)+1\n",
    "      \n",
    "        \n",
    "    return nIteration"
   ]
  },
  {
   "cell_type": "markdown",
   "metadata": {},
   "source": [
    "# [IMDB] Se obtiene informacion referente a una lista"
   ]
  },
  {
   "cell_type": "code",
   "execution_count": 9,
   "metadata": {},
   "outputs": [],
   "source": [
    "def getInfoLists( lists ):\n",
    "    \n",
    "    resultList = []\n",
    "    \n",
    "    #RECORRO LAS LISTAS Y SACO LA INFORMACIÓN\n",
    "    for list in lists:\n",
    "        collectorList = []\n",
    "        #OBTENGO EL NOMBRE DE LA LISTA\n",
    "        infoList = list.find( \"div\" , {\"class\": \"list_name\"} )\n",
    "        nameList = infoList.find( \"a\" )    \n",
    "        collectorList.append(nameList.text)\n",
    "\n",
    "\n",
    "        #OBTENGO EL LINK DE LA LISTA\n",
    "\n",
    "        linkList = infoList.find( 'a', href = True) \n",
    "        collectorList.append(linkList['href'])\n",
    "        \n",
    "\n",
    "\n",
    "        #OBTENGO LA METADATA DE LA LISTA\n",
    "        metadataList = list.find( \"div\" , {\"class\": \"list_meta\"} )\n",
    "        collectorList.append(metadataList.text)\n",
    "\n",
    "        resultList.append(collectorList)\n",
    "        \n",
    "    return resultList"
   ]
  },
  {
   "cell_type": "markdown",
   "metadata": {},
   "source": [
    "# [IMDB] Se modifica la URL para modificar a traves de las paginas"
   ]
  },
  {
   "cell_type": "code",
   "execution_count": 10,
   "metadata": {},
   "outputs": [],
   "source": [
    "def formatUrlPage( url, number ):\n",
    "    url+=\"?page=%d\"%number #url formatada para rec\n",
    "    return  url\n",
    "    "
   ]
  },
  {
   "cell_type": "markdown",
   "metadata": {},
   "source": [
    "# [IMDB] Se descarga excel que contiene el listado de peliculas de una lista"
   ]
  },
  {
   "cell_type": "code",
   "execution_count": 11,
   "metadata": {},
   "outputs": [],
   "source": [
    "def downloadExcel( urlIdList, urlDomain=\"https://www.imdb.com/\" ):\n",
    "    # input urlIdList: string con (1)url de una lista completa o (2)solo el ID de una lista || \n",
    "    #           ej(1): \"https://www.imdb.com/list/ls092155333/\"\n",
    "    #           ej(2): \"/list/ls092083481\"   \n",
    "    #       urlDomain(opcional): string con el nombre del dominio de la pagina || ej: \"https://www.imdb.com/\"\n",
    "    # return fileName: string referencia al nombre del excel que tiene el listado de peliculas || ej: \"ls092083481.csv\"\n",
    "    \n",
    "    \n",
    "    match = re.search(\"^https.\",urlIdList) #busca expresión regular \"https\" para identificar si es un url completa o solo el id\n",
    "    if match: \n",
    "        #contiene http, por lo tanto es url completa\n",
    "        stringExport = \"export?ref_=ttls_otexp\" #string con parametro que le indica al sitio descargar excel\n",
    "        url= urlIdList+stringExport\n",
    "        print(\"\\n url con http\", url)\n",
    "        idList = urlIdList.split(\"/\",5)[-2]\n",
    "        print(\"\\n url con http\", url)\n",
    "        \n",
    "    else:\n",
    "        #sin http, es decir url relativa con referencia al ID de la lista\n",
    "        stringExport = \"/export?ref_=ttls_otexp\"\n",
    "        url = urlDomain+urlIdList+stringExport\n",
    "        print(\"\\n url sin http\",url)\n",
    "        idList = urlIdList.split(\"/\",2)[-1] \n",
    "    time.sleep(1)\n",
    "    http = urllib3.PoolManager()\n",
    "    r = http.request('GET', url, preload_content=False)\n",
    "    \n",
    "    print(\"\\n idList->\", idList)\n",
    "    fileName= idList+\".csv\"\n",
    "    print(\"\\fileName\", fileName)\n",
    "    with open(fileName, 'wb') as out:\n",
    "        while True:\n",
    "            data = r.read()\n",
    "            if not data:\n",
    "                break\n",
    "            out.write(data)\n",
    "    r.release_conn()\n",
    "    \n",
    "    return fileName"
   ]
  },
  {
   "cell_type": "markdown",
   "metadata": {},
   "source": [
    "# [IMDB] Función que comienza el proceso de descargar listados de peliculas relacionadas al ID de una pelicula"
   ]
  },
  {
   "cell_type": "code",
   "execution_count": 12,
   "metadata": {},
   "outputs": [],
   "source": [
    "\n",
    "\n",
    "def getListImdb(url):\n",
    "    #Input url = https://www.imdb.com/lists/tt0074486?ref_=tt_rls_sm\n",
    "    #return lista= con metadatos [0]-> [Nombre, idList, metadatos]\n",
    "    #Esta Función descarga todas las listas asociadas al ID de una película. Navega por el dominio de IMDB\n",
    "    \n",
    "    countPage = 1 #contador que irá aumentando para buscar más páginas con listas asociadas a la pelicula buscada. Minimo debe ser 1\n",
    "    url = formatUrlPage( url, countPage ) #string de la URL que se le concatena el número de páginas\n",
    "    \n",
    "    r = requests.get(url) #obtiene la petición a la URL\n",
    "    html_content = r.text #se \"parsea\" la petición a string (texto)\n",
    "    soup = BeautifulSoup(html_content, 'lxml') #se crea una instancia de BeatifulSoup, librería usada para navegar por el DOM HTML\n",
    "    \n",
    "    nIterationsText=  soup.find(\"span\",{\"class\":\"list-pagination-total-elements\"}) #se busca en el DOM la cantidad de páginas totales\n",
    "    nIterations = getNIterations( int( nIterationsText.text ) )   #se \"parsea\" el número obtenido anteriormente a un valor tipo Entero \n",
    "    countIterations = 0 #contador que irá indicando las iteraciones (páginas) que se encuentra posicionado en la función\n",
    "    \n",
    "    resultList = None # colección que guardará la información extraidas de las páginas\n",
    "    countNot200 = 0 #contador que indicará el límite de peticiones rechazadas por IMDB\n",
    "    #while countIterations < nIterations:\n",
    "    while countIterations < 1:\n",
    "        time.sleep(2) # se da una pausa de 2 segundo, para no saturar de peticiones a IMDB\n",
    "         \n",
    "            \n",
    "        if r.status_code == 200:\n",
    "            countNot200 = 0\n",
    "            html_content = r.text\n",
    "            soup = BeautifulSoup(html_content, 'lxml')\n",
    "            #OBTENGO TODAS LAS LISTAS\n",
    "            lists = soup.findAll(\"div\", {\"class\": \"list-preview\"}) #se obtiene del DOM metadata asociada a la listas \n",
    "            resultList = getInfoLists( lists )\n",
    "            countPage+=1\n",
    "            url=url.split('?',1)[0]\n",
    "            url = formatUrlPage( url, countPage )\n",
    "            r = requests.get(url)\n",
    "            countIterations+=1\n",
    "\n",
    "        elif countNot200 >= 2:\n",
    "            print (\"ERROR AL DESCARGAR LISTAS: Se guardaron solo %d\",)\n",
    "            return resultList\n",
    "        else:\n",
    "            countNot200 += 1\n",
    "    print (\"Se guardaron bien todas las  listas\")    \n",
    "    return resultList\n"
   ]
  },
  {
   "cell_type": "markdown",
   "metadata": {},
   "source": [
    "# [IMDB] Proceso de rescatar los datos del excel descargado"
   ]
  },
  {
   "cell_type": "code",
   "execution_count": 13,
   "metadata": {},
   "outputs": [],
   "source": [
    "def readCsvAndSaved(fileName):\n",
    "# input fileName: referencia al nombre de la lista que se leerá en excel || ej: ls080428597\n",
    "   #\n",
    "        # How to use find() \n",
    "    if (fileName.find('.csv') == -1):\n",
    "        idList=fileName\n",
    "        fileName+=\".csv\"\n",
    "    else:\n",
    "        idList=fileName.split('.',1)[0]\n",
    "    \n",
    "    with open(fileName, 'r') as file:\n",
    "        reader = csv.reader(file, delimiter=',')\n",
    "        countRow= 0\n",
    "        \n",
    "        for row in reader:\n",
    "            if countRow != 1 :\n",
    "                \n",
    "                if not ( tittleExists( row[1] ) ):\n",
    "                    instertListTittleList(idList,row[1])\n",
    "                    \n",
    "                    insertTittleList(row[1], row[2], row[3], row[4] ,row[5], row[6], row[7], row[8], row[9], row[10], row[13] )                  \n",
    "                \n",
    "                \n",
    "            countRow+=1\n",
    "    \n",
    "    return True"
   ]
  },
  {
   "cell_type": "markdown",
   "metadata": {},
   "source": [
    "# [IMDB] Compara peliculas de una lista en una lista dada"
   ]
  },
  {
   "cell_type": "code",
   "execution_count": 14,
   "metadata": {},
   "outputs": [],
   "source": [
    "def listCompare(idOriginList , idEndList):\n",
    "    originTitles = getTitlesList(idOriginList)\n",
    "    endTitles = getTitlesList(idEndList)\n",
    "    \n",
    "    result= []\n",
    "    for oTitle in originTitles:\n",
    "        print(\"\\m otitle->\",oTitle)\n",
    "        if titleExistInList:\n",
    "            result.append(1)\n",
    "        else:\n",
    "            result.append(0)\n"
   ]
  },
  {
   "cell_type": "markdown",
   "metadata": {},
   "source": [
    "# ================ Lógica de Bayes ========================"
   ]
  },
  {
   "cell_type": "markdown",
   "metadata": {},
   "source": [
    "# Función principal que inicia todo los procesos ( no terminada)"
   ]
  },
  {
   "cell_type": "markdown",
   "metadata": {},
   "source": [
    "\n",
    "\n",
    "    listas = \"https://www.imdb.com/list/ls096276650/?sort=alpha,asc&st_dt=&mode=detail&page=1\"\n",
    "    listToProcess = []\n",
    "    listToProcess.append(\"https://www.imdb.com/list/ls092155333/?ref_=tt_rls_3\")#L1\n",
    "    listToProcess.append(\"https://www.imdb.com/list/ls094566741/?ref_=rltls_53\")#L2\n",
    "    listToProcess.append(\"https://www.imdb.com/list/ls021428038/?ref_=rltls_82\") #L3\n",
    "    \n",
    "    getListImdb(  listas) \n",
    "    \n"
   ]
  },
  {
   "cell_type": "code",
   "execution_count": 15,
   "metadata": {},
   "outputs": [
    {
     "name": "stdout",
     "output_type": "stream",
     "text": [
      "\\m otitle-> (1, 'ls063431068', 'tt1172049')\n",
      "\\m otitle-> (2, 'ls063431068', 'tt3086442')\n",
      "\\m otitle-> (3, 'ls063431068', 'tt2870612')\n",
      "\\m otitle-> (4, 'ls063431068', 'tt2538222')\n",
      "\\m otitle-> (5, 'ls063431068', 'tt0099685')\n",
      "\\m otitle-> (6, 'ls063431068', 'tt4698584')\n",
      "\\m otitle-> (7, 'ls063431068', 'tt0169547')\n",
      "\\m otitle-> (8, 'ls063431068', 'tt1016301')\n",
      "\\m otitle-> (9, 'ls063431068', 'tt0119177')\n",
      "\\m otitle-> (10, 'ls063431068', 'tt4190530')\n",
      "\\m otitle-> (11, 'ls063431068', 'tt0289043')\n",
      "\\m otitle-> (12, 'ls063431068', 'tt0055601')\n",
      "\\m otitle-> (13, 'ls063431068', 'tt0113501')\n",
      "\\m otitle-> (14, 'ls063431068', 'tt0464141')\n",
      "\\m otitle-> (15, 'ls063431068', 'tt0093177')\n",
      "\\m otitle-> (16, 'ls063431068', 'tt0138704')\n",
      "\\m otitle-> (17, 'ls063431068', 'tt0057012')\n",
      "\\m otitle-> (18, 'ls063431068', 'tt0033467')\n",
      "\\m otitle-> (19, 'ls063431068', 'tt0114814')\n",
      "\\m otitle-> (20, 'ls063431068', 'tt1242460')\n",
      "\\m otitle-> (21, 'ls063431068', 'tt0120601')\n",
      "\\m otitle-> (22, 'ls063431068', 'tt0084516')\n",
      "\\m otitle-> (23, 'ls063431068', 'tt0063522')\n",
      "\\m otitle-> (24, 'ls063431068', 'tt0074486')\n",
      "\\m otitle-> (25, 'ls063431068', 'tt0091209')\n",
      "\\m otitle-> (26, 'ls063431068', 'tt0266425')\n",
      "\\m otitle-> (27, 'ls063431068', 'tt0069293')\n",
      "\\m otitle-> (28, 'ls063431068', 'tt0079944')\n",
      "\\m otitle-> (29, 'ls063431068', 'tt0104036')\n",
      "\\m otitle-> (30, 'ls063431068', 'tt3640424')\n",
      "\\m otitle-> (31, 'ls063431068', 'tt0120879')\n",
      "\\m otitle-> (32, 'ls063431068', 'tt0053291')\n",
      "\\m otitle-> (33, 'ls063431068', 'tt0051994')\n",
      "\\m otitle-> (34, 'ls063431068', 'tt1315981')\n",
      "\\m otitle-> (35, 'ls063431068', 'tt2802144')\n",
      "\\m otitle-> (36, 'ls063431068', 'tt0094667')\n",
      "\\m otitle-> (37, 'ls063431068', 'tt0112130')\n",
      "\\m otitle-> (38, 'ls063431068', 'tt4776998')\n",
      "\\m otitle-> (39, 'ls063431068', 'tt0099528')\n",
      "\\m otitle-> (40, 'ls063431068', 'tt0022100')\n",
      "\\m otitle-> (41, 'ls063431068', 'tt0041959')\n",
      "\\m otitle-> (42, 'ls063431068', 'tt0053125')\n",
      "\\m otitle-> (43, 'ls063431068', 'tt2011311')\n",
      "\\m otitle-> (44, 'ls063431068', 'tt0211915')\n",
      "\\m otitle-> (45, 'ls063431068', 'tt0309698')\n",
      "\\m otitle-> (11282, 'ls063431068', 'Const')\n"
     ]
    }
   ],
   "source": [
    "\n",
    "listCompare(\"ls063431068\",\"ls063363649\")"
   ]
  },
  {
   "cell_type": "markdown",
   "metadata": {},
   "source": [
    "print(\"\\n Comenzando descarga de información... por favor espere\")\n",
    "listas= getListImdb(\"https://www.imdb.com/lists/tt0074486?ref_=tt_rls_sm\")\n",
    "\n",
    "if isinstance( listas, list):\n",
    "    toolbar_width = 40\n",
    "    totalIteration = len(listas)\n",
    "    countAdvance=1\n",
    "    # setup toolbar\n",
    "    sys.stdout.write(\"[%s]\" % (\" \" * toolbar_width))\n",
    "    #sys.stdout.flush()\n",
    "    sys.stdout.write(\"\\b\" * (toolbar_width+1)) # return to start of line, after '['\n",
    "    for lista in listas:\n",
    "        # update the bar\n",
    "        sys.stdout.write(\"\\r %d de %d\"%(countAdvance,totalIteration))\n",
    "        \n",
    "        countAdvance+=1\n",
    "        sys.stdout.flush()\n",
    "        time.sleep(1)\n",
    "        idImdb= lista[1]\n",
    "        idImdb = idImdb.split('/',2)[-1]\n",
    "        \n",
    "        #TODO: VALIDAR QUE LISTA[1] ESTE EN LA BD\n",
    "        if not ( idImdbExists( lista[1] ) ):\n",
    "        \n",
    "            #insertList(name, link, metadata, idImdb)\n",
    "            print(\"\\n lista->\",lista[1])\n",
    "            fileNameList = downloadExcel(\"https://www.imdb.com/list/ls096276650/\")\n",
    "            fileNameList = downloadExcel( lista[1] )\n",
    "            \n",
    "            #TODO: GUARDAR INFORMACION DE LA LISTA\n",
    "            dataCsv= readCsvAndSaved(idImdb)\n",
    "            \n",
    "            \n",
    "            insertList(lista[0], lista[1], lista[2],idImdb)\n",
    "    sys.stdout.write(\"]\\n\") # this ends the progress bar\n",
    "else:\n",
    "    print( \"\\nProblema al descargar la data: \", listas)\n",
    "print(\"\\nDescargas completada!\")"
   ]
  },
  {
   "cell_type": "code",
   "execution_count": null,
   "metadata": {},
   "outputs": [],
   "source": []
  }
 ],
 "metadata": {
  "kernelspec": {
   "display_name": "Python 3",
   "language": "python",
   "name": "python3"
  },
  "language_info": {
   "codemirror_mode": {
    "name": "ipython",
    "version": 3
   },
   "file_extension": ".py",
   "mimetype": "text/x-python",
   "name": "python",
   "nbconvert_exporter": "python",
   "pygments_lexer": "ipython3",
   "version": "3.7.5"
  }
 },
 "nbformat": 4,
 "nbformat_minor": 2
}
