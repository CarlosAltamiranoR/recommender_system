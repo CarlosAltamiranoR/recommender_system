{
 "cells": [
  {
   "cell_type": "code",
   "execution_count": 1,
   "metadata": {},
   "outputs": [],
   "source": [
    "def estaEnArreglo( comparar,arreglo ):\n",
    "    \n",
    "    for aux in arreglo:\n",
    "        if comparar == aux: \n",
    "            return True\n",
    "        \n",
    "    return False"
   ]
  },
  {
   "cell_type": "code",
   "execution_count": 2,
   "metadata": {},
   "outputs": [
    {
     "data": {
      "text/plain": [
       "47"
      ]
     },
     "execution_count": 2,
     "metadata": {},
     "output_type": "execute_result"
    }
   ],
   "source": [
    "# Python code for 2D random walk. \n",
    "import numpy \n",
    "import pylab \n",
    "import random \n",
    "from bd import *\n",
    "\n",
    "#Seleccionamos una pelicula para iniciar Random Walk\n",
    "peliculaInicial = 'tt0111161'\n",
    "\n",
    "\n",
    "if not existeTittleEnAsociacion( peliculaInicial ) and not existeMetadaDeTittle( peliculaInicial ):\n",
    "    startScrapper( peliculaInicial )\n",
    "    \n",
    "#Obtenemos todas las listas asociadas a esa pelicula\n",
    "listas = obtenerListasDesdePelicula( peliculaInicial )\n",
    "    \n",
    "\n",
    "\n",
    "#Instanciamos 2 arreglos para validar peliculas y listas seleccionadas\n",
    "peliculasSeleccionadas = []\n",
    "listasSeleccionadas = []\n",
    "\n",
    "#Declaramos un n para el numero de iteraciones de RW\n",
    "n = 10\n",
    "len( listas )\n"
   ]
  },
  {
   "cell_type": "code",
   "execution_count": 3,
   "metadata": {},
   "outputs": [],
   "source": [
    "#Seleccionamos una lista aleatoria\n",
    "randomList=random.choice( listas )\n",
    "if not existeListaEnAsociacion( randomList ) and existeMetadataDeLista( randomList ): \n",
    "    startScrapper( randomList )\n",
    "    "
   ]
  },
  {
   "cell_type": "code",
   "execution_count": 4,
   "metadata": {},
   "outputs": [
    {
     "name": "stdout",
     "output_type": "stream",
     "text": [
      "ls081909036 No esta en arreglo\n",
      "ls058681509 No esta en arreglo\n",
      "ls034490672 No esta en arreglo\n",
      "ls051062209 No esta en arreglo\n",
      "ls050661949 No esta en arreglo\n",
      "ls080676024 No esta en arreglo\n",
      "ls004533855 No esta en arreglo\n",
      "ls043208888 No esta en arreglo\n",
      "ls066180027 No esta en arreglo\n"
     ]
    }
   ],
   "source": [
    "\n",
    "for i in range(1, 10): \n",
    "#Validamos que la lista no ha sido seleccionada\n",
    "    if not estaEnArreglo(randomList,listasSeleccionadas):\n",
    "        \n",
    "        print(randomList+\" No esta en arreglo\")\n",
    "\n",
    "        #Añadimos la lista seleccionada al arreglo\n",
    "        listasSeleccionadas.append(randomList)\n",
    "\n",
    "        #Obtenemos las peliculas de esa lista\n",
    "        peliculas= obtenerTituloDesdeLista(randomList)\n",
    "\n",
    "        #TODO: VALIDAR Y DESCARGAR SI NO ESTA GUARDADA\n",
    "\n",
    "        #Seleccionamos una pelicula aleatoria\n",
    "        randomPeli= random.choice(peliculas)\n",
    "\n",
    "        if not estaEnArreglo(randomPeli,peliculasSeleccionadas) and not randomPeli == peliculaInicial:\n",
    "\n",
    "            #Añadimos la pelicula seleccionada al arreglo \n",
    "            peliculasSeleccionadas.append(randomPeli)\n",
    "\n",
    "            #Agregamos a la cola las listas asociadas a la nueva pelicula seleccionada\n",
    "            listas=listas+obtenerListasDesdePelicula(randomPeli)\n",
    "        \n",
    "        randomList=random.choice( listas )\n",
    "    else:\n",
    "        print(randomList+\" Si esta en arreglo\")\n"
   ]
  },
  {
   "cell_type": "code",
   "execution_count": 5,
   "metadata": {},
   "outputs": [
    {
     "data": {
      "text/plain": [
       "['tt1245526',\n",
       " 'tt0363988',\n",
       " 'tt0317919',\n",
       " 'tt0822854',\n",
       " 'tt2096673',\n",
       " 'tt0114814',\n",
       " 'tt2379713',\n",
       " 'tt0119094',\n",
       " 'tt3922818']"
      ]
     },
     "execution_count": 5,
     "metadata": {},
     "output_type": "execute_result"
    }
   ],
   "source": [
    "peliculasSeleccionadas\n"
   ]
  },
  {
   "cell_type": "code",
   "execution_count": 6,
   "metadata": {},
   "outputs": [
    {
     "data": {
      "text/plain": [
       "['ls034490672',\n",
       " 'ls023589784',\n",
       " 'ls033953605',\n",
       " 'ls081909036',\n",
       " 'ls091698257',\n",
       " 'ls087533142',\n",
       " 'ls097009563',\n",
       " 'ls091974064',\n",
       " 'ls081475916',\n",
       " 'ls083676617',\n",
       " 'ls043208888',\n",
       " 'ls081287126',\n",
       " 'ls087574636',\n",
       " 'ls090741817',\n",
       " 'ls063707389',\n",
       " 'ls081208763',\n",
       " 'ls070405453',\n",
       " 'ls062157502',\n",
       " 'ls085369622',\n",
       " 'ls080676024',\n",
       " 'ls041571060',\n",
       " 'ls029483410',\n",
       " 'ls022733799',\n",
       " 'ls099181441',\n",
       " 'ls081126613',\n",
       " 'ls098575541',\n",
       " 'ls054370129',\n",
       " 'ls021901694',\n",
       " 'ls033234501',\n",
       " 'ls056833544',\n",
       " 'ls008819860',\n",
       " 'ls050661949',\n",
       " 'ls057567332',\n",
       " 'ls004533855',\n",
       " 'ls076443759',\n",
       " 'ls093111002',\n",
       " 'ls057556578',\n",
       " 'ls052873121',\n",
       " 'ls059397520',\n",
       " 'ls058681509',\n",
       " 'ls064083027',\n",
       " 'ls006835625',\n",
       " 'ls087349317',\n",
       " 'ls051062209',\n",
       " 'ls062398287',\n",
       " 'ls054137457',\n",
       " 'ls043785119',\n",
       " 'ls034490672',\n",
       " 'ls081909036',\n",
       " 'ls066859266',\n",
       " 'ls083929222',\n",
       " 'ls027229814',\n",
       " 'ls082574462',\n",
       " 'ls095998174',\n",
       " 'ls056833544',\n",
       " 'ls008819860',\n",
       " 'ls050661949',\n",
       " 'ls004934094',\n",
       " 'ls004533855',\n",
       " 'ls076443759',\n",
       " 'ls057556578',\n",
       " 'ls004784634',\n",
       " 'ls058681509',\n",
       " 'ls064083027',\n",
       " 'ls006835625',\n",
       " 'ls051062209',\n",
       " 'ls062398287',\n",
       " 'ls066180027',\n",
       " 'ls054137457',\n",
       " 'ls034490672',\n",
       " 'ls054370129',\n",
       " 'ls001816196',\n",
       " 'ls033234501',\n",
       " 'ls008819860',\n",
       " 'ls004533855',\n",
       " 'ls076443759',\n",
       " 'ls058681509',\n",
       " 'ls034490672',\n",
       " 'ls066859266',\n",
       " 'ls083929222',\n",
       " 'ls082574462',\n",
       " 'ls056833544',\n",
       " 'ls008819860',\n",
       " 'ls050661949',\n",
       " 'ls057567332',\n",
       " 'ls004533855',\n",
       " 'ls076443759',\n",
       " 'ls057556578',\n",
       " 'ls004784634',\n",
       " 'ls064083027',\n",
       " 'ls087349317',\n",
       " 'ls062398287',\n",
       " 'ls066180027',\n",
       " 'ls054137457',\n",
       " 'ls063881472',\n",
       " 'ls082574462',\n",
       " 'ls095998174',\n",
       " 'ls056833544',\n",
       " 'ls008819860',\n",
       " 'ls050661949',\n",
       " 'ls004533855',\n",
       " 'ls076443759',\n",
       " 'ls004784634',\n",
       " 'ls058681509',\n",
       " 'ls064083027',\n",
       " 'ls006835625',\n",
       " 'ls051062209',\n",
       " 'ls054137457',\n",
       " 'ls003965403',\n",
       " 'ls023589784',\n",
       " 'ls033953605',\n",
       " 'ls054370129',\n",
       " 'ls001816196',\n",
       " 'ls056833544',\n",
       " 'ls050661949',\n",
       " 'ls057567332',\n",
       " 'ls004934094',\n",
       " 'ls004533855',\n",
       " 'ls076443759',\n",
       " 'ls008895489',\n",
       " 'ls006835625',\n",
       " 'ls051062209',\n",
       " 'ls062398287',\n",
       " 'ls063431068',\n",
       " 'ls023589784',\n",
       " 'ls033953605',\n",
       " 'ls091974064',\n",
       " 'ls043208888',\n",
       " 'ls087574636',\n",
       " 'ls085369622',\n",
       " 'ls080676024',\n",
       " 'ls098575541',\n",
       " 'ls021901694',\n",
       " 'ls033234501',\n",
       " 'ls056833544',\n",
       " 'ls008819860',\n",
       " 'ls050661949',\n",
       " 'ls004934094',\n",
       " 'ls004533855',\n",
       " 'ls076443759',\n",
       " 'ls093111002',\n",
       " 'ls057556578',\n",
       " 'ls008895489',\n",
       " 'ls059397520',\n",
       " 'ls058681509',\n",
       " 'ls064083027',\n",
       " 'ls006835625',\n",
       " 'ls023260357',\n",
       " 'ls051062209',\n",
       " 'ls004480821',\n",
       " 'ls094454915',\n",
       " 'ls066859266',\n",
       " 'ls001816196',\n",
       " 'ls083929222',\n",
       " 'ls033234501',\n",
       " 'ls056833544',\n",
       " 'ls008819860',\n",
       " 'ls004533855',\n",
       " 'ls076443759',\n",
       " 'ls004784634',\n",
       " 'ls064083027',\n",
       " 'ls006835625',\n",
       " 'ls071450194',\n",
       " 'ls066180027',\n",
       " 'ls054137457',\n",
       " 'ls063881472',\n",
       " 'ls043208888',\n",
       " 'ls054370129',\n",
       " 'ls033234501',\n",
       " 'ls008819860',\n",
       " 'ls004533855',\n",
       " 'ls076443759',\n",
       " 'ls057556578',\n",
       " 'ls008895489',\n",
       " 'ls004784634',\n",
       " 'ls059397520',\n",
       " 'ls058681509',\n",
       " 'ls064083027',\n",
       " 'ls006835625',\n",
       " 'ls023260357',\n",
       " 'ls087349317',\n",
       " 'ls071450194',\n",
       " 'ls054137457',\n",
       " 'ls095998174',\n",
       " 'ls070739908',\n",
       " 'ls073061632',\n",
       " 'ls062398287',\n",
       " 'ls066180027',\n",
       " 'ls054137457']"
      ]
     },
     "execution_count": 6,
     "metadata": {},
     "output_type": "execute_result"
    }
   ],
   "source": [
    "listas"
   ]
  },
  {
   "cell_type": "code",
   "execution_count": 7,
   "metadata": {},
   "outputs": [
    {
     "data": {
      "text/plain": [
       "['tt0361748']"
      ]
     },
     "execution_count": 7,
     "metadata": {},
     "output_type": "execute_result"
    }
   ],
   "source": [
    "peliculasSeleccionadas"
   ]
  },
  {
   "cell_type": "code",
   "execution_count": 1,
   "metadata": {},
   "outputs": [
    {
     "name": "stdout",
     "output_type": "stream",
     "text": [
      "\n",
      " Comenzando comprobación y descarga de información OriginList[tt1754264] tipoDescarga[2]\n",
      "url number pagina https://www.imdb.com/lists/tt1754264?page=1\n",
      "\n",
      " Numero de paginas 1000\n",
      "\n",
      "Scrapeando:  https://www.imdb.com/lists/tt1754264?page=1\n",
      "\n",
      " Obteniendo metadata de 100 listas\n",
      "url number pagina https://www.imdb.com/lists/tt1754264?page=2\n"
     ]
    },
    {
     "ename": "KeyboardInterrupt",
     "evalue": "",
     "output_type": "error",
     "traceback": [
      "\u001b[1;31m---------------------------------------------------------------------------\u001b[0m",
      "\u001b[1;31mKeyboardInterrupt\u001b[0m                         Traceback (most recent call last)",
      "\u001b[1;32m<ipython-input-1-4c9730b85b48>\u001b[0m in \u001b[0;36m<module>\u001b[1;34m\u001b[0m\n\u001b[0;32m      1\u001b[0m \u001b[1;32mfrom\u001b[0m \u001b[0mscrapper\u001b[0m \u001b[1;32mimport\u001b[0m \u001b[1;33m*\u001b[0m\u001b[1;33m\u001b[0m\u001b[1;33m\u001b[0m\u001b[0m\n\u001b[0;32m      2\u001b[0m \u001b[1;33m\u001b[0m\u001b[0m\n\u001b[1;32m----> 3\u001b[1;33m \u001b[0mstartScrapper\u001b[0m\u001b[1;33m(\u001b[0m\u001b[1;34m'tt1754264'\u001b[0m\u001b[1;33m)\u001b[0m\u001b[1;33m\u001b[0m\u001b[1;33m\u001b[0m\u001b[0m\n\u001b[0m\u001b[0;32m      4\u001b[0m \u001b[1;33m\u001b[0m\u001b[0m\n",
      "\u001b[1;32m~\\Documents\\recommender_system\\scrapper.py\u001b[0m in \u001b[0;36mstartScrapper\u001b[1;34m(idElement, idListToCompare)\u001b[0m\n\u001b[0;32m    344\u001b[0m         \u001b[1;31m# Descarga de listas en base a una pelicula\u001b[0m\u001b[1;33m\u001b[0m\u001b[1;33m\u001b[0m\u001b[1;33m\u001b[0m\u001b[0m\n\u001b[0;32m    345\u001b[0m \u001b[1;33m\u001b[0m\u001b[0m\n\u001b[1;32m--> 346\u001b[1;33m         \u001b[0mlistas\u001b[0m \u001b[1;33m=\u001b[0m \u001b[0mobtenerListasDesdeTitulo\u001b[0m\u001b[1;33m(\u001b[0m \u001b[0midElement\u001b[0m \u001b[1;33m)\u001b[0m\u001b[1;33m\u001b[0m\u001b[1;33m\u001b[0m\u001b[0m\n\u001b[0m\u001b[0;32m    347\u001b[0m \u001b[1;33m\u001b[0m\u001b[0m\n\u001b[0;32m    348\u001b[0m         \u001b[0mtoolbar_width\u001b[0m \u001b[1;33m=\u001b[0m \u001b[1;36m40\u001b[0m\u001b[1;33m\u001b[0m\u001b[1;33m\u001b[0m\u001b[0m\n",
      "\u001b[1;32m~\\Documents\\recommender_system\\scrapper.py\u001b[0m in \u001b[0;36mobtenerListasDesdeTitulo\u001b[1;34m(idTittle)\u001b[0m\n\u001b[0;32m    167\u001b[0m     \u001b[1;32mwhile\u001b[0m \u001b[0mnumPaginas\u001b[0m \u001b[1;33m>\u001b[0m \u001b[1;36m0\u001b[0m\u001b[1;33m:\u001b[0m\u001b[1;33m\u001b[0m\u001b[1;33m\u001b[0m\u001b[0m\n\u001b[0;32m    168\u001b[0m \u001b[1;33m\u001b[0m\u001b[0m\n\u001b[1;32m--> 169\u001b[1;33m         \u001b[0mtime\u001b[0m\u001b[1;33m.\u001b[0m\u001b[0msleep\u001b[0m\u001b[1;33m(\u001b[0m\u001b[1;36m10\u001b[0m\u001b[1;33m)\u001b[0m \u001b[1;31m# se da una pausa de 10 segundo, para no saturar de peticiones a IMDB\u001b[0m\u001b[1;33m\u001b[0m\u001b[1;33m\u001b[0m\u001b[0m\n\u001b[0m\u001b[0;32m    170\u001b[0m         \u001b[0mprint\u001b[0m\u001b[1;33m(\u001b[0m\u001b[1;34m\"\\n Numero de paginas\"\u001b[0m\u001b[1;33m,\u001b[0m \u001b[0mnumPaginas\u001b[0m\u001b[1;33m)\u001b[0m\u001b[1;33m\u001b[0m\u001b[1;33m\u001b[0m\u001b[0m\n\u001b[0;32m    171\u001b[0m \u001b[1;33m\u001b[0m\u001b[0m\n",
      "\u001b[1;31mKeyboardInterrupt\u001b[0m: "
     ]
    }
   ],
   "source": [
    "\n"
   ]
  },
  {
   "cell_type": "code",
   "execution_count": null,
   "metadata": {},
   "outputs": [],
   "source": []
  }
 ],
 "metadata": {
  "kernelspec": {
   "display_name": "Python 3",
   "language": "python",
   "name": "python3"
  },
  "language_info": {
   "codemirror_mode": {
    "name": "ipython",
    "version": 3
   },
   "file_extension": ".py",
   "mimetype": "text/x-python",
   "name": "python",
   "nbconvert_exporter": "python",
   "pygments_lexer": "ipython3",
   "version": "3.7.4"
  }
 },
 "nbformat": 4,
 "nbformat_minor": 4
}
