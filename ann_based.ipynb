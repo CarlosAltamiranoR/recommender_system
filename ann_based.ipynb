{
 "cells": [
  {
   "cell_type": "code",
   "execution_count": 1,
   "metadata": {},
   "outputs": [
    {
     "name": "stdin",
     "output_type": "stream",
     "text": [
      " ········\n"
     ]
    }
   ],
   "source": [
    "from bd import *\n",
    "from rs import *\n",
    "from  scrapper import *\n",
    "import requests"
   ]
  },
  {
   "cell_type": "code",
   "execution_count": 2,
   "metadata": {},
   "outputs": [],
   "source": [
    "lsname = \"asmr\"\n",
    "lssize = 224"
   ]
  },
  {
   "cell_type": "markdown",
   "metadata": {},
   "source": [
    "**Obtener películas de una lista**"
   ]
  },
  {
   "cell_type": "code",
   "execution_count": 3,
   "metadata": {},
   "outputs": [
    {
     "name": "stdout",
     "output_type": "stream",
     "text": [
      "['mulholland-drive', 'the-tree-of-life-2011', 'roma-2018', 'moonlight-2016', 'whiplash-2014', 'uncut-gems', 'uncle-boonmee-who-can-recall-', 'where-the-wild-things-are', 'birdman-or-the-unexpected-vir', 'the-diving-bell-and-the-butte']\n"
     ]
    }
   ],
   "source": [
    "def get_movies(idList):      \n",
    "    sql  = \"SELECT id_tittlelist FROM list_tittlelist where id_list=%s \"\n",
    "    with conn.cursor() as cursor:\n",
    "        cursor.execute( sql, (idList) )\n",
    "        value = cursor.fetchall()\n",
    "        if len(value) <= 0:\n",
    "            return None\n",
    "\n",
    "    movies = []\n",
    "    for m in value: movies.append(m[0])\n",
    "    return movies\n",
    "print(get_movies(\"asmr1001\"))"
   ]
  },
  {
   "cell_type": "markdown",
   "metadata": {},
   "source": [
    "**Obtener listas que contienen una película**"
   ]
  },
  {
   "cell_type": "code",
   "execution_count": 4,
   "metadata": {},
   "outputs": [],
   "source": [
    "def get_lists(idMovie):      \n",
    "    sql  = \"SELECT id_list FROM list_tittlelist where id_tittlelist=%s \"\n",
    "    with conn.cursor() as cursor:\n",
    "        cursor.execute( sql, (idMovie) )\n",
    "        value = cursor.fetchall()\n",
    "        if len(value) <= 0:\n",
    "            return None\n",
    "\n",
    "        lists = []\n",
    "        for l in value: lists.append(l[0])\n",
    "    return lists"
   ]
  },
  {
   "cell_type": "code",
   "execution_count": 5,
   "metadata": {},
   "outputs": [],
   "source": [
    "mov2index = dict(); all_movies2 = []\n",
    "id=1001; idm=0\n",
    "while existeEnListTittleList(lsname+str(id)):\n",
    "    for m in get_movies(lsname+str(id)):\n",
    "        if m not in mov2index:\n",
    "            mov2index[m]=idm\n",
    "            all_movies2.append(m)\n",
    "            idm += 1\n",
    "    id += 1"
   ]
  },
  {
   "cell_type": "code",
   "execution_count": 6,
   "metadata": {},
   "outputs": [
    {
     "data": {
      "text/plain": [
       "1248"
      ]
     },
     "execution_count": 6,
     "metadata": {},
     "output_type": "execute_result"
    }
   ],
   "source": [
    "len(mov2index)"
   ]
  },
  {
   "cell_type": "code",
   "execution_count": 7,
   "metadata": {},
   "outputs": [],
   "source": [
    "import random\n",
    "import numpy as np\n",
    "def mov2vec(movies, mov2index):\n",
    "    size = len (mov2index)\n",
    "    vec = np.zeros(size)\n",
    "    for m in movies:\n",
    "        vec[mov2index[m]] = 1.0/len(movies)\n",
    "    return vec\n",
    "n_data = 10000\n",
    "data_x = np.zeros((n_data, len(mov2index))); data_y = np.zeros((n_data, len(mov2index)));\n",
    "for i in range(0,n_data):\n",
    "    j = random.randint(1001,1000+lssize)\n",
    "    movies = get_movies(lsname+str(j))\n",
    "    sz = len(movies)\n",
    "    cut = random.randint(5,10)\n",
    "    random.shuffle(movies)\n",
    "    l1 = movies[:cut] # first 80% of shuffled list\n",
    "    #l2 = movies[cut:] # last 20% of shuffled list\n",
    "    data_x[i] = mov2vec(l1, mov2index)\n",
    "    data_y[i] = mov2vec(movies, mov2index)\n",
    "    "
   ]
  },
  {
   "cell_type": "code",
   "execution_count": 54,
   "metadata": {},
   "outputs": [],
   "source": [
    "from numpy import loadtxt\n",
    "from keras.models import Sequential\n",
    "from keras.layers import Dense\n",
    "\n",
    "N = len (mov2index)\n",
    "def baseline_model():\n",
    "    # define the keras model\n",
    "    model = Sequential()\n",
    "    model.add(Dense(100, input_dim=N, activation='relu'))  # \"attributes\" layer\n",
    "    #model.add(Dense(20, activation='relu'))  # \"attributes\" layer\n",
    "    model.add(Dense(N))\n",
    "    model.compile(loss='mse', optimizer='adam', metrics=['mse'])\n",
    "    return model"
   ]
  },
  {
   "cell_type": "code",
   "execution_count": 55,
   "metadata": {},
   "outputs": [
    {
     "data": {
      "text/plain": [
       "<keras.callbacks.callbacks.History at 0x29125d874e0>"
      ]
     },
     "execution_count": 55,
     "metadata": {},
     "output_type": "execute_result"
    }
   ],
   "source": [
    "from keras.wrappers.scikit_learn import KerasRegressor\n",
    "from sklearn.model_selection import cross_val_score\n",
    "from sklearn.model_selection import KFold\n",
    "\n",
    "estimator = KerasRegressor(build_fn=baseline_model, epochs=100, batch_size=500, verbose=False)\n",
    "estimator.fit(data_x, data_y)\n",
    "#kfold = KFold(n_splits=10)\n",
    "#results = cross_val_score(estimator, data_x, data_y, cv=kfold)\n",
    "#print(\"Baseline: %.2f (%.2f) MSE\" % (results.mean(), results.std()))"
   ]
  },
  {
   "cell_type": "code",
   "execution_count": 56,
   "metadata": {},
   "outputs": [],
   "source": [
    "def recommend(F, max_listsize=10, block_list=None, t=None, verbose=True):\n",
    "    data_x = mov2vec(F, mov2index)\n",
    "    \n",
    "    data_y = estimator.predict([[data_x]])[0]\n",
    "    \n",
    "    max_indexes = (-data_y).argsort()\n",
    "    recommendations = set()\n",
    "    for i in max_indexes:\n",
    "        \n",
    "        if all_movies2[i] not in F:\n",
    "            if(verbose): print(data_y[i], all_movies2[i])\n",
    "            recommendations.add (all_movies2[i])\n",
    "            if len(recommendations) == max_listsize: break  \n",
    "    return recommendations, \"\""
   ]
  },
  {
   "cell_type": "code",
   "execution_count": 57,
   "metadata": {},
   "outputs": [
    {
     "name": "stdout",
     "output_type": "stream",
     "text": [
      "0.050165467 portrait-of-a-lady-on-fire\n",
      "0.044624515 my-neighbor-totoro\n",
      "0.043425757 raise-the-red-lantern\n",
      "0.0421568 into-the-wild\n",
      "0.0323621 us-and-them-2018\n",
      "0.032179423 blue-jay-2016\n",
      "0.032126345 i-dream-in-another-language\n",
      "0.031425893 wolf-children\n",
      "0.028434215 arrival-2016\n",
      "0.024781276 tracks-2013\n",
      "0.024473554 the-illusionist-2010\n",
      "0.024139224 night-is-short-walk-on-girl\n",
      "0.023511218 moonlight-2016\n",
      "0.02268316 under-the-skin-2013\n",
      "0.022627313 lunana-a-yak-in-the-classroom\n",
      "0.021989686 rent-a-cat\n",
      "0.021754943 the-many-adventures-of-winnie\n",
      "0.021654148 away-2019\n",
      "0.020772811 blue-2002\n",
      "0.020566527 lost-in-translation\n",
      "0.019393824 before-sunset\n",
      "0.016242163 the-farewell-2019\n",
      "0.01612431 your-name\n",
      "0.015846595 crouching-tiger-hidden-dragon\n",
      "0.015622478 black-swan\n",
      "0.014245323 three-colors-blue\n",
      "0.013951423 napoleon-dynamite\n",
      "0.011983858 pi\n",
      "0.011927661 howls-moving-castle\n",
      "0.011740699 every-day-a-good-day\n",
      "0.011711991 news-from-home\n",
      "0.011530368 ad-astra-2019\n",
      "0.011526038 what-dreams-may-come\n",
      "0.011413553 paterson\n",
      "0.011177872 babyteeth\n",
      "0.011161464 et-the-extra-terrestrial\n",
      "0.011018977 knives-out-2019\n",
      "0.010825764 days-2020\n",
      "0.010485214 the-lure\n",
      "0.0103461975 oceans-twelve\n",
      "0.009942076 tropical-malady\n",
      "0.009849721 pain-and-glory\n",
      "0.0097400835 morvern-callar\n",
      "0.009730727 first-man\n",
      "0.009617463 misery\n",
      "0.00956429 departures\n",
      "0.00872682 children-of-the-sea\n",
      "0.008370999 the-chambermaid\n",
      "0.008344175 weekend-2011\n",
      "0.008323709 ai-artificial-intelligence\n"
     ]
    }
   ],
   "source": [
    "#M = ['little-forest','columbus-2017','the-tale-of-the-princess-kagu','in-the-mood-for-love','kikis-delivery-service','raise-the-red-lantern','the-tree-of-life-2011','paterson','blade-runner-2049','spirited-away','arrival-2016','the-assassination-of-jesse-ja']\n",
    "M = ['little-forest','columbus-2017','kikis-delivery-service','the-assassination-of-jesse-ja']\n",
    "recommend(M,50,verbose=True)\n",
    "pass"
   ]
  },
  {
   "cell_type": "code",
   "execution_count": 12,
   "metadata": {},
   "outputs": [
    {
     "name": "stdout",
     "output_type": "stream",
     "text": [
      "({'the-insider', 'kikis-delivery-service', 'little-forest', 'edward-scissorhands', 'burning-2018', 'days-of-heaven', 'under-the-skin-2013', 'koyaanisqatsi', 'call-me-by-your-name', 'my-neighbor-totoro'}, '')\n",
      "['blow-out', 'dazed-and-confused', 'the-general', 'the-artist', 'scream', 'its-such-a-beautiful-day', 'white-chicks', 'star-wars']\n"
     ]
    }
   ],
   "source": [
    "m = get_movies(lsname+\"1161\")\n",
    "random.shuffle(m)\n",
    "l1 = m[:3] # first 80% of shuffled list\n",
    "l2 = m[3:] # last 20% of shuffled list\n",
    "\n",
    "data = mov2vec(l1, mov2index)\n",
    "\n",
    "print(recommend(l1,10))\n",
    "print(l2)\n",
    "#print(np.array(data))"
   ]
  },
  {
   "cell_type": "code",
   "execution_count": 13,
   "metadata": {},
   "outputs": [],
   "source": [
    "all_movies=[]\n",
    "id=1001\n",
    "while existeEnListTittleList(\"asmr\"+str(id)):\n",
    "    all_movies += get_movies(\"asmr\"+str(id))\n",
    "    id += 1"
   ]
  },
  {
   "cell_type": "code",
   "execution_count": 14,
   "metadata": {},
   "outputs": [
    {
     "data": {
      "text/plain": [
       "2967"
      ]
     },
     "execution_count": 14,
     "metadata": {},
     "output_type": "execute_result"
    }
   ],
   "source": [
    "len(all_movies)"
   ]
  },
  {
   "cell_type": "code",
   "execution_count": 15,
   "metadata": {},
   "outputs": [
    {
     "name": "stdout",
     "output_type": "stream",
     "text": [
      "lista \tr_success \trw_success \t#recom \t lenM\n",
      "asmr1101\t0.02\t0.29000000000000004\t10.0\t18\n",
      "asmr1102\t0.06666666666666667\t1.0\t10.0\t8\n",
      "asmr1106\t0.08\t0.22000000000000003\t10.0\t23\n",
      "asmr1107\t0.03333333333333333\t0.7333333333333334\t10.0\t8\n",
      "asmr1108\t0.06666666666666667\t0.16666666666666666\t10.0\t8\n",
      "asmr1109\t0.05\t0.25\t10.0\t7\n",
      "asmr1110\t0.07142857142857142\t0.5999999999999999\t10.0\t12\n",
      "asmr1111\t0.1\t0.7999999999999999\t10.0\t10\n",
      "asmr1112\t0.0\t0.45\t10.0\t7\n",
      "asmr1113\t0.02\t0.5599999999999999\t10.0\t10\n",
      "asmr1114\t0.06666666666666667\t0.9666666666666666\t10.0\t8\n",
      "asmr1115\t0.04\t0.6799999999999999\t10.0\t10\n",
      "asmr1118\t0.025\t0.7\t10.0\t9\n",
      "asmr1119\t0.1\t0.75\t10.0\t9\n",
      "asmr1120\t0.02\t0.09999999999999999\t10.0\t27\n",
      "asmr1121\t0.06000000000000001\t0.23000000000000004\t10.0\t18\n",
      "asmr1123\t0.06000000000000001\t0.7999999999999999\t10.0\t10\n",
      "asmr1124\t0.05\t0.23000000000000004\t10.0\t31\n",
      "asmr1125\t0.0\t1.0\t10.0\t8\n",
      "asmr1126\t0.1\t0.4\t10.0\t7\n",
      "asmr1127\t0.09\t0.39\t10.0\t30\n",
      "asmr1128\t0.02\t0.12000000000000002\t10.0\t10\n",
      "asmr1130\t0.1\t0.54\t10.0\t10\n",
      "asmr1131\t0.05\t0.075\t10.0\t9\n",
      "asmr1132\t0.03333333333333333\t0.9\t10.0\t8\n",
      "asmr1134\t0.15\t0.4\t10.0\t7\n",
      "asmr1135\t0.02\t0.07999999999999999\t10.0\t15\n",
      "asmr1136\t0.1\t0.6666666666666666\t10.0\t8\n",
      "asmr1137\t0.025\t0.5\t10.0\t9\n",
      "asmr1138\t0.0\t0.325\t10.0\t9\n",
      "asmr1139\t0.030000000000000006\t0.18\t10.0\t15\n",
      "asmr1141\t0.05\t0.13\t10.0\t29\n",
      "asmr1143\t0.0\t0.5333333333333333\t10.0\t8\n",
      "asmr1144\t0.03333333333333333\t0.2\t10.0\t14\n",
      "asmr1146\t0.0\t0.4\t10.0\t7\n",
      "asmr1148\t0.03333333333333333\t0.4666666666666667\t10.0\t8\n",
      "asmr1149\t0.075\t0.775\t10.0\t9\n",
      "asmr1150\t0.025\t0.8\t10.0\t9\n",
      "asmr1151\t0.025\t0.75\t10.0\t9\n",
      "asmr1152\t0.0375\t0.375\t10.0\t13\n",
      "asmr1153\t0.06666666666666667\t0.3333333333333333\t10.0\t8\n",
      "asmr1154\t0.06666666666666667\t1.0\t10.0\t8\n",
      "asmr1155\t0.03333333333333333\t0.4\t10.0\t8\n",
      "asmr1156\t0.05\t0.25000000000000006\t10.0\t32\n",
      "asmr1158\t0.075\t0.9\t10.0\t9\n",
      "asmr1162\t0.075\t1.0\t10.0\t9\n",
      "asmr1164\t0.0\t0.2\t10.0\t7\n",
      "asmr1166\t0.0\t0.2375\t10.0\t13\n",
      "asmr1167\t0.06000000000000001\t0.26\t10.0\t10\n",
      "asmr1168\t0.0\t0.45\t10.0\t7\n",
      "asmr1170\t0.0\t0.55\t10.0\t7\n",
      "asmr1172\t0.09\t0.53\t10.0\t25\n",
      "asmr1173\t0.02857142857142857\t0.14285714285714285\t10.0\t12\n",
      "asmr1174\t0.07999999999999999\t0.27999999999999997\t10.0\t17\n",
      "asmr1175\t0.1\t0.6\t10.0\t7\n",
      "asmr1176\t0.0\t0.85\t10.0\t7\n",
      "asmr1177\t0.05\t0.8\t10.0\t9\n",
      "asmr1179\t0.0\t1.0\t10.0\t7\n",
      "asmr1180\t0.05\t0.425\t10.0\t9\n",
      "asmr1181\t0.03333333333333333\t0.24444444444444446\t10.0\t14\n",
      "asmr1182\t0.05\t0.65\t10.0\t7\n",
      "asmr1185\t0.1\t0.6\t10.0\t10\n",
      "asmr1186\t0.0\t0.1\t10.0\t9\n",
      "asmr1187\t0.0\t0.66\t10.0\t10\n",
      "asmr1188\t0.1\t0.5666666666666667\t10.0\t8\n",
      "asmr1189\t0.08\t0.74\t10.0\t10\n",
      "asmr1190\t0.02857142857142857\t0.3285714285714285\t10.0\t12\n",
      "asmr1191\t0.025\t0.575\t10.0\t9\n",
      "asmr1193\t0.075\t0.45\t10.0\t9\n",
      "asmr1197\t0.025\t0.85\t10.0\t9\n",
      "asmr1198\t0.05\t0.45\t10.0\t9\n",
      "asmr1199\t0.05\t0.37\t10.0\t15\n",
      "asmr1200\t0.04\t0.9400000000000001\t10.0\t10\n",
      "asmr1202\t0.0\t0.4333333333333333\t10.0\t8\n",
      "asmr1203\t0.1\t0.4\t10.0\t7\n",
      "asmr1205\t0.0\t0.44000000000000006\t10.0\t10\n",
      "asmr1206\t0.05\t0.34\t10.0\t27\n",
      "asmr1207\t0.0\t0.35\t10.0\t7\n",
      "asmr1209\t0.16999999999999998\t0.8700000000000001\t10.0\t20\n",
      "asmr1210\t0.025\t0.425\t10.0\t9\n",
      "asmr1214\t0.075\t0.15\t10.0\t9\n",
      "asmr1216\t0.0\t0.09999999999999999\t10.0\t11\n",
      "asmr1217\t0.04\t0.5999999999999999\t10.0\t10\n",
      "asmr1218\t0.0\t0.9333333333333332\t10.0\t8\n",
      "asmr1220\t0.0\t0.8\t10.0\t7\n",
      "asmr1221\t0.04\t0.8400000000000001\t10.0\t10\n",
      "asmr1223\t0.0\t0.0\t10.0\t9\n",
      "0.3573038456575042\n"
     ]
    }
   ],
   "source": [
    "import random\n",
    "random.seed(1)\n",
    "def validate(list_name, nsample=3, npred=5, t=0.2):\n",
    "    rw_tot_success = 0\n",
    "    rand_tot_success = 0\n",
    "    tot_size = 0\n",
    "    \n",
    "    M = get_movies(list_name) #se obtienen las pelis de la lista\n",
    "    \n",
    "\n",
    "    for m in M: \n",
    "        if m in all_movies: all_movies.remove(m)\n",
    "            \n",
    "    if verbose: print(\"movies:\", M)\n",
    "\n",
    "    #se filtran las películas que solo aprecen en la lista M\n",
    "    M = [x for x in M if x in all_movies]\n",
    "    \n",
    "    \n",
    "    if len(M)>=nsample+2:\n",
    "    \n",
    "        for i in range(10):\n",
    "            # recommendation using random walk\n",
    "            source_movies = random.sample(M,nsample) #seleccionamos nsample pelis al azar\n",
    "            if verbose: print(\"source_movies:\",source_movies)\n",
    "\n",
    "            num = np.minimum(npred,len(M)-nsample) #número de películas a recomendar\n",
    "            recommendations,_ = recommend(source_movies, max_listsize=npred, block_list=list_name, t=t) \n",
    "            MM = [x for x in M if x not in source_movies]\n",
    "            rw_tot_success += len(recommendations.intersection(MM))/float(num)\n",
    "            tot_size += len(recommendations)\n",
    "            if verbose: print(\"rw_recommendations:\",recommendations)\n",
    "\n",
    "            # random recommendation\n",
    "\n",
    "            recommendations = random.sample(all_movies,npred)\n",
    "            recommendations = set(recommendations)\n",
    "            rand_tot_success += len(recommendations.intersection(MM))/float(num)\n",
    "            if verbose: print(\"r_recommendations\",recommendations)\n",
    "        \n",
    "        print(list_name +\"\\t\"+ str(rand_tot_success/10.0) +\"\\t\"+ str(rw_tot_success/10.0) +\"\\t\" \\\n",
    "              + str(tot_size/10.0) + \"\\t\" + str(len(M)) )\n",
    "\n",
    "    M = get_movies(list_name) \n",
    "    for m in M: all_movies.append(m)\n",
    "    if rw_tot_success!=None: return rw_tot_success/10.0\n",
    "    else: return 0.0\n",
    "\n",
    "verbose=False\n",
    "print(\"lista \\tr_success \\trw_success \\t#recom \\t lenM\")\n",
    "#validate(\"ms2019_ls1001\", t=1.0, nsample=5, npred=10)\n",
    "tot_success = 0.0; count=0\n",
    "for i in range(101,lssize):\n",
    "    #if i>100:\n",
    "    tot_success += validate(\"asmr\"+str(1000+i), t=1.0, nsample=5, npred=10)\n",
    "    count +=1\n",
    "print(tot_success/count)"
   ]
  },
  {
   "cell_type": "code",
   "execution_count": null,
   "metadata": {},
   "outputs": [],
   "source": []
  }
 ],
 "metadata": {
  "kernelspec": {
   "display_name": "Python 3",
   "language": "python",
   "name": "python3"
  },
  "language_info": {
   "codemirror_mode": {
    "name": "ipython",
    "version": 3
   },
   "file_extension": ".py",
   "mimetype": "text/x-python",
   "name": "python",
   "nbconvert_exporter": "python",
   "pygments_lexer": "ipython3",
   "version": "3.7.3"
  }
 },
 "nbformat": 4,
 "nbformat_minor": 4
}
