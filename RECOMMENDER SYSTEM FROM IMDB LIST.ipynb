{
 "cells": [
  {
   "cell_type": "markdown",
   "metadata": {},
   "source": [
    "# Importar librerias y connección a BD"
   ]
  },
  {
   "cell_type": "code",
   "execution_count": 1,
   "metadata": {
    "scrolled": true
   },
   "outputs": [
    {
     "ename": "OperationalError",
     "evalue": "(1045, \"Access denied for user 'root'@'localhost' (using password: NO)\")",
     "output_type": "error",
     "traceback": [
      "\u001b[1;31m---------------------------------------------------------------------------\u001b[0m",
      "\u001b[1;31mOperationalError\u001b[0m                          Traceback (most recent call last)",
      "\u001b[1;32m<ipython-input-1-ce88b488cd88>\u001b[0m in \u001b[0;36m<module>\u001b[1;34m()\u001b[0m\n\u001b[0;32m     25\u001b[0m     \u001b[0mpasswd\u001b[0m \u001b[1;33m=\u001b[0m\u001b[1;34m\"\"\u001b[0m\u001b[1;33m,\u001b[0m\u001b[1;33m\u001b[0m\u001b[1;33m\u001b[0m\u001b[0m\n\u001b[0;32m     26\u001b[0m     \u001b[0mdb\u001b[0m \u001b[1;33m=\u001b[0m \u001b[1;34m\"recommender_system\"\u001b[0m\u001b[1;33m,\u001b[0m\u001b[1;33m\u001b[0m\u001b[1;33m\u001b[0m\u001b[0m\n\u001b[1;32m---> 27\u001b[1;33m     charset = 'utf8mb4')\n\u001b[0m\u001b[0;32m     28\u001b[0m \u001b[1;33m\u001b[0m\u001b[0m\n",
      "\u001b[1;32mC:\\Users\\Dell\\Anaconda3\\lib\\site-packages\\pymysql\\__init__.py\u001b[0m in \u001b[0;36mConnect\u001b[1;34m(*args, **kwargs)\u001b[0m\n\u001b[0;32m     92\u001b[0m     \"\"\"\n\u001b[0;32m     93\u001b[0m     \u001b[1;32mfrom\u001b[0m \u001b[1;33m.\u001b[0m\u001b[0mconnections\u001b[0m \u001b[1;32mimport\u001b[0m \u001b[0mConnection\u001b[0m\u001b[1;33m\u001b[0m\u001b[1;33m\u001b[0m\u001b[0m\n\u001b[1;32m---> 94\u001b[1;33m     \u001b[1;32mreturn\u001b[0m \u001b[0mConnection\u001b[0m\u001b[1;33m(\u001b[0m\u001b[1;33m*\u001b[0m\u001b[0margs\u001b[0m\u001b[1;33m,\u001b[0m \u001b[1;33m**\u001b[0m\u001b[0mkwargs\u001b[0m\u001b[1;33m)\u001b[0m\u001b[1;33m\u001b[0m\u001b[1;33m\u001b[0m\u001b[0m\n\u001b[0m\u001b[0;32m     95\u001b[0m \u001b[1;33m\u001b[0m\u001b[0m\n\u001b[0;32m     96\u001b[0m \u001b[1;32mfrom\u001b[0m \u001b[1;33m.\u001b[0m \u001b[1;32mimport\u001b[0m \u001b[0mconnections\u001b[0m \u001b[1;32mas\u001b[0m \u001b[0m_orig_conn\u001b[0m\u001b[1;33m\u001b[0m\u001b[1;33m\u001b[0m\u001b[0m\n",
      "\u001b[1;32mC:\\Users\\Dell\\Anaconda3\\lib\\site-packages\\pymysql\\connections.py\u001b[0m in \u001b[0;36m__init__\u001b[1;34m(self, host, user, password, database, port, unix_socket, charset, sql_mode, read_default_file, conv, use_unicode, client_flag, cursorclass, init_command, connect_timeout, ssl, read_default_group, compress, named_pipe, autocommit, db, passwd, local_infile, max_allowed_packet, defer_connect, auth_plugin_map, read_timeout, write_timeout, bind_address, binary_prefix, program_name, server_public_key)\u001b[0m\n\u001b[0;32m    325\u001b[0m             \u001b[0mself\u001b[0m\u001b[1;33m.\u001b[0m\u001b[0m_sock\u001b[0m \u001b[1;33m=\u001b[0m \u001b[1;32mNone\u001b[0m\u001b[1;33m\u001b[0m\u001b[1;33m\u001b[0m\u001b[0m\n\u001b[0;32m    326\u001b[0m         \u001b[1;32melse\u001b[0m\u001b[1;33m:\u001b[0m\u001b[1;33m\u001b[0m\u001b[1;33m\u001b[0m\u001b[0m\n\u001b[1;32m--> 327\u001b[1;33m             \u001b[0mself\u001b[0m\u001b[1;33m.\u001b[0m\u001b[0mconnect\u001b[0m\u001b[1;33m(\u001b[0m\u001b[1;33m)\u001b[0m\u001b[1;33m\u001b[0m\u001b[1;33m\u001b[0m\u001b[0m\n\u001b[0m\u001b[0;32m    328\u001b[0m \u001b[1;33m\u001b[0m\u001b[0m\n\u001b[0;32m    329\u001b[0m     \u001b[1;32mdef\u001b[0m \u001b[0m_create_ssl_ctx\u001b[0m\u001b[1;33m(\u001b[0m\u001b[0mself\u001b[0m\u001b[1;33m,\u001b[0m \u001b[0msslp\u001b[0m\u001b[1;33m)\u001b[0m\u001b[1;33m:\u001b[0m\u001b[1;33m\u001b[0m\u001b[1;33m\u001b[0m\u001b[0m\n",
      "\u001b[1;32mC:\\Users\\Dell\\Anaconda3\\lib\\site-packages\\pymysql\\connections.py\u001b[0m in \u001b[0;36mconnect\u001b[1;34m(self, sock)\u001b[0m\n\u001b[0;32m    586\u001b[0m \u001b[1;33m\u001b[0m\u001b[0m\n\u001b[0;32m    587\u001b[0m             \u001b[0mself\u001b[0m\u001b[1;33m.\u001b[0m\u001b[0m_get_server_information\u001b[0m\u001b[1;33m(\u001b[0m\u001b[1;33m)\u001b[0m\u001b[1;33m\u001b[0m\u001b[1;33m\u001b[0m\u001b[0m\n\u001b[1;32m--> 588\u001b[1;33m             \u001b[0mself\u001b[0m\u001b[1;33m.\u001b[0m\u001b[0m_request_authentication\u001b[0m\u001b[1;33m(\u001b[0m\u001b[1;33m)\u001b[0m\u001b[1;33m\u001b[0m\u001b[1;33m\u001b[0m\u001b[0m\n\u001b[0m\u001b[0;32m    589\u001b[0m \u001b[1;33m\u001b[0m\u001b[0m\n\u001b[0;32m    590\u001b[0m             \u001b[1;32mif\u001b[0m \u001b[0mself\u001b[0m\u001b[1;33m.\u001b[0m\u001b[0msql_mode\u001b[0m \u001b[1;32mis\u001b[0m \u001b[1;32mnot\u001b[0m \u001b[1;32mNone\u001b[0m\u001b[1;33m:\u001b[0m\u001b[1;33m\u001b[0m\u001b[1;33m\u001b[0m\u001b[0m\n",
      "\u001b[1;32mC:\\Users\\Dell\\Anaconda3\\lib\\site-packages\\pymysql\\connections.py\u001b[0m in \u001b[0;36m_request_authentication\u001b[1;34m(self)\u001b[0m\n\u001b[0;32m    851\u001b[0m \u001b[1;33m\u001b[0m\u001b[0m\n\u001b[0;32m    852\u001b[0m         \u001b[0mself\u001b[0m\u001b[1;33m.\u001b[0m\u001b[0mwrite_packet\u001b[0m\u001b[1;33m(\u001b[0m\u001b[0mdata\u001b[0m\u001b[1;33m)\u001b[0m\u001b[1;33m\u001b[0m\u001b[1;33m\u001b[0m\u001b[0m\n\u001b[1;32m--> 853\u001b[1;33m         \u001b[0mauth_packet\u001b[0m \u001b[1;33m=\u001b[0m \u001b[0mself\u001b[0m\u001b[1;33m.\u001b[0m\u001b[0m_read_packet\u001b[0m\u001b[1;33m(\u001b[0m\u001b[1;33m)\u001b[0m\u001b[1;33m\u001b[0m\u001b[1;33m\u001b[0m\u001b[0m\n\u001b[0m\u001b[0;32m    854\u001b[0m \u001b[1;33m\u001b[0m\u001b[0m\n\u001b[0;32m    855\u001b[0m         \u001b[1;31m# if authentication method isn't accepted the first byte\u001b[0m\u001b[1;33m\u001b[0m\u001b[1;33m\u001b[0m\u001b[1;33m\u001b[0m\u001b[0m\n",
      "\u001b[1;32mC:\\Users\\Dell\\Anaconda3\\lib\\site-packages\\pymysql\\connections.py\u001b[0m in \u001b[0;36m_read_packet\u001b[1;34m(self, packet_type)\u001b[0m\n\u001b[0;32m    674\u001b[0m             \u001b[1;32mif\u001b[0m \u001b[0mself\u001b[0m\u001b[1;33m.\u001b[0m\u001b[0m_result\u001b[0m \u001b[1;32mis\u001b[0m \u001b[1;32mnot\u001b[0m \u001b[1;32mNone\u001b[0m \u001b[1;32mand\u001b[0m \u001b[0mself\u001b[0m\u001b[1;33m.\u001b[0m\u001b[0m_result\u001b[0m\u001b[1;33m.\u001b[0m\u001b[0munbuffered_active\u001b[0m \u001b[1;32mis\u001b[0m \u001b[1;32mTrue\u001b[0m\u001b[1;33m:\u001b[0m\u001b[1;33m\u001b[0m\u001b[1;33m\u001b[0m\u001b[0m\n\u001b[0;32m    675\u001b[0m                 \u001b[0mself\u001b[0m\u001b[1;33m.\u001b[0m\u001b[0m_result\u001b[0m\u001b[1;33m.\u001b[0m\u001b[0munbuffered_active\u001b[0m \u001b[1;33m=\u001b[0m \u001b[1;32mFalse\u001b[0m\u001b[1;33m\u001b[0m\u001b[1;33m\u001b[0m\u001b[0m\n\u001b[1;32m--> 676\u001b[1;33m             \u001b[0mpacket\u001b[0m\u001b[1;33m.\u001b[0m\u001b[0mraise_for_error\u001b[0m\u001b[1;33m(\u001b[0m\u001b[1;33m)\u001b[0m\u001b[1;33m\u001b[0m\u001b[1;33m\u001b[0m\u001b[0m\n\u001b[0m\u001b[0;32m    677\u001b[0m         \u001b[1;32mreturn\u001b[0m \u001b[0mpacket\u001b[0m\u001b[1;33m\u001b[0m\u001b[1;33m\u001b[0m\u001b[0m\n\u001b[0;32m    678\u001b[0m \u001b[1;33m\u001b[0m\u001b[0m\n",
      "\u001b[1;32mC:\\Users\\Dell\\Anaconda3\\lib\\site-packages\\pymysql\\protocol.py\u001b[0m in \u001b[0;36mraise_for_error\u001b[1;34m(self)\u001b[0m\n\u001b[0;32m    221\u001b[0m         \u001b[0merrno\u001b[0m \u001b[1;33m=\u001b[0m \u001b[0mself\u001b[0m\u001b[1;33m.\u001b[0m\u001b[0mread_uint16\u001b[0m\u001b[1;33m(\u001b[0m\u001b[1;33m)\u001b[0m\u001b[1;33m\u001b[0m\u001b[1;33m\u001b[0m\u001b[0m\n\u001b[0;32m    222\u001b[0m         \u001b[1;32mif\u001b[0m \u001b[0mDEBUG\u001b[0m\u001b[1;33m:\u001b[0m \u001b[0mprint\u001b[0m\u001b[1;33m(\u001b[0m\u001b[1;34m\"errno =\"\u001b[0m\u001b[1;33m,\u001b[0m \u001b[0merrno\u001b[0m\u001b[1;33m)\u001b[0m\u001b[1;33m\u001b[0m\u001b[1;33m\u001b[0m\u001b[0m\n\u001b[1;32m--> 223\u001b[1;33m         \u001b[0merr\u001b[0m\u001b[1;33m.\u001b[0m\u001b[0mraise_mysql_exception\u001b[0m\u001b[1;33m(\u001b[0m\u001b[0mself\u001b[0m\u001b[1;33m.\u001b[0m\u001b[0m_data\u001b[0m\u001b[1;33m)\u001b[0m\u001b[1;33m\u001b[0m\u001b[1;33m\u001b[0m\u001b[0m\n\u001b[0m\u001b[0;32m    224\u001b[0m \u001b[1;33m\u001b[0m\u001b[0m\n\u001b[0;32m    225\u001b[0m     \u001b[1;32mdef\u001b[0m \u001b[0mdump\u001b[0m\u001b[1;33m(\u001b[0m\u001b[0mself\u001b[0m\u001b[1;33m)\u001b[0m\u001b[1;33m:\u001b[0m\u001b[1;33m\u001b[0m\u001b[1;33m\u001b[0m\u001b[0m\n",
      "\u001b[1;32mC:\\Users\\Dell\\Anaconda3\\lib\\site-packages\\pymysql\\err.py\u001b[0m in \u001b[0;36mraise_mysql_exception\u001b[1;34m(data)\u001b[0m\n\u001b[0;32m    105\u001b[0m     \u001b[1;32mif\u001b[0m \u001b[0merrorclass\u001b[0m \u001b[1;32mis\u001b[0m \u001b[1;32mNone\u001b[0m\u001b[1;33m:\u001b[0m\u001b[1;33m\u001b[0m\u001b[1;33m\u001b[0m\u001b[0m\n\u001b[0;32m    106\u001b[0m         \u001b[0merrorclass\u001b[0m \u001b[1;33m=\u001b[0m \u001b[0mInternalError\u001b[0m \u001b[1;32mif\u001b[0m \u001b[0merrno\u001b[0m \u001b[1;33m<\u001b[0m \u001b[1;36m1000\u001b[0m \u001b[1;32melse\u001b[0m \u001b[0mOperationalError\u001b[0m\u001b[1;33m\u001b[0m\u001b[1;33m\u001b[0m\u001b[0m\n\u001b[1;32m--> 107\u001b[1;33m     \u001b[1;32mraise\u001b[0m \u001b[0merrorclass\u001b[0m\u001b[1;33m(\u001b[0m\u001b[0merrno\u001b[0m\u001b[1;33m,\u001b[0m \u001b[0merrval\u001b[0m\u001b[1;33m)\u001b[0m\u001b[1;33m\u001b[0m\u001b[1;33m\u001b[0m\u001b[0m\n\u001b[0m",
      "\u001b[1;31mOperationalError\u001b[0m: (1045, \"Access denied for user 'root'@'localhost' (using password: NO)\")"
     ]
    }
   ],
   "source": [
    "import os\n",
    "import pymysql\n",
    "import pandas as pd\n",
    "import requests\n",
    "import time\n",
    "import urllib3\n",
    "urllib3.disable_warnings(urllib3.exceptions.InsecureRequestWarning)\n",
    "from bs4 import BeautifulSoup\n",
    "import csv\n",
    "import time\n",
    "import sys\n",
    "import re\n",
    "from numpy import *\n",
    "\n",
    "host = os.getenv('localhost')\n",
    "port = os.getenv('MYSQL_PORT')\n",
    "user = os.getenv('MYSQL_USER')\n",
    "password = os.getenv('MYSQL_PASSWORD')\n",
    "database = os.getenv('MYSQL_DATABASE')\n",
    "\n",
    "conn = pymysql.connect(\n",
    "    host = host,\n",
    "    port = int(3306),\n",
    "    user = \"root\",\n",
    "    passwd =\"\",\n",
    "    db = \"recommender_system\",\n",
    "    charset = 'utf8mb4')\n",
    "\n"
   ]
  },
  {
   "cell_type": "markdown",
   "metadata": {},
   "source": [
    "# [BD]Consulta   si una lista esta registrada con metadata"
   ]
  },
  {
   "cell_type": "code",
   "execution_count": null,
   "metadata": {},
   "outputs": [],
   "source": [
    "def idImdbExists( idImdb ):    \n",
    "    \n",
    "    exist = True\n",
    "    \n",
    "    sql  = \" SELECT * FROM lists WHERE idImdb = %s \"\n",
    "    \n",
    "    with conn.cursor() as cursor:\n",
    "    \n",
    "        row_count = cursor.execute( sql, (idImdb) )    \n",
    "        \n",
    "        if row_count == 0:\n",
    "        \n",
    "            exist = False \n",
    "    \n",
    "    return exist"
   ]
  },
  {
   "cell_type": "markdown",
   "metadata": {},
   "source": [
    "# [BD] Comprueba si una lista está registrada en List_tittlelist"
   ]
  },
  {
   "cell_type": "code",
   "execution_count": null,
   "metadata": {},
   "outputs": [],
   "source": [
    "def idListExists( idImdb ):    \n",
    "    \n",
    "    exist = True\n",
    "    \n",
    "    sql  = \" SELECT * FROM list_tittlelist WHERE id_list = %s \"\n",
    "    \n",
    "    with conn.cursor() as cursor:\n",
    "        \n",
    "        row_count = cursor.execute( sql, ( idImdb ) )    \n",
    "        \n",
    "        if row_count == 0:\n",
    "            \n",
    "            exist = False \n",
    "    \n",
    "    return exist"
   ]
  },
  {
   "cell_type": "markdown",
   "metadata": {},
   "source": [
    "# [BD] Consulta si un tittle (pelicula) existe"
   ]
  },
  {
   "cell_type": "code",
   "execution_count": null,
   "metadata": {},
   "outputs": [],
   "source": [
    "def tittleExists( tconst ):\n",
    "    \n",
    "    exist = True\n",
    "    \n",
    "    sql  = \" SELECT * FROM tittle_list WHERE tconst = %s \"\n",
    "    \n",
    "    with conn.cursor() as cursor:\n",
    "        \n",
    "        row_count = cursor.execute( sql, ( tconst ) )    \n",
    "        \n",
    "        if row_count == 0:\n",
    "            \n",
    "            exist = False \n",
    "    \n",
    "    return exist"
   ]
  },
  {
   "cell_type": "markdown",
   "metadata": {},
   "source": [
    "# [BD] Insertar información descriptiva de una lista"
   ]
  },
  {
   "cell_type": "code",
   "execution_count": null,
   "metadata": {},
   "outputs": [],
   "source": [
    "def insertList( name, link, metadata, idImdb ):\n",
    "    \n",
    "    with conn.cursor() as cursor:\n",
    "        \n",
    "        # CREA UNA NUEVA FILA\n",
    "        \n",
    "        sql = \"INSERT INTO lists ( name, link, metadata, idImdb ) VALUES ( %s, %s, %s,%s )\"\n",
    "        \n",
    "        cursor.execute( sql,( name, link, metadata, idImdb ) )\n",
    "        \n",
    "        #GUARDAMOS LOS CAMBIOS\n",
    "        \n",
    "        conn.commit()\n",
    "               \n",
    "    "
   ]
  },
  {
   "cell_type": "markdown",
   "metadata": {},
   "source": [
    "# [BD] Inserta asosiciaion pelicula-lista (tabla n:n)"
   ]
  },
  {
   "cell_type": "code",
   "execution_count": null,
   "metadata": {},
   "outputs": [],
   "source": [
    "def instertListTittleList( id_list, id_tittlelist):\n",
    "    \n",
    "    with conn.cursor() as cursor:\n",
    "        \n",
    "        # CREA UNA NUEVA FILA\n",
    "        \n",
    "        sql = \"INSERT INTO list_tittlelist ( id_list, id_tittlelist ) VALUES ( %s, %s )\"\n",
    "        \n",
    "        cursor.execute( sql,( id_list, id_tittlelist ) )\n",
    "        \n",
    "        #GUARDAMOS LOS CAMBIOS\n",
    "        \n",
    "        conn.commit()"
   ]
  },
  {
   "cell_type": "markdown",
   "metadata": {},
   "source": [
    "# [BD] Inserta información de peliculas"
   ]
  },
  {
   "cell_type": "code",
   "execution_count": 2,
   "metadata": {},
   "outputs": [],
   "source": [
    "def insertTittleList( tconst, f_created, f_modified, description, name_tittle, url, tittle_type, imdb_rating, runtime_mins, year, release_date):\n",
    "    \n",
    "    with conn.cursor() as cursor:\n",
    "        \n",
    "        # CREA UNA NUEVA FILA\n",
    "        \n",
    "        sql = \"INSERT INTO tittle_list ( tconst, f_created, f_modified, description, name_tittle, url, tittle_type, imdb_rating, runtime_mins, year, release_date ) VALUES ( %s, %s, %s,%s, %s, %s,%s, %s, %s,%s, %s)\"\n",
    "        \n",
    "        cursor.execute( sql,( tconst, f_created, f_modified, description, name_tittle, url, tittle_type, imdb_rating, runtime_mins, year, release_date ) )\n",
    "        \n",
    "        \n",
    "        #GUARDAMOS LOS CAMBIOS\n",
    "        \n",
    "        conn.commit()"
   ]
  },
  {
   "cell_type": "markdown",
   "metadata": {},
   "source": [
    "# [BD] OBTENGO TODAS LAS PELICULAS DE UNA LISTA"
   ]
  },
  {
   "cell_type": "code",
   "execution_count": 3,
   "metadata": {},
   "outputs": [],
   "source": [
    "def getTitlesList(idList):\n",
    "    \n",
    "    sql  = \" SELECT * FROM list_tittlelist WHERE id_list = %s \"\n",
    "    \n",
    "    with conn.cursor() as cursor:\n",
    "        \n",
    "        result = cursor.execute( sql, ( idList ) )    \n",
    "        \n",
    "        if result == 0:\n",
    "            \n",
    "            return -1\n",
    "        \n",
    "        result= cursor.fetchall()\n",
    "    \n",
    "    return result"
   ]
  },
  {
   "cell_type": "markdown",
   "metadata": {},
   "source": [
    "# [BD] Buscar si una pelicula dentro de una lista existe"
   ]
  },
  {
   "cell_type": "code",
   "execution_count": 4,
   "metadata": {},
   "outputs": [],
   "source": [
    "def titleExistInList( idList, idTitleList ):\n",
    "    \n",
    "    exist = True\n",
    "    \n",
    "    sql  = \"SELECT * FROM list_tittlelist where id_list=%s AND id_tittlelist=%s\"\n",
    "    \n",
    "    with conn.cursor() as cursor:\n",
    "        \n",
    "        row_count = cursor.execute( sql, ( idList, idTitleList ) )    \n",
    "        \n",
    "        if row_count == 0:\n",
    "            \n",
    "            exist = False \n",
    "    \n",
    "    return exist\n"
   ]
  },
  {
   "cell_type": "markdown",
   "metadata": {},
   "source": [
    "# [BD] Total de peliculas guardadas (S)"
   ]
  },
  {
   "cell_type": "code",
   "execution_count": 5,
   "metadata": {},
   "outputs": [],
   "source": [
    "def getTotalTittles(  ):\n",
    "        \n",
    "    sql  = \"SELECT COUNT (DISTINCT tconst) FROM tittle_list \"\n",
    "    \n",
    "    with conn.cursor() as cursor:\n",
    "        \n",
    "        cursor.execute( sql )    \n",
    "        \n",
    "        value = cursor.fetchone()\n",
    "        \n",
    "        if value <= 0:\n",
    "            \n",
    "            return None \n",
    "    \n",
    "    return row_count"
   ]
  },
  {
   "cell_type": "markdown",
   "metadata": {},
   "source": [
    "# [SCRAPPER] Numero de consultas(peticiones) que se ha hecho"
   ]
  },
  {
   "cell_type": "code",
   "execution_count": 6,
   "metadata": {},
   "outputs": [],
   "source": [
    "def getNIterations( number ):\n",
    "    \n",
    "    nIteration = 1\n",
    "    div = number%100\n",
    "   \n",
    "    if number >= 100:\n",
    "        \n",
    "        nIteration = int( number/100 )+1\n",
    "      \n",
    "        \n",
    "    return nIteration"
   ]
  },
  {
   "cell_type": "markdown",
   "metadata": {},
   "source": [
    "# [SCRAPPER] Se obtiene informacion referente a una lista"
   ]
  },
  {
   "cell_type": "code",
   "execution_count": 7,
   "metadata": {},
   "outputs": [],
   "source": [
    "def getInfoLists( lists ):\n",
    "    \n",
    "    resultList = []\n",
    "    \n",
    "    #RECORRO LAS LISTAS Y SACO LA INFORMACIÓN\n",
    "    \n",
    "    for list in lists:\n",
    "        \n",
    "        collectorList = []\n",
    "        \n",
    "        #OBTENGO EL NOMBRE DE LA LISTA\n",
    "        \n",
    "        infoList = list.find( \"div\" , {\"class\": \"list_name\"} )\n",
    "        \n",
    "        nameList = infoList.find( \"a\" )    \n",
    "        \n",
    "        collectorList.append( nameList.text )\n",
    "\n",
    "\n",
    "        #OBTENGO EL LINK DE LA LISTA\n",
    "\n",
    "        linkList = infoList.find( 'a', href = True) \n",
    "        \n",
    "        collectorList.append( linkList[ 'href' ] )\n",
    "        \n",
    "\n",
    "\n",
    "        #OBTENGO LA METADATA DE LA LISTA\n",
    "        \n",
    "        metadataList = list.find( \"div\" , {\"class\": \"list_meta\"} )\n",
    "        \n",
    "        collectorList.append( metadataList.text )\n",
    "\n",
    "        resultList.append( collectorList )\n",
    "        \n",
    "    return resultList"
   ]
  },
  {
   "cell_type": "markdown",
   "metadata": {},
   "source": [
    "# [SCRAPPER] Se modifica la URL para modificar a traves de las paginas"
   ]
  },
  {
   "cell_type": "code",
   "execution_count": 8,
   "metadata": {},
   "outputs": [],
   "source": [
    "def formatUrlPage( url, number ):\n",
    "    \n",
    "    url += \"?page=%d\"%number #url formatada para rec\n",
    "    \n",
    "    return  url\n",
    "    "
   ]
  },
  {
   "cell_type": "markdown",
   "metadata": {},
   "source": [
    "# [SCRAPPER] Se descarga excel que contiene el listado de peliculas de una lista"
   ]
  },
  {
   "cell_type": "code",
   "execution_count": 9,
   "metadata": {},
   "outputs": [],
   "source": [
    "def downloadExcel( urlIdList, urlDomain = \"https://www.imdb.com/list/\" ):\n",
    "    \n",
    "    # input urlIdList: string con (1)url de una lista completa o (2)solo el ID de una lista || \n",
    "    \n",
    "    #           ej(1): \"https://www.imdb.com/list/ls092155333/\"\n",
    "    \n",
    "    #           ej(2): \"list/ls092083481\"   \n",
    "    \n",
    "    #       urlDomain(opcional): string con el nombre del dominio de la pagina || ej: \"https://www.imdb.com/\"\n",
    "    \n",
    "    # return fileName: string referencia al nombre del excel que tiene el listado de peliculas || ej: \"ls092083481.csv\"\n",
    "    \n",
    "    \n",
    "    match = re.search( \"^https.\", urlIdList ) #busca expresión regular \"https\" para identificar si es un url completa o solo el id\n",
    "    \n",
    "    if match: \n",
    "        \n",
    "        #contiene http, por lo tanto es url completa\n",
    "        \n",
    "        stringExport = \"export?ref_=ttls_otexp\" #string con parametro que le indica al sitio descargar excel\n",
    "        \n",
    "        url = urlIdList + stringExport\n",
    "        \n",
    "        print(\"\\n Se descargará url con http: \", url)\n",
    "        \n",
    "        idList = urlIdList.split( \"/\", 5 )[-2]\n",
    "        \n",
    "        \n",
    "    else:\n",
    "        \n",
    "        #sin http, es decir url relativa con referencia al ID de la lista\n",
    "        \n",
    "        #TODO: OPTIMIZAR Y DEJAR OPCION PARA QUE INGRESEN SOLO EL ID DE LA LISTA \"ls092155333\"\n",
    "        \n",
    "        stringExport = \"/export?ref_=ttls_otexp\"\n",
    "        \n",
    "        url = urlDomain + urlIdList + stringExport\n",
    "        \n",
    "        print(\"\\n Se descargará url sin http: \", url )\n",
    "        \n",
    "        idList = urlIdList.split( \"/\", 2 )[-1] \n",
    "    \n",
    "    time.sleep( 1 )\n",
    "    \n",
    "    http = urllib3.PoolManager()\n",
    "    \n",
    "    r = http.request('GET', url, preload_content=False)\n",
    "    \n",
    "    if r.status == 200:\n",
    "        \n",
    "        print(\"\\n Descargando excel de lista [%s]...\" %( idList ) )\n",
    "        \n",
    "        fileName= idList+\".csv\"\n",
    "        \n",
    "        with open( fileName, 'wb' ) as out:\n",
    "            \n",
    "            while True:\n",
    "                \n",
    "                data = r.read()\n",
    "                \n",
    "                if not data:\n",
    "                    \n",
    "                    break\n",
    "                \n",
    "                out.write( data )\n",
    "    else:\n",
    "        \n",
    "        print(\"\\n NO SE PUDO DESCARGAR LISTA [%s] STATUS CODE [%s]\"%( idList, r.status ) )\n",
    "        \n",
    "        return False\n",
    "    \n",
    "    r.release_conn()\n",
    "    \n",
    "    print(\"\\n Lista [%s] se guardó su excel con nombre [%s]\"%( idList, fileName ) )\n",
    "    \n",
    "    return fileName"
   ]
  },
  {
   "cell_type": "markdown",
   "metadata": {},
   "source": [
    "# [SCRAPPER] Función que comienza el proceso de descargar listados de peliculas relacionadas al ID de una pelicula"
   ]
  },
  {
   "cell_type": "code",
   "execution_count": 10,
   "metadata": {},
   "outputs": [],
   "source": [
    "\n",
    "\n",
    "def getListImdb( url ):\n",
    "    \n",
    "    #Input url = https://www.imdb.com/lists/tt0074486?ref_=tt_rls_sm\n",
    "    \n",
    "    #return lista= con metadatos [0]-> [Nombre, idList, metadatos]\n",
    "    \n",
    "    #Esta Función descarga todas las listas asociadas al ID de una película. Navega por el dominio de IMDB\n",
    "    \n",
    "    countPage = 1 #contador que irá aumentando para buscar más páginas con listas asociadas a la pelicula buscada. Minimo debe ser 1\n",
    "    \n",
    "    url = formatUrlPage( url, countPage ) #string de la URL que se le concatena el número de páginas\n",
    "    \n",
    "    r = requests.get( url ) #obtiene la petición a la URL\n",
    "    \n",
    "    html_content = r.text #se \"parsea\" la petición a string (texto)\n",
    "    \n",
    "    soup = BeautifulSoup( html_content, 'lxml' ) #se crea una instancia de BeatifulSoup, librería usada para navegar por el DOM HTML\n",
    "    \n",
    "    nIterationsText =  soup.find( \"span\", {\"class\" : \"list-pagination-total-elements\" } ) #se busca en el DOM la cantidad de páginas totales\n",
    "    \n",
    "    nIterations = getNIterations( int( nIterationsText.text ) )   #se \"parsea\" el número obtenido anteriormente a un valor tipo Entero \n",
    "    \n",
    "    countIterations = 0 #contador que irá indicando las iteraciones (páginas) que se encuentra posicionado en la función\n",
    "    \n",
    "    resultList = None # colección que guardará la información extraidas de las páginas\n",
    "    \n",
    "    countNot200 = 0 #contador que indicará el límite de peticiones rechazadas por IMDB\n",
    "    \n",
    "    #while countIterations < nIterations:\n",
    "    \n",
    "    while countIterations < 1:\n",
    "        \n",
    "        time.sleep(2) # se da una pausa de 2 segundo, para no saturar de peticiones a IMDB\n",
    "         \n",
    "            \n",
    "        if r.status_code == 200:\n",
    "            \n",
    "            countNot200 = 0\n",
    "            \n",
    "            html_content = r.text\n",
    "            \n",
    "            soup = BeautifulSoup( html_content, 'lxml' )\n",
    "            \n",
    "            #OBTENGO TODAS LAS LISTAS\n",
    "            \n",
    "            lists = soup.findAll( \"div\", { \"class\": \"list-preview\" } ) #se obtiene del DOM metadata asociada a la listas \n",
    "            \n",
    "            resultList = getInfoLists( lists )\n",
    "            \n",
    "            countPage += 1\n",
    "            \n",
    "            url = url.split( '?',1 )[0]\n",
    "            \n",
    "            url = formatUrlPage( url, countPage )\n",
    "            \n",
    "            r = requests.get( url )\n",
    "            \n",
    "            countIterations += 1\n",
    "\n",
    "        elif countNot200 >= 2:\n",
    "            \n",
    "            print ( \"ERROR AL DESCARGAR LISTAS: Se guardaron solo %d\" , countIterations )\n",
    "            \n",
    "            return resultList\n",
    "        \n",
    "        else:\n",
    "            \n",
    "            countNot200 += 1\n",
    "    \n",
    "    print ( \"Se guardaron bien todas las  listas\" )    \n",
    "    \n",
    "    return resultList\n"
   ]
  },
  {
   "cell_type": "markdown",
   "metadata": {},
   "source": [
    "# [SCRAPPER] Proceso de rescatar los datos del excel descargado"
   ]
  },
  {
   "cell_type": "code",
   "execution_count": 11,
   "metadata": {},
   "outputs": [],
   "source": [
    "def readCsvAndSaved( fileName ):\n",
    "\n",
    "    # input fileName: referencia al nombre de la lista que se leerá en excel || ej: ls080428597\n",
    "    \n",
    "    print(\"\\n Comienza proceso de leer excel[%s] y guardar su metadata...\"%( fileName ) )\n",
    "    \n",
    "    if fileName == False:\n",
    "        \n",
    "        print(\"\\n No se puede leer archivo[%s]\"%( fileName ) )\n",
    "        \n",
    "        return fileName\n",
    "    \n",
    "    if (fileName.find('.csv') == -1):\n",
    "        \n",
    "        idList = fileName\n",
    "        \n",
    "        fileName += \".csv\"\n",
    "    \n",
    "    else:\n",
    "        \n",
    "        idList = fileName.split( '.', 1 )[0]\n",
    "    \n",
    "    with open( fileName, 'r' ) as file:\n",
    "        \n",
    "        reader = csv.reader( file, delimiter = ',' )\n",
    "        \n",
    "        countRow = 0\n",
    "        \n",
    "        print(\"\\n Leyendo archivo [%s] y guarando su información...\"%( fileName ) )\n",
    "        \n",
    "        for row in reader:\n",
    "            \n",
    "            if countRow != 1 :\n",
    "                \n",
    "                if not ( tittleExists( row[1] ) ):\n",
    "                    \n",
    "                    instertListTittleList( idList, row[1] )\n",
    "                    \n",
    "                    insertTittleList( row[1], row[2], row[3], row[4] ,row[5], row[6], row[7], row[8], row[9], row[10], row[13] )                  \n",
    "                \n",
    "                \n",
    "            countRow += 1\n",
    "            \n",
    "        print( \"\\n [%s] Registros guardados\"%( countRow ) )\n",
    "        \n",
    "    return True"
   ]
  },
  {
   "cell_type": "markdown",
   "metadata": {},
   "source": [
    "# [RS] Compara peliculas de una lista en una lista dada"
   ]
  },
  {
   "cell_type": "code",
   "execution_count": 12,
   "metadata": {},
   "outputs": [],
   "source": [
    "def listCompare( idOriginList , idEndList ):\n",
    "    \n",
    "    # input idOriginList: ID de la lista que se quiere comparar || ej: \"ls096276650\"\n",
    "    \n",
    "    #       idEndList: ID unica o arreglo con los que se quiere comparar || \n",
    "    \n",
    "    #       ej (1) \"ls021428038\" \n",
    "    \n",
    "    #       ej (2) [ \"ls021428038\", \"ls094566741\" ]\n",
    "    \n",
    "    print(\"\\n **********************************************************\")\n",
    "    \n",
    "    print(\"\\n Comenzando proceso de comparación\")\n",
    "    \n",
    "    originTitles = getTitlesList( idOriginList )\n",
    "    \n",
    "    \n",
    "    result = []\n",
    "    \n",
    "    numIterator = 1\n",
    "    \n",
    "    auxMatriz = \"\"\n",
    "    \n",
    "    if isinstance( idEndList , list ):                \n",
    "        \n",
    "        numIterator = len( idEndList ) \n",
    "        \n",
    "        for i in range( numIterator ):\n",
    "            \n",
    "            auxMatrix = processCompare( originTitles, idEndList[ i ] )            \n",
    "                    \n",
    "            result.append( auxMatrix )\n",
    "            \n",
    "    else:\n",
    "         \n",
    "            auxMatrix = processCompare( originTitles, idEndList )            \n",
    "                    \n",
    "            result.append( auxMatrix )\n",
    "    \n",
    "    print(\"\\n Fin de proceso de comparación \")\n",
    "    \n",
    "    print(\"\\n **********************************************************\")\n",
    "    \n",
    "    return result"
   ]
  },
  {
   "cell_type": "markdown",
   "metadata": {},
   "source": [
    "# [RS]"
   ]
  },
  {
   "cell_type": "code",
   "execution_count": 13,
   "metadata": {},
   "outputs": [],
   "source": [
    "def processCompare( originTitles, endTitle):\n",
    "    \n",
    "    # input originTitles: Lista que tiene todos los titulos de una lista || ej:  ( (12196, 'ls096276650', 'tt5503686'), (12197, 'ls096276650', 'tt8722346') )\n",
    "    \n",
    "    #       idEndList: ID unica o arreglo con los que se quiere comparar ||      ej  \"ls021428038\" \n",
    "    \n",
    "    result = []\n",
    "    \n",
    "    totalTitlesFounds = 0\n",
    "    \n",
    "    #result.insert( 0, totalTitlesFounds )\n",
    "    \n",
    "    for oTitle in originTitles: \n",
    "            \n",
    "        if titleExistInList( endTitle  , oTitle[ 2 ] ):                    \n",
    "\n",
    "            #result.append( 1 )\n",
    "\n",
    "            totalTitlesFounds += 1\n",
    "\n",
    "        #else:\n",
    "            \n",
    "                    # result.append( 0 )\n",
    "                \n",
    "    result.append( totalTitlesFounds ) \n",
    "    \n",
    "    print( \"\\n Número de titulos contenidos en la lista: \", totalTitlesFounds)\n",
    "    \n",
    "    print(\" \\n Arreglo -> \", result )\n",
    "    \n",
    "    return result"
   ]
  },
  {
   "cell_type": "markdown",
   "metadata": {},
   "source": [
    "# [SCRAPPER] Leer excel y guardar su contenido en BD"
   ]
  },
  {
   "cell_type": "code",
   "execution_count": 14,
   "metadata": {},
   "outputs": [],
   "source": [
    "def saveDataList( idList ):\n",
    "    \n",
    "    flag = False\n",
    "    \n",
    "    fileNameList = downloadExcel( idList )\n",
    "    \n",
    "    if fileNameList != False:\n",
    "        \n",
    "        dataCsv = readCsvAndSaved( fileNameList )\n",
    "        \n",
    "        if dataCsv != False:\n",
    "            \n",
    "            flag = True\n",
    "            \n",
    "            print( \"\\n Lista[%] se guardó con éxtio\" % ( idList ) )\n",
    "    \n",
    "    return flag"
   ]
  },
  {
   "cell_type": "markdown",
   "metadata": {},
   "source": [
    "# [SCRAPPER] Proceso de selección del tipo de descarga"
   ]
  },
  {
   "cell_type": "code",
   "execution_count": 15,
   "metadata": {},
   "outputs": [],
   "source": [
    "def startMetadataListProcess( originList, tipoDescarga, endList = None ):\n",
    "    \n",
    "    print(\"\\n Comenzando comprobación y descarga de información OriginList[%s] tipoDescarga[%s]\" % ( originList, tipoDescarga ) )\n",
    "    \n",
    "    if  tipoDescarga == 1:\n",
    "        \n",
    "        print(\"\\n Procesando descarga de una lista directamente...\")\n",
    "        \n",
    "        #idOriginList=originList.split('/',1)[1]\n",
    "        \n",
    "        idOriginList = originList\n",
    "        \n",
    "        idEndList = endList\n",
    "       \n",
    "        #TODO: OPTIMIZAR ESTE METODO\n",
    "        \n",
    "        if not idListExists( idOriginList ):\n",
    "            \n",
    "            print(\"\\n Descargando lista de origen[%s] \" % ( idOriginList) )\n",
    "            \n",
    "            saveDataList( originList )\n",
    "        \n",
    "        if isinstance( endList, list ):\n",
    "            \n",
    "            for idEndList in endList:  \n",
    "\n",
    "                #idEndList=lista.split('/',1)[1]\n",
    "\n",
    "                print(\"\\nComenzando descarga de endList[%s] \" % ( idEndList ) )\n",
    "\n",
    "                if not idListExists(idEndList): \n",
    "\n",
    "                    saveDataList(idEndList)\n",
    "\n",
    "                else: print( \"Estaba registrada en BD\" )\n",
    "        else:\n",
    "            \n",
    "            if not idListExists( idEndList ):\n",
    "\n",
    "                saveDataList( idEndList )\n",
    "                \n",
    "            else: print( \"Estaba registrada en BD\" )\n",
    "    else:\n",
    "        \n",
    "        # Descarga de listas en base a una pelicula\n",
    "        \n",
    "        listas = getListImdb( originList )\n",
    "        \n",
    "        toolbar_width = 40\n",
    "        \n",
    "        totalIteration = len( listas )\n",
    "        \n",
    "        countAdvance = 1\n",
    "        \n",
    "        # setup toolbar\n",
    "        \n",
    "        sys.stdout.write( \"[%s]\" % (\" \" * toolbar_width ) )\n",
    "        \n",
    "        #sys.stdout.flush()\n",
    "        \n",
    "        sys.stdout.write( \"\\b\" * ( toolbar_width +1 ) ) # return to start of line, after '['\n",
    "        \n",
    "        \n",
    "        #TODO: DEJAR ESTE PRCESO EN UN METODO APARTE\n",
    "        \n",
    "        for lista in listas:\n",
    "            \n",
    "            # update the bar\n",
    "            \n",
    "            sys.stdout.write( \"\\r %d de %d\" % ( countAdvance, totalIteration ) )\n",
    "\n",
    "            countAdvance += 1\n",
    "            \n",
    "            sys.stdout.flush()\n",
    "            \n",
    "            time.sleep( 1 )\n",
    "            \n",
    "            idImdb = lista[ 1 ]\n",
    "            \n",
    "            idImdb = idImdb.split( '/', 2 )[-1]        \n",
    "\n",
    "            if not ( idImdbExists( lista[1] ) ):    \n",
    "\n",
    "                fileNameList = downloadExcel( lista[1] )            \n",
    "\n",
    "                dataCsv= readCsvAndSaved( idImdb )\n",
    "\n",
    "\n",
    "                insertList( lista[0], lista[1], lista[2], idImdb )\n",
    "        \n",
    "        sys.stdout.write( \"]\\n\" ) # this ends the progress bar\n",
    "    \n",
    "       \n",
    "    print( \"\\n ¡Proceso finalizado!\" )"
   ]
  },
  {
   "cell_type": "markdown",
   "metadata": {},
   "source": [
    "# ================ Lógica de Bayes ========================"
   ]
  },
  {
   "cell_type": "markdown",
   "metadata": {},
   "source": [
    "# [RS]Función principal que inicia todo los procesos ( no terminada)"
   ]
  },
  {
   "cell_type": "code",
   "execution_count": 16,
   "metadata": {},
   "outputs": [],
   "source": [
    "def modelo( S, sub, L, n ):\n",
    "    \n",
    "    # S -> Num de peliculas de S\n",
    "    \n",
    "    # sub -> numero de peliculas de S'\n",
    "    \n",
    "    # n -> numero de peliculas que se encuentran en L\n",
    "    \n",
    "    # L -> numero de peliculas de L\n",
    "    \n",
    "    PA = n / sub\n",
    "    \n",
    "    num = S * PA\n",
    "    \n",
    "    resul = num / L\n",
    "    \n",
    "    print(\"\\n Resultado del modelo: \", resul)"
   ]
  },
  {
   "cell_type": "markdown",
   "metadata": {},
   "source": [
    "# [main]"
   ]
  },
  {
   "cell_type": "code",
   "execution_count": 18,
   "metadata": {
    "scrolled": true
   },
   "outputs": [
    {
     "ename": "SyntaxError",
     "evalue": "invalid syntax (<ipython-input-18-1ac0f35cd42e>, line 23)",
     "output_type": "error",
     "traceback": [
      "\u001b[1;36m  File \u001b[1;32m\"<ipython-input-18-1ac0f35cd42e>\"\u001b[1;36m, line \u001b[1;32m23\u001b[0m\n\u001b[1;33m    L=\u001b[0m\n\u001b[1;37m      ^\u001b[0m\n\u001b[1;31mSyntaxError\u001b[0m\u001b[1;31m:\u001b[0m invalid syntax\n"
     ]
    }
   ],
   "source": [
    "\n",
    "\n",
    "listas = \"https://www.imdb.com/list/ls096276650/?sort=alpha,asc&st_dt=&mode=detail&page=1\"\n",
    "endList = []\n",
    "endList.append(\"ls092155333\")#L1\n",
    "endList.append(\"ls094566741\")#L2\n",
    "endList.append(\"ls096276650\") #L3\n",
    "endList.append(\"ls021428038\")\n",
    "\n",
    "\n",
    "originList = \"ls096276650\" #lista del usuario u con peliculas que encuentra similares\n",
    "endList = \"ls096276650\"\n",
    "\n",
    "#listCompare(\"ls063431068\",\"ls063363649\")\n",
    "\n",
    "\n",
    "\n",
    "startMetadataListProcess( originList, 1, endList )\n",
    "\n",
    "listCompare( originList, endList )\n",
    "S = 40\n",
    "sub = getTotalSub(originList)\n",
    "L=\n",
    "n=\n",
    "\n",
    "modelo( 40, 20, 10, 3 )"
   ]
  },
  {
   "cell_type": "code",
   "execution_count": null,
   "metadata": {},
   "outputs": [],
   "source": []
  },
  {
   "cell_type": "code",
   "execution_count": null,
   "metadata": {},
   "outputs": [],
   "source": []
  },
  {
   "cell_type": "code",
   "execution_count": null,
   "metadata": {},
   "outputs": [],
   "source": []
  }
 ],
 "metadata": {
  "kernelspec": {
   "display_name": "Python 3",
   "language": "python",
   "name": "python3"
  },
  "language_info": {
   "codemirror_mode": {
    "name": "ipython",
    "version": 3
   },
   "file_extension": ".py",
   "mimetype": "text/x-python",
   "name": "python",
   "nbconvert_exporter": "python",
   "pygments_lexer": "ipython3",
   "version": "3.7.3"
  }
 },
 "nbformat": 4,
 "nbformat_minor": 4
}
