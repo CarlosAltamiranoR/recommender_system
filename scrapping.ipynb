{
 "cells": [
  {
   "cell_type": "code",
   "execution_count": null,
   "metadata": {},
   "outputs": [],
   "source": [
    "import requests\n",
    "from bs4 import BeautifulSoup\n",
    "\n",
    "page = requests.get(\"https://letterboxd.com/showdown/spirited-away/page/3\")\n",
    "\n",
    "\n",
    "soup = BeautifulSoup(page.content, 'html.parser')\n",
    "\n"
   ]
  },
  {
   "cell_type": "code",
   "execution_count": null,
   "metadata": {},
   "outputs": [],
   "source": [
    "import sys\n",
    "import time\n",
    "\n",
    "#lists = []\n",
    "for a in soup.find_all('a', href=True, class_='list-link'):\n",
    "    print (\"Found the URL:\", a['href'])\n",
    "    page = requests.get(\"https://letterboxd.com\"+a['href'])\n",
    "    soup2 = BeautifulSoup(page.content, 'html.parser')\n",
    "    mlist=[]\n",
    "    for span in soup2.find_all('div', class_=\"really-lazy-load\"):\n",
    "        #print(span['data-target-link'])\n",
    "        mlist.append(span['data-target-link'].split('/')[2])\n",
    "    #sys.exit()\n",
    "    lists.append(mlist)\n",
    "    time.sleep(1)\n",
    "    \n"
   ]
  },
  {
   "cell_type": "code",
   "execution_count": null,
   "metadata": {},
   "outputs": [],
   "source": [
    "len(lists)"
   ]
  },
  {
   "cell_type": "code",
   "execution_count": null,
   "metadata": {},
   "outputs": [],
   "source": [
    "import random\n",
    "ls = \"asmr\"\n",
    "count = 1\n",
    "random.shuffle(lists)\n",
    "for l in lists:\n",
    "    print(ls+str(1000+count) + '\\t' + '\\t'.join(l))\n",
    "    count +=1        "
   ]
  },
  {
   "cell_type": "code",
   "execution_count": null,
   "metadata": {},
   "outputs": [],
   "source": [
    "from bd import *\n",
    "from rs import *\n",
    "from  scrapper import *\n",
    "import requests\n",
    "\n",
    "import csv\n",
    "\n",
    "with conn.cursor() as cursor:\n",
    "        # ELIMINA VALORES EN TABLA\n",
    "        sql = \"DELETE FROM list_tittlelist\"\n",
    "        cursor.execute( sql )\n",
    "        conn.commit()\n",
    "\n",
    "with open(\"asmr.txt\") as tsv:\n",
    "    for mlist in csv.reader(tsv, dialect=\"excel-tab\"):\n",
    "        while '' in mlist: mlist.remove('')\n",
    "        id_list = mlist[0]\n",
    "        if existeEnListTittleList(id_list): continue\n",
    "        #print(id_list,mlist[1:])\n",
    "        for movie in mlist[1:]:\n",
    "            #print(id_list, movie[0:29])\n",
    "            instertarListTittleList( id_list, movie[0:29])"
   ]
  },
  {
   "cell_type": "code",
   "execution_count": null,
   "metadata": {},
   "outputs": [],
   "source": [
    "https://www.justwatch.com/us/provider/netflix/movies"
   ]
  }
 ],
 "metadata": {
  "kernelspec": {
   "display_name": "Python 3",
   "language": "python",
   "name": "python3"
  },
  "language_info": {
   "codemirror_mode": {
    "name": "ipython",
    "version": 3
   },
   "file_extension": ".py",
   "mimetype": "text/x-python",
   "name": "python",
   "nbconvert_exporter": "python",
   "pygments_lexer": "ipython3",
   "version": "3.7.3"
  }
 },
 "nbformat": 4,
 "nbformat_minor": 4
}
