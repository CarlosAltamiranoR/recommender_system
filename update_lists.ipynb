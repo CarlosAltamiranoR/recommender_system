{
 "cells": [
  {
   "cell_type": "code",
   "execution_count": 1,
   "metadata": {},
   "outputs": [],
   "source": [
    "import matplotlib.pyplot as plt\n",
    "import numpy as np\n",
    "\n",
    "def histogram(title,scores):\n",
    "    # An \"interface\" to matplotlib.axes.Axes.hist() method\n",
    "    #scores_sorted = sort(scores)\n",
    "    #n, bins, patches = plt.hist(x=scores, bins=20, color='#0504aa',\n",
    "     #                           alpha=0.7, rwidth=0.85)\n",
    "        \n",
    "    hist, bins, _ = plt.hist(x=scores, bins=20)\n",
    "    logbins = np.logspace(np.log10(bins[0]),np.log10(bins[-1]),len(bins))\n",
    "    plt.subplot(212)\n",
    "    n, bins, patches = plt.hist(x=scores, bins=logbins)\n",
    "    plt.xscale('log')\n",
    "    #plt.show()\n",
    "    \n",
    "    plt.grid(axis='y', alpha=0.75)\n",
    "    plt.title(title)\n",
    "    plt.xlabel('Rating')\n",
    "    plt.ylabel('Movies')\n",
    "    maxfreq = n.max()\n",
    "    # Set a clean upper y-axis limit.\n",
    "    #plt.ylim(ymax=20)\n",
    "    plt.ylim(ymax=np.ceil(maxfreq / 10) * 10 if maxfreq % 10 else maxfreq + 10)\n",
    "    plt.show()"
   ]
  },
  {
   "cell_type": "markdown",
   "metadata": {},
   "source": [
    "## Update Movie lists\n",
    "\n",
    "Pasos:\n",
    "\n",
    "1. Actualizar listas MubiCL y NetflixCL\n",
    "2. Generar archivo de lists `lists.txt` y subir a [repo github](https://github.com/rilianx/Documents/upload/main)\n",
    "3. Quitar y volver a cargar extensión (chrome://extensions/) en todos pcs que usen la extensión."
   ]
  },
  {
   "cell_type": "markdown",
   "metadata": {},
   "source": [
    "### Actualizar listas MubiCL y NetflixCL\n",
    "\n",
    "Usando la api de JustWatch, obtenemos todas las películas en Mubi CL (ids en tmdb)"
   ]
  },
  {
   "cell_type": "code",
   "execution_count": 3,
   "metadata": {},
   "outputs": [
    {
     "data": {
      "image/png": "[encoded data removed]",
      "text/plain": [
       "<Figure size 432x288 with 1 Axes>"
      ]
     },
     "metadata": {
      "needs_background": "light"
     },
     "output_type": "display_data"
    }
   ],
   "source": [
    "from justwatch import JustWatch\n",
    "\n",
    "just_watch = JustWatch(country='CL')\n",
    "\n",
    "mlist=set()\n",
    "scores = []\n",
    "for i in range(1,66):\n",
    "    #print(i)\n",
    "    results_by_providers = just_watch.search_for_item(page=i, content_types=['movie'], providers=['mbi'])#, scoring_filter_types={\"imdb:score\": {\"min_scoring_value\":6.0,\"max_scoring_value\":10.0}})\n",
    "    flag = False\n",
    "    for res in results_by_providers[\"items\"]:\n",
    "        flag = True\n",
    "        #mlist.append(res[\"full_path\"].split('/')[-1])\n",
    "        #print(res)\n",
    "        if \"scoring\" not in res: continue\n",
    "        for it in res[\"scoring\"]:\n",
    "            if it['provider_type'] == 'tmdb:id':\n",
    "                mlist.add(str(it['value']))\n",
    "            if it['provider_type'] == 'imdb:votes':\n",
    "                scores.append(float(it['value']))\n",
    "    if flag==False: break\n",
    "\n",
    "#results = just_watch.search_for_item(query='the matrix')\n",
    "histogram(\"Mubi CL\",scores)\n"
   ]
  },
  {
   "cell_type": "code",
   "execution_count": 4,
   "metadata": {},
   "outputs": [
    {
     "name": "stdout",
     "output_type": "stream",
     "text": [
      "removals: 88\n",
      "additions: 61\n"
     ]
    }
   ],
   "source": [
    "old = set()\n",
    "f = open(\"mubi_cl_all.txt\", \"r\")\n",
    "for x in f:\n",
    "    old.add(x.strip('\\n'))\n",
    "\n",
    "diff = old.difference(mlist)\n",
    "new = mlist.difference(old)\n",
    "print(\"removals:\", len(diff))\n",
    "print(\"additions:\", len(new))"
   ]
  },
  {
   "cell_type": "code",
   "execution_count": 5,
   "metadata": {},
   "outputs": [
    {
     "name": "stdout",
     "output_type": "stream",
     "text": [
      "n_movies: 962\n"
     ]
    }
   ],
   "source": [
    "print('n_movies:', len(mlist))\n",
    "f = open(\"mubi_cl_all.txt\", \"w\")\n",
    "f.write(\"\\n\".join(mlist))\n",
    "f.close()\n",
    "\n",
    "## changes\n",
    "f = open(\"mubi_cl_changes.txt\", \"w\")\n",
    "f.write(\"tmdbID,Review\\n\")\n",
    "f.write(\",\\n\".join(new))\n",
    "if len(diff)>0:\n",
    "    f.write(\",\\n\")\n",
    "    f.write(\",borrar\\n\".join(diff))\n",
    "    f.write(\",borrar\")\n",
    "f.close()"
   ]
  },
  {
   "cell_type": "markdown",
   "metadata": {},
   "source": [
    "Y los guardamos en un archivo csv minimal:"
   ]
  },
  {
   "cell_type": "markdown",
   "metadata": {},
   "source": [
    "Netflix CL\n",
    "--\n",
    "\n",
    "Hacemos algo similiar para Netflix CL, esta vez debemos dividir la consulta en dos partes ya que son muchas películas."
   ]
  },
  {
   "cell_type": "code",
   "execution_count": 7,
   "metadata": {},
   "outputs": [
    {
     "name": "stdout",
     "output_type": "stream",
     "text": [
      "{'jw_entity_id': 'tm1059448', 'id': 1059448, 'title': 'Celebrity Marriage', 'full_path': '/cl/pelicula/celebrity-marriage', 'full_paths': {'MOVIE_DETAIL_OVERVIEW': '/cl/pelicula/celebrity-marriage'}, 'poster': '/poster/246456547/{profile}', 'poster_blur_hash': 'TbNl_XxDMv~nWExBx:jKWC%#V@Rj', 'object_type': 'movie'}\n",
      "{'jw_entity_id': 'tm488003', 'id': 488003, 'title': 'All About Love', 'full_path': '/cl/pelicula/all-about-love', 'full_paths': {'MOVIE_DETAIL_OVERVIEW': '/cl/pelicula/all-about-love'}, 'poster': '/poster/141515167/{profile}', 'poster_blur_hash': 'TfHxf$VuIV_LM~i{o[kDoL%Lt6R*', 'object_type': 'movie'}\n"
     ]
    },
    {
     "data": {
      "image/png": "[encoded data removed]",
      "text/plain": [
       "<Figure size 432x288 with 1 Axes>"
      ]
     },
     "metadata": {
      "needs_background": "light"
     },
     "output_type": "display_data"
    }
   ],
   "source": [
    "from justwatch import JustWatch\n",
    "just_watch = JustWatch(country='CL')\n",
    "\n",
    "mlist=set()\n",
    "scores=dict()\n",
    "min_year=2018; max_year=2025;\n",
    "i=1\n",
    "while True: \n",
    "    results_by_providers = just_watch.search_for_item(page=i, content_types=['movie'], providers=['nfx'], release_year_from=min_year, release_year_until=max_year )\n",
    "    #scoring_filter_types={\"imdb:score\": {\"min_scoring_value\":min_score,\"max_scoring_value\":max_score}})\n",
    "    flag = False\n",
    "    for res in results_by_providers[\"items\"]:\n",
    "        flag = True\n",
    "        #mlist.append(res[\"full_path\"].split('/')[-1])\n",
    "        if \"scoring\" not in res: continue\n",
    "            \n",
    "        for it in res[\"scoring\"]:\n",
    "            if it['provider_type'] == 'tmdb:id':\n",
    "                id=str(it['value'])\n",
    "                mlist.add(str(it['value']))\n",
    "            if it['provider_type'] == 'imdb:votes':\n",
    "                scores[id]=float(it['value'])\n",
    "    \n",
    "    if flag==False:\n",
    "        if min_year==2018: \n",
    "            min_year=2005; max_year=2017; i=0;\n",
    "        elif min_year==2005: \n",
    "            min_year=1800; max_year=2004; i=0;\n",
    "        else: break\n",
    "    i+=1\n",
    "histogram(\"Netflix CL\", list(scores.values()))"
   ]
  },
  {
   "cell_type": "code",
   "execution_count": 8,
   "metadata": {},
   "outputs": [
    {
     "name": "stdout",
     "output_type": "stream",
     "text": [
      "removals: 103\n",
      "additions: 82\n"
     ]
    }
   ],
   "source": [
    "old = set()\n",
    "f = open(\"netflix_cl_all.txt\", \"r\")\n",
    "for x in f:\n",
    "    if x[0]!='t':\n",
    "        old.add(x.strip('\\n'))\n",
    "\n",
    "diff = old.difference(mlist)\n",
    "new = mlist.difference(old)\n",
    "print(\"removals:\", len(diff))\n",
    "print(\"additions:\", len(new))"
   ]
  },
  {
   "cell_type": "code",
   "execution_count": 9,
   "metadata": {},
   "outputs": [
    {
     "name": "stdout",
     "output_type": "stream",
     "text": [
      "n_movies: 3027\n"
     ]
    }
   ],
   "source": [
    "print('n_movies:', len(mlist))\n",
    "f = open(\"netflix_cl_all.txt\", \"w\")\n",
    "f.write(\"\\n\".join(mlist))\n",
    "f.close()\n",
    "\n",
    "## changes\n",
    "f = open(\"netflix_cl_changes.txt\", \"w\")\n",
    "f.write(\"tmdbID,Review\\n\")\n",
    "f.write(\",\\n\".join(new))\n",
    "if len(diff)>0:\n",
    "    f.write(\",\\n\")\n",
    "    f.write(\",borrar\\n\".join(diff))\n",
    "    f.write(\",borrar\")\n",
    "f.close()"
   ]
  },
  {
   "cell_type": "markdown",
   "metadata": {},
   "source": [
    "## HBO"
   ]
  },
  {
   "cell_type": "code",
   "execution_count": 19,
   "metadata": {},
   "outputs": [
    {
     "name": "stdout",
     "output_type": "stream",
     "text": [
      "2018\n",
      "2005\n"
     ]
    },
    {
     "data": {
      "image/png": "[encoded data removed]",
      "text/plain": [
       "<Figure size 432x288 with 1 Axes>"
      ]
     },
     "metadata": {
      "needs_background": "light"
     },
     "output_type": "display_data"
    }
   ],
   "source": [
    "from justwatch import JustWatch\n",
    "just_watch = JustWatch(country='CL')\n",
    "\n",
    "mlist=set()\n",
    "scores=dict()\n",
    "min_year=2018; max_year=2025;\n",
    "i=1\n",
    "while True: \n",
    "    results_by_providers = just_watch.search_for_item(page=i, content_types=['movie'], providers=['hbm'], release_year_from=min_year, release_year_until=max_year )\n",
    "    #scoring_filter_types={\"imdb:score\": {\"min_scoring_value\":min_score,\"max_scoring_value\":max_score}})\n",
    "    flag = False\n",
    "    for res in results_by_providers[\"items\"]:\n",
    "        flag = True\n",
    "        #mlist.append(res[\"full_path\"].split('/')[-1])\n",
    "        if \"scoring\" not in res: continue\n",
    "            \n",
    "        for it in res[\"scoring\"]:\n",
    "            if it['provider_type'] == 'tmdb:id':\n",
    "                id=str(it['value'])\n",
    "                mlist.add(str(it['value']))\n",
    "            if it['provider_type'] == 'imdb:votes':\n",
    "                scores[id]=float(it['value'])\n",
    "    \n",
    "    if flag==False:\n",
    "        if min_year==2018: \n",
    "            print(min_year)\n",
    "            min_year=2005; max_year=2017; i=0;\n",
    "        elif min_year==2005: \n",
    "            print(min_year)\n",
    "            min_year=1800; max_year=2004; i=0;\n",
    "        else: break\n",
    "    i+=1\n",
    "histogram(\"HBO CL\", list(scores.values()))"
   ]
  },
  {
   "cell_type": "code",
   "execution_count": 20,
   "metadata": {},
   "outputs": [
    {
     "data": {
      "text/plain": [
       "944"
      ]
     },
     "execution_count": 20,
     "metadata": {},
     "output_type": "execute_result"
    }
   ],
   "source": [
    "len(scores.values())"
   ]
  },
  {
   "cell_type": "code",
   "execution_count": 23,
   "metadata": {},
   "outputs": [
    {
     "name": "stdout",
     "output_type": "stream",
     "text": [
      "removals: 0\n",
      "additions: 0\n"
     ]
    }
   ],
   "source": [
    "old = set()\n",
    "f = open(\"hbo_cl_all.txt\", \"r\")\n",
    "for x in f:\n",
    "    if x[0]!='t':\n",
    "        old.add(x.strip('\\n'))\n",
    "\n",
    "diff = old.difference(mlist)\n",
    "new = mlist.difference(old)\n",
    "print(\"removals:\", len(diff))\n",
    "print(\"additions:\", len(new))"
   ]
  },
  {
   "cell_type": "code",
   "execution_count": 24,
   "metadata": {},
   "outputs": [
    {
     "name": "stdout",
     "output_type": "stream",
     "text": [
      "n_movies: 1277\n"
     ]
    }
   ],
   "source": [
    "print('n_movies:', len(mlist))\n",
    "f = open(\"hbo_cl_all.txt\", \"w\")\n",
    "f.write(\"\\n\".join(mlist))\n",
    "f.close()\n",
    "\n",
    "## changes\n",
    "f = open(\"hbo_cl_changes.txt\", \"w\")\n",
    "f.write(\"tmdbID,Review\\n\")\n",
    "f.write(\",\\n\".join(new))\n",
    "if len(diff)>0:\n",
    "    f.write(\",\\n\")\n",
    "    f.write(\",borrar\\n\".join(diff))\n",
    "    f.write(\",borrar\")\n",
    "f.close()"
   ]
  },
  {
   "cell_type": "markdown",
   "metadata": {},
   "source": [
    "Ahora se deben actualizar/importar las listas desde [letterboxd](https://letterboxd.com/iaraya/lists/)"
   ]
  },
  {
   "cell_type": "markdown",
   "metadata": {},
   "source": [
    "### Generar archivo `lists.txt`\n",
    "\n",
    "Primero abrimos el archivo y cargamos las listas en un mapa:"
   ]
  },
  {
   "cell_type": "code",
   "execution_count": 1,
   "metadata": {},
   "outputs": [],
   "source": [
    "list_dict = {}\n",
    "f = open(\"lists.txt\", \"r\")\n",
    "for x in f:\n",
    "    x=x.split(',')\n",
    "    list_dict[x[0]] = x[1:-1]\n",
    "f.close()"
   ]
  },
  {
   "cell_type": "markdown",
   "metadata": {},
   "source": [
    "Usando el siguiente programa se actualizan listas del mapa `list_dict`"
   ]
  },
  {
   "cell_type": "code",
   "execution_count": 47,
   "metadata": {},
   "outputs": [],
   "source": [
    "import sys\n",
    "import time\n",
    "import requests\n",
    "from bs4 import BeautifulSoup\n",
    "\n",
    "#todas las listas (carga inicial)\n",
    "lists=[[\"blubert\",\"iaraya/list/blubert\"],[\"mao\",\"iaraya/list/mao\"],[\"zhongguo\",\"iaraya/list/zhongguo\"],[\"dell\",\"iaraya/list/dell\"],\n",
    "       [\"verbatim\",\"iaraya/list/verbatim\"],[\"butterfly\",\"iaraya/list/butterfly\"],[\"wd1gb\",\"iaraya/list/wd1gb\"],\n",
    "       [\"kofa\",\"hotsake/list/korean-classic-film-youtube-channel\"],[\"ondamedia\",\"alfadk/list/ondamedia\"],\n",
    "       [\"ondamedia\",\"alfadk/list/ondamedia\"],[\"netflix-cl\",\"iaraya/list/netflix-cl/\"],[\"mubi-cl\",\"iaraya/list/mubi-cl/\"],\n",
    "       [\"WL-I\",\"iaraya/watchlist/\"],[\"WL-M\",\"maspid/watchlist/\"],[\"dvds\",\"iaraya/list/dvds\"],[\"seagate2\",\"iaraya/list/seagate2\"]]\n",
    "\n",
    "#listas a actualizar\n",
    "#lists=[[\"netflix-cl\",\"iaraya/list/netflix-cl/\"],[\"ondamedia\",\"alfadk/list/ondamedia\"],[\"WL-I\",\"iaraya/watchlist/\"],[\"WL-M\",\"maspid/watchlist/\"]]\n",
    "#lists=[[\"mubi-cl\",\"iaraya/list/mubi-cl/\"]]\n",
    "#lists=[[\"netflix-cl\",\"iaraya/list/netflix-cl/\"],[\"seagate2\",\"iaraya/list/seagate2\"],[\"mubi-cl\",\"iaraya/list/mubi-cl/\"],[\"WL-I\",\"iaraya/watchlist/\"],[\"WL-M\",\"maspid/watchlist/\"]]\n",
    "#lists=[[\"seagate2\",\"iaraya/list/seagate2\"],[\"ondamedia\",\"alfadk/list/ondamedia\"]]\n",
    "#lists=[[\"mao\",\"iaraya/list/mao\"]]\n",
    "#lists=[[\"f-director\",\"michaelhaneke/list/films-directed-by-women\"]]\n",
    "#lists=[[\"mubi-cl\",\"iaraya/list/mubi-cl/\"],[\"netflix-cl\",\"iaraya/list/netflix-cl/\"],[\"seagate2\",\"iaraya/list/seagate2\"],[\"ondamedia\",\"alfadk/list/ondamedia\"]]\n",
    "lists=[[\"netflix-cl\",\"iaraya/list/netflix-cl/detail/\"]]\n",
    "\n",
    "# list_dict = {} # para carga inicial\n",
    "\n",
    "for l in lists:  \n",
    "    mlist = []\n",
    "    page = 1; validpage = True\n",
    "    while validpage:\n",
    "        webpage = requests.get(\"https://letterboxd.com/\"+l[1]+\"/page/\"+str(page)+\"/\")\n",
    "        soup = BeautifulSoup(webpage.content, 'html.parser')\n",
    "        validpage = False\n",
    "        for span in soup.find_all('div', class_=\"really-lazy-load\"):\n",
    "            div = span.find_next_sibling('div')\n",
    "            body = div.findChildren('div', class_=\"body-text\")\n",
    "            if len(body) != 0 and 'borrar' in body[0].text: \n",
    "                continue\n",
    "            validpage = True\n",
    "            mlist.append(span['data-target-link'].split('/')[-2])\n",
    "        time.sleep(1)\n",
    "        page += 1\n",
    "    list_dict[l[0]] = mlist "
   ]
  },
  {
   "cell_type": "markdown",
   "metadata": {},
   "source": [
    "Finalmente volvemos a guardar el mapa de listas actualizado:"
   ]
  },
  {
   "cell_type": "code",
   "execution_count": 48,
   "metadata": {},
   "outputs": [
    {
     "data": {
      "text/plain": [
       "2841"
      ]
     },
     "execution_count": 48,
     "metadata": {},
     "output_type": "execute_result"
    }
   ],
   "source": [
    "len(list_dict[\"netflix-cl\"])"
   ]
  },
  {
   "cell_type": "code",
   "execution_count": 49,
   "metadata": {},
   "outputs": [],
   "source": [
    "f = open(\"lists.txt\", \"w\")\n",
    "first = True\n",
    "for key in list_dict:\n",
    "    if first==False: f.write('\\n')\n",
    "    first=False\n",
    "    f.write(key+\",\"+','.join(list_dict[key]))\n",
    "f.close()"
   ]
  },
  {
   "cell_type": "markdown",
   "metadata": {},
   "source": [
    "Luego se sube al archivo al [repo github](https://github.com/rilianx/Documents)."
   ]
  },
  {
   "cell_type": "code",
   "execution_count": 50,
   "metadata": {},
   "outputs": [
    {
     "data": {
      "text/plain": [
       "{'commit': Commit(sha=\"8894f8b9fb0cbe35adeb8a713e8a8e620aca716e\"),\n",
       " 'content': ContentFile(path=\"lists.txt\")}"
      ]
     },
     "execution_count": 50,
     "metadata": {},
     "output_type": "execute_result"
    }
   ],
   "source": [
    "import github\n",
    "g = github.Github(login_or_token=\"bb8da8e96a783bef62452d86fa29acf5d4ae1f07\")\n",
    "\n",
    "repo = g.get_user().get_repo(\"Documents\")\n",
    "\n",
    "file = repo.get_contents(\"/lists.txt\")\n",
    "\n",
    "f = open(\"lists.txt\", \"r\")\n",
    "repo.update_file(\"lists.txt\", \"updates lists\", f.read(), file.sha)"
   ]
  },
  {
   "cell_type": "code",
   "execution_count": null,
   "metadata": {
    "jupyter": {
     "source_hidden": true
    }
   },
   "outputs": [],
   "source": []
  },
  {
   "cell_type": "markdown",
   "metadata": {},
   "source": [
    "Amazon Prime CL\n",
    "--\n",
    "\n",
    "Hacemos algo similiar para Netflix CL, esta vez debemos dividir la consulta en dos partes ya que son muchas películas."
   ]
  },
  {
   "cell_type": "code",
   "execution_count": 143,
   "metadata": {},
   "outputs": [
    {
     "data": {
      "image/png": "[encoded data removed]",
      "text/plain": [
       "<Figure size 432x288 with 1 Axes>"
      ]
     },
     "metadata": {
      "needs_background": "light"
     },
     "output_type": "display_data"
    }
   ],
   "source": [
    "from justwatch import JustWatch\n",
    "just_watch = JustWatch(country='CL')\n",
    "\n",
    "mlist=set()\n",
    "scores=[]\n",
    "min_year=2018; max_year=2025;\n",
    "i=1\n",
    "while True: \n",
    "    results_by_providers = just_watch.search_for_item(page=i, content_types=['movie'], providers=['prv'], release_year_from=min_year, release_year_until=max_year )\n",
    "    #scoring_filter_types={\"imdb:score\": {\"min_scoring_value\":min_score,\"max_scoring_value\":max_score}})\n",
    "    flag = False\n",
    "    for res in results_by_providers[\"items\"]:\n",
    "        flag = True\n",
    "        #mlist.append(res[\"full_path\"].split('/')[-1])\n",
    "        for it in res[\"scoring\"]:\n",
    "            if it['provider_type'] == 'tmdb:id':\n",
    "                mlist.add(str(it['value']))\n",
    "            if it['provider_type'] == 'imdb:votes':\n",
    "                scores.append(float(it['value']))\n",
    "    \n",
    "    if flag==False:\n",
    "        if min_year==2018: \n",
    "            min_year=2005; max_year=2017; i=0;\n",
    "        elif min_year==2005: \n",
    "            min_year=1800; max_year=2004; i=0;\n",
    "        else: break\n",
    "    i+=1\n",
    "histogram(\"Amazon Prime\",scores)"
   ]
  },
  {
   "cell_type": "code",
   "execution_count": 2,
   "metadata": {},
   "outputs": [
    {
     "ename": "NameError",
     "evalue": "name 'mlist' is not defined",
     "output_type": "error",
     "traceback": [
      "\u001b[1;31m---------------------------------------------------------------------------\u001b[0m",
      "\u001b[1;31mNameError\u001b[0m                                 Traceback (most recent call last)",
      "\u001b[1;32m<ipython-input-2-2d18355b52a9>\u001b[0m in \u001b[0;36m<module>\u001b[1;34m()\u001b[0m\n\u001b[1;32m----> 1\u001b[1;33m \u001b[0mprint\u001b[0m\u001b[1;33m(\u001b[0m\u001b[1;34m'n_movies:'\u001b[0m\u001b[1;33m,\u001b[0m \u001b[0mlen\u001b[0m\u001b[1;33m(\u001b[0m\u001b[0mmlist\u001b[0m\u001b[1;33m)\u001b[0m\u001b[1;33m)\u001b[0m\u001b[1;33m\u001b[0m\u001b[1;33m\u001b[0m\u001b[0m\n\u001b[0m\u001b[0;32m      2\u001b[0m \u001b[0mf\u001b[0m \u001b[1;33m=\u001b[0m \u001b[0mopen\u001b[0m\u001b[1;33m(\u001b[0m\u001b[1;34m\"amazonprime_cl_all.txt\"\u001b[0m\u001b[1;33m,\u001b[0m \u001b[1;34m\"w\"\u001b[0m\u001b[1;33m)\u001b[0m\u001b[1;33m\u001b[0m\u001b[1;33m\u001b[0m\u001b[0m\n\u001b[0;32m      3\u001b[0m \u001b[0mf\u001b[0m\u001b[1;33m.\u001b[0m\u001b[0mwrite\u001b[0m\u001b[1;33m(\u001b[0m\u001b[1;34m\"\\n\"\u001b[0m\u001b[1;33m.\u001b[0m\u001b[0mjoin\u001b[0m\u001b[1;33m(\u001b[0m\u001b[0mmlist\u001b[0m\u001b[1;33m)\u001b[0m\u001b[1;33m)\u001b[0m\u001b[1;33m\u001b[0m\u001b[1;33m\u001b[0m\u001b[0m\n\u001b[0;32m      4\u001b[0m \u001b[0mf\u001b[0m\u001b[1;33m.\u001b[0m\u001b[0mclose\u001b[0m\u001b[1;33m(\u001b[0m\u001b[1;33m)\u001b[0m\u001b[1;33m\u001b[0m\u001b[1;33m\u001b[0m\u001b[0m\n",
      "\u001b[1;31mNameError\u001b[0m: name 'mlist' is not defined"
     ]
    }
   ],
   "source": [
    "print('n_movies:', len(mlist))\n",
    "f = open(\"amazonprime_cl_all.txt\", \"w\")\n",
    "f.write(\"\\n\".join(mlist))\n",
    "f.close()"
   ]
  },
  {
   "cell_type": "code",
   "execution_count": null,
   "metadata": {},
   "outputs": [],
   "source": []
  },
  {
   "cell_type": "code",
   "execution_count": 141,
   "metadata": {},
   "outputs": [
    {
     "data": {
      "text/plain": [
       "3230"
      ]
     },
     "execution_count": 141,
     "metadata": {},
     "output_type": "execute_result"
    }
   ],
   "source": [
    "len(scores)"
   ]
  },
  {
   "cell_type": "code",
   "execution_count": 31,
   "metadata": {},
   "outputs": [],
   "source": [
    "import requests\n",
    "from bs4 import BeautifulSoup\n",
    "import time \n",
    "\n",
    "def load_list(listname):\n",
    "    mlist = set()\n",
    "    page = 1; validpage = True\n",
    "    while validpage:\n",
    "        webpage = requests.get(\"https://letterboxd.com/\"+listname+\"/page/\"+str(page)+\"/\")\n",
    "        soup = BeautifulSoup(webpage.content, 'html.parser')\n",
    "        validpage = False\n",
    "        for span in soup.find_all('div', class_=\"really-lazy-load\"):\n",
    "            validpage = True\n",
    "            mlist.add(span['data-target-link'].split('/')[-2])\n",
    "        time.sleep(1)\n",
    "        page += 1\n",
    "    return mlist"
   ]
  },
  {
   "cell_type": "code",
   "execution_count": 76,
   "metadata": {},
   "outputs": [],
   "source": [
    "netflix = load_list(\"iaraya/list/netflix-cl\")"
   ]
  },
  {
   "cell_type": "code",
   "execution_count": 41,
   "metadata": {},
   "outputs": [],
   "source": [
    "mubi = load_list(\"iaraya/list/mubi-cl\")"
   ]
  },
  {
   "cell_type": "code",
   "execution_count": 155,
   "metadata": {},
   "outputs": [],
   "source": [
    "amazon = load_list(\"iaraya/list/amazon-prime-cl\")"
   ]
  },
  {
   "cell_type": "code",
   "execution_count": 32,
   "metadata": {},
   "outputs": [],
   "source": [
    "hbomax =load_list(\"iaraya/list/hbo-max-cl\")"
   ]
  },
  {
   "cell_type": "code",
   "execution_count": 39,
   "metadata": {},
   "outputs": [],
   "source": [
    "criterion =load_list(\"schadenfroh/list/criterion-collection\")"
   ]
  },
  {
   "cell_type": "code",
   "execution_count": 42,
   "metadata": {},
   "outputs": [
    {
     "data": {
      "text/plain": [
       "61"
      ]
     },
     "execution_count": 42,
     "metadata": {},
     "output_type": "execute_result"
    }
   ],
   "source": [
    "len(mubi.intersection(criterion))"
   ]
  },
  {
   "cell_type": "code",
   "execution_count": 157,
   "metadata": {},
   "outputs": [],
   "source": [
    "mexico = load_list(\"iknow/list/estrenos-mexicanos-1990\")"
   ]
  },
  {
   "cell_type": "code",
   "execution_count": 159,
   "metadata": {},
   "outputs": [],
   "source": [
    "china = load_list(\"theendofcinema/list/the-chinese-cinema\")"
   ]
  },
  {
   "cell_type": "code",
   "execution_count": 162,
   "metadata": {},
   "outputs": [],
   "source": [
    "criterion = load_list(\"michaelhutchins/list/the-criterion-channel-limited-engagements\")"
   ]
  },
  {
   "cell_type": "code",
   "execution_count": 164,
   "metadata": {},
   "outputs": [],
   "source": [
    "asian = load_list(\"shbab/list/best-asian-movies-ive-seen\")"
   ]
  },
  {
   "cell_type": "code",
   "execution_count": 166,
   "metadata": {},
   "outputs": [],
   "source": [
    "indian = load_list(\"anand12/list/indian-cinema-essentials\")"
   ]
  },
  {
   "cell_type": "code",
   "execution_count": 168,
   "metadata": {},
   "outputs": [],
   "source": [
    "fernanda = load_list(\"moviescaly/list/peliculas-recomendadas-por-fernanda-solorzano\")"
   ]
  },
  {
   "cell_type": "code",
   "execution_count": 170,
   "metadata": {},
   "outputs": [],
   "source": [
    "saviors = load_list(\"davidc888/list/the-new-saviors-of-cinema-the-canon-of-new\")"
   ]
  },
  {
   "cell_type": "code",
   "execution_count": 172,
   "metadata": {},
   "outputs": [],
   "source": [
    "directores = load_list(\"iaraya/list/directores-mas-vistos/\")"
   ]
  },
  {
   "cell_type": "code",
   "execution_count": 158,
   "metadata": {},
   "outputs": [
    {
     "name": "stdout",
     "output_type": "stream",
     "text": [
      "netflix: 0\n",
      "mubi: 0\n",
      "amazon: 1\n"
     ]
    }
   ],
   "source": [
    "ls = mexico\n",
    "print(\"netflix:\",len(netflix.intersection(ls)))\n",
    "print(\"mubi:\",len(mubi.intersection(ls)))\n",
    "print(\"amazon:\",len(amazon.intersection(ls)))"
   ]
  },
  {
   "cell_type": "code",
   "execution_count": 160,
   "metadata": {},
   "outputs": [
    {
     "name": "stdout",
     "output_type": "stream",
     "text": [
      "netflix: 47\n",
      "mubi: 9\n",
      "amazon: 9\n"
     ]
    }
   ],
   "source": [
    "ls = china\n",
    "print(\"netflix:\",len(netflix.intersection(ls)))\n",
    "print(\"mubi:\",len(mubi.intersection(ls)))\n",
    "print(\"amazon:\",len(amazon.intersection(ls)))"
   ]
  },
  {
   "cell_type": "code",
   "execution_count": 163,
   "metadata": {},
   "outputs": [
    {
     "name": "stdout",
     "output_type": "stream",
     "text": [
      "netflix: 3\n",
      "mubi: 19\n",
      "amazon: 7\n"
     ]
    }
   ],
   "source": [
    "ls = criterion\n",
    "print(\"netflix:\",len(netflix.intersection(ls)))\n",
    "print(\"mubi:\",len(mubi.intersection(ls)))\n",
    "print(\"amazon:\",len(amazon.intersection(ls)))"
   ]
  },
  {
   "cell_type": "code",
   "execution_count": 165,
   "metadata": {},
   "outputs": [
    {
     "name": "stdout",
     "output_type": "stream",
     "text": [
      "netflix: 19\n",
      "mubi: 18\n",
      "amazon: 2\n"
     ]
    }
   ],
   "source": [
    "ls = asian\n",
    "print(\"netflix:\",len(netflix.intersection(ls)))\n",
    "print(\"mubi:\",len(mubi.intersection(ls)))\n",
    "print(\"amazon:\",len(amazon.intersection(ls)))"
   ]
  },
  {
   "cell_type": "code",
   "execution_count": 167,
   "metadata": {},
   "outputs": [
    {
     "name": "stdout",
     "output_type": "stream",
     "text": [
      "netflix: 14\n",
      "mubi: 21\n",
      "amazon: 5\n"
     ]
    }
   ],
   "source": [
    "ls = indian\n",
    "print(\"netflix:\",len(netflix.intersection(ls)))\n",
    "print(\"mubi:\",len(mubi.intersection(ls)))\n",
    "print(\"amazon:\",len(amazon.intersection(ls)))"
   ]
  },
  {
   "cell_type": "code",
   "execution_count": 169,
   "metadata": {},
   "outputs": [
    {
     "name": "stdout",
     "output_type": "stream",
     "text": [
      "netflix: 54\n",
      "mubi: 9\n",
      "amazon: 29\n"
     ]
    }
   ],
   "source": [
    "ls = fernanda\n",
    "print(\"netflix:\",len(netflix.intersection(ls)))\n",
    "print(\"mubi:\",len(mubi.intersection(ls)))\n",
    "print(\"amazon:\",len(amazon.intersection(ls)))"
   ]
  },
  {
   "cell_type": "code",
   "execution_count": 171,
   "metadata": {},
   "outputs": [
    {
     "name": "stdout",
     "output_type": "stream",
     "text": [
      "netflix: 12\n",
      "mubi: 15\n",
      "amazon: 5\n"
     ]
    }
   ],
   "source": [
    "ls = saviors\n",
    "print(\"netflix:\",len(netflix.intersection(ls)))\n",
    "print(\"mubi:\",len(mubi.intersection(ls)))\n",
    "print(\"amazon:\",len(amazon.intersection(ls)))"
   ]
  },
  {
   "cell_type": "code",
   "execution_count": 173,
   "metadata": {},
   "outputs": [
    {
     "name": "stdout",
     "output_type": "stream",
     "text": [
      "netflix: 3\n",
      "mubi: 5\n",
      "amazon: 2\n"
     ]
    }
   ],
   "source": [
    "ls = directores\n",
    "print(\"netflix:\",len(netflix.intersection(ls)))\n",
    "print(\"mubi:\",len(mubi.intersection(ls)))\n",
    "print(\"amazon:\",len(amazon.intersection(ls)))"
   ]
  },
  {
   "cell_type": "code",
   "execution_count": null,
   "metadata": {},
   "outputs": [],
   "source": []
  }
 ],
 "metadata": {
  "kernelspec": {
   "display_name": "Python 3",
   "language": "python",
   "name": "python3"
  },
  "language_info": {
   "codemirror_mode": {
    "name": "ipython",
    "version": 3
   },
   "file_extension": ".py",
   "mimetype": "text/x-python",
   "name": "python",
   "nbconvert_exporter": "python",
   "pygments_lexer": "ipython3",
   "version": "3.7.3"
  }
 },
 "nbformat": 4,
 "nbformat_minor": 4
}
