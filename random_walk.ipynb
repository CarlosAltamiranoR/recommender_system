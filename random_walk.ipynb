{
 "cells": [
  {
   "cell_type": "code",
   "execution_count": 1,
   "metadata": {},
   "outputs": [
    {
     "name": "stdin",
     "output_type": "stream",
     "text": [
      " ········\n"
     ]
    }
   ],
   "source": [
    "from bd import *\n",
    "from rs import *\n",
    "from  scrapper import *\n",
    "import requests"
   ]
  },
  {
   "cell_type": "code",
   "execution_count": 2,
   "metadata": {},
   "outputs": [
    {
     "data": {
      "text/plain": [
       "False"
      ]
     },
     "execution_count": 2,
     "metadata": {},
     "output_type": "execute_result"
    }
   ],
   "source": [
    "existeEnListTittleList(\"ls052277902\")"
   ]
  },
  {
   "cell_type": "markdown",
   "metadata": {},
   "source": [
    "**Obtener películas de una lista**"
   ]
  },
  {
   "cell_type": "code",
   "execution_count": 5,
   "metadata": {},
   "outputs": [
    {
     "data": {
      "text/plain": [
       "['Da 5 Bloods',\n",
       " 'Nomadland',\n",
       " 'Lovers Rock',\n",
       " 'The Trial of the Chicago 7',\n",
       " 'First Cow',\n",
       " 'Mank',\n",
       " 'Never Rarely Sometimes Always',\n",
       " 'Minari',\n",
       " \"Ma Rainey's Black Bottom\"]"
      ]
     },
     "execution_count": 5,
     "metadata": {},
     "output_type": "execute_result"
    }
   ],
   "source": [
    "def get_movies(idList):      \n",
    "    sql  = \"SELECT id_tittlelist FROM list_tittlelist where id_list=%s \"\n",
    "    with conn.cursor() as cursor:\n",
    "        cursor.execute( sql, (idList) )\n",
    "        value = cursor.fetchall()\n",
    "        if len(value) <= 0:\n",
    "            return None\n",
    "\n",
    "    movies = []\n",
    "    for m in value: movies.append(m[0])\n",
    "    return movies\n",
    "\n",
    "get_movies(\"ms2020_ls1001\")"
   ]
  },
  {
   "cell_type": "markdown",
   "metadata": {},
   "source": [
    "**Obtener listas que contienen una película**"
   ]
  },
  {
   "cell_type": "code",
   "execution_count": 4,
   "metadata": {},
   "outputs": [
    {
     "data": {
      "text/plain": [
       "['ms2019_ls1025', 'ms2019_ls1051', 'ms2019_ls1092', 'ms2019_ls1104']"
      ]
     },
     "execution_count": 4,
     "metadata": {},
     "output_type": "execute_result"
    }
   ],
   "source": [
    "def get_lists(idMovie):      \n",
    "    sql  = \"SELECT id_list FROM list_tittlelist where id_tittlelist=%s \"\n",
    "    with conn.cursor() as cursor:\n",
    "        cursor.execute( sql, (idMovie) )\n",
    "        value = cursor.fetchall()\n",
    "        if len(value) <= 0:\n",
    "            return None\n",
    "\n",
    "        lists = []\n",
    "        for l in value: lists.append(l[0])\n",
    "    return lists\n",
    "\n",
    "get_lists(\"Grass\")"
   ]
  },
  {
   "cell_type": "markdown",
   "metadata": {},
   "source": [
    "**Función para cargar listas asociadas a una película**"
   ]
  },
  {
   "cell_type": "code",
   "execution_count": 5,
   "metadata": {},
   "outputs": [],
   "source": [
    "import re\n",
    "def load_lists(idTitle):\n",
    "\n",
    "    lists = obtenerListasDesdeTitulo(idTitle)\n",
    "    for l in lists:\n",
    "        x = re.search(r\"([0-9]+)\", l[2])\n",
    "        size = int(x.group())\n",
    "        if size < 100 and size > 1:\n",
    "            x = re.search(r\"(ls\\w+)\", l[1])\n",
    "            list_name = x.group()\n",
    "            print(x.group(), len)\n",
    "            if not existeEnListTittleList(list_name):\n",
    "                descargarGuardarInfoList(list_name)\n",
    "\n"
   ]
  },
  {
   "cell_type": "markdown",
   "metadata": {},
   "source": [
    "Esta función retorna las listas asociadas a una película.\n",
    "Si la película tiene menos de 10 listas asociadas se intentan descargar."
   ]
  },
  {
   "cell_type": "code",
   "execution_count": 6,
   "metadata": {},
   "outputs": [],
   "source": [
    "def get_lists_or_download(idMovie, min_lists=10):\n",
    "    lists = get_lists(idMovie)\n",
    "    if len(get_lists(idMovie)) > min_lists: return lists\n",
    "    \n",
    "    load_lists(idMovie)\n",
    "    return get_lists(idMovie)\n",
    "      \n",
    "#lists = get_lists_or_download('tt0403692')"
   ]
  },
  {
   "cell_type": "markdown",
   "metadata": {},
   "source": [
    "Random Walk\n",
    "--\n",
    "\n",
    "Iteración de un random walk (lista aleatoria -> película aleatoria -> lista aleatoria)"
   ]
  },
  {
   "cell_type": "markdown",
   "metadata": {},
   "source": [
    "Experimentos con metascore\n",
    "---\n"
   ]
  },
  {
   "cell_type": "code",
   "execution_count": 2,
   "metadata": {},
   "outputs": [],
   "source": [
    "with conn.cursor() as cursor:\n",
    "        # ELIMINA VALORES EN TABLA\n",
    "        sql = \"DELETE FROM list_tittlelist\"\n",
    "        cursor.execute( sql )\n",
    "        conn.commit()"
   ]
  },
  {
   "cell_type": "markdown",
   "metadata": {},
   "source": [
    "Agrega las listas desde el archivo"
   ]
  },
  {
   "cell_type": "code",
   "execution_count": 4,
   "metadata": {},
   "outputs": [],
   "source": [
    "import csv\n",
    "\n",
    "with open(\"metascore2020.txt\") as tsv:\n",
    "    for mlist in csv.reader(tsv, dialect=\"excel-tab\"):\n",
    "        while '' in mlist: mlist.remove('')\n",
    "        id_list = mlist[0]\n",
    "        if existeEnListTittleList(id_list): continue\n",
    "        for movie in mlist[1:-1]:\n",
    "            #print(id_list, movie[0:29])\n",
    "            instertarListTittleList( id_list, movie[0:29])"
   ]
  },
  {
   "cell_type": "code",
   "execution_count": 9,
   "metadata": {},
   "outputs": [],
   "source": [
    "import random \n",
    "import numpy as np\n",
    "\n",
    "def random_walk(movie, t=0.2, block_list=None):\n",
    "    r=0.0\n",
    "    movies = set()\n",
    "    while r<=t:\n",
    "        L = get_lists(movie)\n",
    "        if block_list in L: L.remove(block_list)\n",
    "        if len(L)==0: return movies\n",
    "        r1 = random.randint(0, len(L)-1) \n",
    "        #se obtienen las películas de una lista aleatoria\n",
    "        M = get_movies(L[r1])\n",
    "        #se obtienen las listas de una película aleatoria\n",
    "        r2 = random.randint(0, len(M)-1)\n",
    "        movie=M[r2]\n",
    "        movies.add(movie)\n",
    "        r = random.uniform(0.0,1.0)\n",
    "    return movies        "
   ]
  },
  {
   "cell_type": "code",
   "execution_count": 11,
   "metadata": {},
   "outputs": [
    {
     "name": "stdout",
     "output_type": "stream",
     "text": [
      "{'Glory', 'Marriage Story', 'Parasite', 'The Irishman', 'The Souvenir'}\n"
     ]
    }
   ],
   "source": [
    "def recommend(source_movies, block_list=None, max_iter=1000, max_listsize=5, t=0.2):\n",
    "    counters = dict()\n",
    "    recommended_movies = set()\n",
    "\n",
    "    for i in range(max_iter):\n",
    "        for k in range(len(source_movies)):\n",
    "            movies = random_walk(source_movies[k], block_list=block_list, t=t)\n",
    "                \n",
    "            for m in movies:\n",
    "                if m not in counters:\n",
    "                    counters[m] = np.zeros(len(source_movies), dtype=int)\n",
    "                    counters[m][k] = 1\n",
    "                else:\n",
    "                    if np.min(counters[m])==5 and m not in source_movies and m not in recommended_movies: \n",
    "                        recommended_movies.add(m)\n",
    "                        if len(recommended_movies) == max_listsize:\n",
    "                            return recommended_movies, counters\n",
    "                    counters[m][k] += 1\n",
    "    \n",
    "    #criterio para seleccionar\n",
    "    \n",
    "    \n",
    "    return recommended_movies, counters\n",
    "rec, counters  = recommend([\"Monos\",\"Ema\"])\n",
    "print (rec)"
   ]
  },
  {
   "cell_type": "code",
   "execution_count": 12,
   "metadata": {},
   "outputs": [],
   "source": [
    "#counters"
   ]
  },
  {
   "cell_type": "code",
   "execution_count": 13,
   "metadata": {},
   "outputs": [],
   "source": [
    "all_movies=[]\n",
    "id=1001\n",
    "while existeEnListTittleList(\"ms2019_ls\"+str(id)):\n",
    "    all_movies += get_movies(\"ms2019_ls\"+str(id))\n",
    "    id += 1"
   ]
  },
  {
   "cell_type": "code",
   "execution_count": 14,
   "metadata": {},
   "outputs": [],
   "source": [
    "def validate(list_name, nsample=3, npred=5, t=0.2):\n",
    "    rw_tot_success = 0\n",
    "    rand_tot_success = 0\n",
    "    tot_size = 0\n",
    "    \n",
    "    M = get_movies(list_name) #se obtienen las pelis de la lista\n",
    "    \n",
    "\n",
    "    for m in M: \n",
    "        if m in all_movies: all_movies.remove(m)\n",
    "            \n",
    "    if verbose: print(\"movies:\", M)\n",
    "\n",
    "    #se filtran las películas que solo aprecen en la lista M\n",
    "    M = [x for x in M if x in all_movies]\n",
    "    \n",
    "    if len(M)>=nsample+2:\n",
    "    \n",
    "        for i in range(1):\n",
    "            # recommendation using random walk\n",
    "            source_movies = random.sample(M,nsample) #seleccionamos nsample pelis al azar\n",
    "            if verbose: print(\"source_movies:\",source_movies)\n",
    "\n",
    "            num = np.minimum(npred,len(M)-nsample) #número de películas a recomendar\n",
    "            recommendations,_ = recommend(source_movies, max_listsize=npred, block_list=list_name, t=t) \n",
    "            rw_tot_success += len(recommendations.intersection(M))/float(num)\n",
    "            tot_size += len(recommendations)\n",
    "            if verbose: print(\"rw_recommendations:\",recommendations)\n",
    "\n",
    "            # random recommendation\n",
    "\n",
    "            recommendations = random.sample(all_movies,npred)\n",
    "            recommendations = set(recommendations)\n",
    "            MM = [x for x in M if x not in source_movies]\n",
    "            rand_tot_success += len(recommendations.intersection(MM))/float(num)\n",
    "            if verbose: print(\"r_recommendations\",recommendations)\n",
    "        \n",
    "        print(list_name +\"\\t\"+ str(rand_tot_success/1.0) +\"\\t\"+ str(rw_tot_success/1.0) +\"\\t\" \\\n",
    "              + str(tot_size/1.0) + \"\\t\" + str(len(M)) )\n",
    "\n",
    "    M = get_movies(list_name) \n",
    "    for m in M: all_movies.append(m)\n",
    "\n",
    "#verbose=False\n",
    "#print(\"lista \\tr_success \\trw_success \\t#recom \\t lenM\")\n",
    "#for i in range(1,246):\n",
    "#    validate(\"ms2019_ls\"+str(1000+i), t=0.1, nsample=5, npred=10)"
   ]
  },
  {
   "cell_type": "code",
   "execution_count": 19,
   "metadata": {},
   "outputs": [
    {
     "name": "stdout",
     "output_type": "stream",
     "text": [
      "movies: ['A Hidden Life', 'Honey', 'Honey Boy', 'John Wick: Chapter 3 - Parabe', 'Knives Out', 'Parasite', 'The Irishman', 'The Lighthouse', 'The Report', 'The Reports on Sarah and Sale', 'Too Late to Die Young', 'Uncut Gems']\n",
      "source_movies: ['The Irishman', 'Parasite', 'Knives Out', 'Honey Boy', 'A Hidden Life']\n",
      "rw_recommendations: {'The Farewell', 'Once Upon a Time in Hollywood', 'Booksmart', 'Marriage Story', 'Glory', 'Little Women', 'Uncut Gems', 'Portrait of a Lady on Fire', 'The Last Black Man in San Fra', 'Ad Astra'}\n",
      "r_recommendations {'The Farewell', 'Doctor Sleep', 'The Irishman', 'Glory', 'The Beach Bum', 'Hampton', 'Apollo 11', 'The Last Black Man in San Fra', 'Joker'}\n",
      "ms2019_ls1001\t0.0\t0.2\t10.0\t10\n"
     ]
    }
   ],
   "source": [
    "verbose=True\n",
    "validate(\"ms2019_ls1001\", t=0.1, nsample=5, npred=10)"
   ]
  },
  {
   "cell_type": "code",
   "execution_count": 18,
   "metadata": {},
   "outputs": [],
   "source": [
    "rec, counters  = recommend(['The Irishman', 'Parasite', 'Knives Out', 'Honey Boy', 'A Hidden Life'], max_listsize=10)"
   ]
  },
  {
   "cell_type": "code",
   "execution_count": 19,
   "metadata": {},
   "outputs": [
    {
     "data": {
      "text/plain": [
       "{'Booksmart',\n",
       " 'Glory',\n",
       " 'Joker',\n",
       " 'Little Women',\n",
       " 'Marriage Story',\n",
       " 'Once Upon a Time in Hollywood',\n",
       " 'Portrait of a Lady on Fire',\n",
       " 'The Farewell',\n",
       " 'The Last Black Man in San Fra',\n",
       " 'Uncut Gems'}"
      ]
     },
     "execution_count": 19,
     "metadata": {},
     "output_type": "execute_result"
    }
   ],
   "source": [
    "rec"
   ]
  },
  {
   "cell_type": "code",
   "execution_count": 20,
   "metadata": {},
   "outputs": [
    {
     "data": {
      "text/plain": [
       "array([ 4,  2,  3,  9, 46])"
      ]
     },
     "execution_count": 20,
     "metadata": {},
     "output_type": "execute_result"
    }
   ],
   "source": [
    "counters['A Hidden Life']"
   ]
  },
  {
   "cell_type": "code",
   "execution_count": 26,
   "metadata": {},
   "outputs": [
    {
     "name": "stdout",
     "output_type": "stream",
     "text": [
      "[6 3 6 7 3]\n",
      "[ 5 16 12 16 16]\n",
      "[ 4  0  0  2 11]\n",
      "[0 0 1 3 0]\n",
      "[0 0 1 6 2]\n"
     ]
    }
   ],
   "source": [
    "for x in ['John Wick: Chapter 3 - Parabe', 'The Lighthouse', 'The Report', 'The Reports on Sarah and Sale', 'Too Late to Die Young']:\n",
    "    print (counters[x])"
   ]
  },
  {
   "cell_type": "code",
   "execution_count": 27,
   "metadata": {},
   "outputs": [
    {
     "name": "stdout",
     "output_type": "stream",
     "text": [
      "[11 28 13 15 19]\n",
      "[11 10 13 10  7]\n",
      "[20 13  5  6 26]\n",
      "[31 29 35 40 22]\n",
      "[20 17 20 24  8]\n",
      "[ 6 13  9 19  6]\n",
      "[44 44 41 32 33]\n",
      "[13  8 10 20  6]\n",
      "[18 23 15 22 13]\n",
      "[ 7 16 14 12 13]\n"
     ]
    }
   ],
   "source": [
    "for x in rec:\n",
    "    print (counters[x])"
   ]
  },
  {
   "cell_type": "code",
   "execution_count": null,
   "metadata": {},
   "outputs": [],
   "source": []
  }
 ],
 "metadata": {
  "kernelspec": {
   "display_name": "Python 3",
   "language": "python",
   "name": "python3"
  },
  "language_info": {
   "codemirror_mode": {
    "name": "ipython",
    "version": 3
   },
   "file_extension": ".py",
   "mimetype": "text/x-python",
   "name": "python",
   "nbconvert_exporter": "python",
   "pygments_lexer": "ipython3",
   "version": "3.7.3"
  }
 },
 "nbformat": 4,
 "nbformat_minor": 4
}
