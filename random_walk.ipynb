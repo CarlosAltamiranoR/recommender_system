{
 "cells": [
  {
   "cell_type": "code",
   "execution_count": 1,
   "metadata": {},
   "outputs": [
    {
     "name": "stdin",
     "output_type": "stream",
     "text": [
      " ········\n"
     ]
    }
   ],
   "source": [
    "from bd import *\n",
    "from rs import *\n",
    "from  scrapper import *\n",
    "import requests\n",
    "urllib3.contrib.pyopenssl.inject_into_urllib3()\n",
    "requests.packages.urllib3.util.ssl_.DEFAULT_CIPHERS += ':ADH-AES128-SHA256'\n",
    "\n",
    "#descargarGuardarInfoList(\"ls052277902\")"
   ]
  },
  {
   "cell_type": "code",
   "execution_count": 19,
   "metadata": {},
   "outputs": [
    {
     "data": {
      "text/plain": [
       "True"
      ]
     },
     "execution_count": 19,
     "metadata": {},
     "output_type": "execute_result"
    }
   ],
   "source": [
    "existeEnListTittleList(\"ls052277902\")"
   ]
  },
  {
   "cell_type": "markdown",
   "metadata": {},
   "source": [
    "**Obtener películas de una lista**"
   ]
  },
  {
   "cell_type": "code",
   "execution_count": 4,
   "metadata": {},
   "outputs": [
    {
     "data": {
      "text/plain": [
       "'tt0168629'"
      ]
     },
     "execution_count": 4,
     "metadata": {},
     "output_type": "execute_result"
    }
   ],
   "source": [
    "def get_movies(idList):      \n",
    "    sql  = \"SELECT id_tittlelist FROM list_tittlelist where id_list=%s \"\n",
    "    with conn.cursor() as cursor:\n",
    "        cursor.execute( sql, (idList) )\n",
    "        value = cursor.fetchall()\n",
    "        if len(value) <= 0:\n",
    "            return None\n",
    "\n",
    "    movies = []\n",
    "    for m in value: movies.append(m[0])\n",
    "    return movies\n",
    "\n",
    "get_movies(\"ls052277902\")[0]"
   ]
  },
  {
   "cell_type": "markdown",
   "metadata": {},
   "source": [
    "**Obtener listas que contienen una película**"
   ]
  },
  {
   "cell_type": "code",
   "execution_count": 6,
   "metadata": {},
   "outputs": [
    {
     "data": {
      "text/plain": [
       "'ls046188846'"
      ]
     },
     "execution_count": 6,
     "metadata": {},
     "output_type": "execute_result"
    }
   ],
   "source": [
    "def get_lists(idMovie):      \n",
    "    sql  = \"SELECT id_list FROM list_tittlelist where id_tittlelist=%s \"\n",
    "    with conn.cursor() as cursor:\n",
    "        cursor.execute( sql, (idMovie) )\n",
    "        value = cursor.fetchall()\n",
    "        if len(value) <= 0:\n",
    "            return None\n",
    "\n",
    "        lists = []\n",
    "        for l in value: lists.append(l[0])\n",
    "    return lists\n",
    "\n",
    "get_lists(\"tt0403692\")[0]"
   ]
  },
  {
   "cell_type": "markdown",
   "metadata": {},
   "source": [
    "**Función para cargar listas asociadas a una película**"
   ]
  },
  {
   "cell_type": "code",
   "execution_count": 8,
   "metadata": {},
   "outputs": [],
   "source": [
    "import re\n",
    "def load_lists(idTitle):\n",
    "\n",
    "    lists = obtenerListasDesdeTitulo(idTitle)\n",
    "    for l in lists:\n",
    "        x = re.search(r\"([0-9]+)\", l[2])\n",
    "        size = int(x.group())\n",
    "        if size < 100 and size > 1:\n",
    "            x = re.search(r\"(ls\\w+)\", l[1])\n",
    "            list_name = x.group()\n",
    "            print(x.group(), len)\n",
    "            if not existeEnListTittleList(list_name):\n",
    "                descargarGuardarInfoList(list_name)\n",
    "\n"
   ]
  },
  {
   "cell_type": "markdown",
   "metadata": {},
   "source": [
    "Esta función retorna las listas asociadas a una película.\n",
    "Si la película tiene menos de 10 listas asociadas se intentan descargar."
   ]
  },
  {
   "cell_type": "code",
   "execution_count": 16,
   "metadata": {},
   "outputs": [],
   "source": [
    "def get_lists_or_download(idMovie, min_lists=10):\n",
    "    lists = get_lists(idMovie)\n",
    "    if len(get_lists(idMovie)) > min_lists: return lists\n",
    "    \n",
    "    load_lists(idMovie)\n",
    "    return get_lists(idMovie)\n",
    "      \n",
    "lists = get_lists_or_download('tt0403692')"
   ]
  },
  {
   "cell_type": "markdown",
   "metadata": {},
   "source": [
    "Random Walk\n",
    "--\n",
    "\n",
    "Iteración de un random walk (lista aleatoria -> película aleatoria -> lista aleatoria)"
   ]
  },
  {
   "cell_type": "code",
   "execution_count": 35,
   "metadata": {},
   "outputs": [
    {
     "name": "stdout",
     "output_type": "stream",
     "text": [
      "tt0365748\n"
     ]
    }
   ],
   "source": [
    "import random \n",
    "      \n",
    "#se obtienen las películas de una lista aleatoria\n",
    "r1 = random.randint(0, len(lists)) \n",
    "movies = get_movies(lists[r1])\n",
    "\n",
    "\n",
    "#se obtienen las listas de una película aleatoria\n",
    "r2 = random.randint(0, len(movies))\n",
    "print(movies[r2])\n",
    "#lists = get_lists_or_download(movies[r2])\n"
   ]
  },
  {
   "cell_type": "code",
   "execution_count": null,
   "metadata": {},
   "outputs": [],
   "source": []
  }
 ],
 "metadata": {
  "kernelspec": {
   "display_name": "Python 3",
   "language": "python",
   "name": "python3"
  },
  "language_info": {
   "codemirror_mode": {
    "name": "ipython",
    "version": 3
   },
   "file_extension": ".py",
   "mimetype": "text/x-python",
   "name": "python",
   "nbconvert_exporter": "python",
   "pygments_lexer": "ipython3",
   "version": "3.7.4"
  }
 },
 "nbformat": 4,
 "nbformat_minor": 4
}
