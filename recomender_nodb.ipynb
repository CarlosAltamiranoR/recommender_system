{
 "cells": [
  {
   "cell_type": "markdown",
   "metadata": {},
   "source": [
    "Carga de archivo\n",
    "----\n",
    "\n",
    "Se lee el archivo con listas de películas y se almacena en mapas. El formato del archivo es:\n",
    "````\n",
    "id_lista1, movie1, movie2,...\n",
    "id_lista2, ...\n",
    "....\n",
    "````"
   ]
  },
  {
   "cell_type": "code",
   "execution_count": 37,
   "metadata": {},
   "outputs": [
    {
     "name": "stdout",
     "output_type": "stream",
     "text": [
      "Total de peliculas: 1248\n",
      "Total de peliculas (contando repetidas): 2967\n",
      "Total de listas: 225\n"
     ]
    }
   ],
   "source": [
    "import csv \n",
    "lsname = \"asmr\"\n",
    "filename = \"asmr.txt\"\n",
    "\n",
    "movie2list = dict()\n",
    "list2movie = dict()\n",
    "\n",
    "mov2index = dict();\n",
    "all_movies = [] # con repetición\n",
    "all_movies2 = []; # sin repetición\n",
    "idm=0\n",
    "\n",
    "\n",
    "with open(filename) as tsv:\n",
    "    for mlist in csv.reader(tsv, dialect=\"excel-tab\"):\n",
    "        while '' in mlist: mlist.remove('')\n",
    "        id_list = mlist[0]\n",
    "        list2movie[id_list] = set(mlist[1:])\n",
    "        for movie in mlist[1:]:\n",
    "            if movie in movie2list:\n",
    "                movie2list[movie].add(id_list)\n",
    "            else: \n",
    "                movie2list[movie] = set([id_list])\n",
    "                \n",
    "            if movie not in all_movies2:\n",
    "                mov2index[movie]=idm\n",
    "                all_movies2.append(movie)\n",
    "                idm += 1\n",
    "            all_movies.append(movie)\n",
    "                \n",
    "lssize = len(list2movie)\n",
    "print(\"Total de peliculas:\",len(mov2index))\n",
    "print(\"Total de peliculas (contando repetidas):\",len(all_movies))\n",
    "print(\"Total de listas:\",lssize)"
   ]
  },
  {
   "cell_type": "code",
   "execution_count": 16,
   "metadata": {},
   "outputs": [
    {
     "name": "stdout",
     "output_type": "stream",
     "text": [
      "{'moonlight-2016', 'uncle-boonmee-who-can-recall-his-past-lives', 'the-tree-of-life-2011', 'the-diving-bell-and-the-butterfly', 'whiplash-2014', 'where-the-wild-things-are', 'birdman-or-the-unexpected-virtue-of-ignorance', 'mulholland-drive', 'uncut-gems', 'roma-2018'}\n"
     ]
    }
   ],
   "source": [
    "def get_movies(idList):      \n",
    "    return list2movie[idList]\n",
    "print(get_movies(lsname+\"1001\"))"
   ]
  },
  {
   "cell_type": "code",
   "execution_count": 17,
   "metadata": {},
   "outputs": [
    {
     "name": "stdout",
     "output_type": "stream",
     "text": [
      "{'asmr1141', 'asmr1172', 'asmr1111', 'asmr1080', 'asmr1075', 'asmr1092', 'asmr1108', 'asmr1052', 'asmr1138', 'asmr1027', 'asmr1048', 'asmr1043', 'asmr1081', 'asmr1097', 'asmr1079', 'asmr1001', 'asmr1056', 'asmr1102', 'asmr1091', 'asmr1206', 'asmr1041', 'asmr1040', 'asmr1209', 'asmr1087'}\n"
     ]
    }
   ],
   "source": [
    "def get_lists(idMovie):      \n",
    "    return movie2list[idMovie]\n",
    "\n",
    "\n",
    "print(get_lists(list(get_movies(lsname+\"1001\"))[0]))"
   ]
  },
  {
   "cell_type": "markdown",
   "metadata": {},
   "source": [
    "mov2vec\n",
    "---\n",
    "\n",
    "Esta función transforma una lista de películas `mlist` en un vector `[0 0 0 0 X .... X .. X .. 0]`.\n",
    "Cada casilla del vector represnta a una película, y las `X=1/len(mlist)` corresponden a las películas de la lista."
   ]
  },
  {
   "cell_type": "code",
   "execution_count": 18,
   "metadata": {},
   "outputs": [],
   "source": [
    "import random\n",
    "import numpy as np\n",
    "def mov2vec(mlist, mov2index):\n",
    "    size = len (mov2index)\n",
    "    vec = np.zeros(size)\n",
    "    for m in mlist:\n",
    "        vec[mov2index[m]] = 1.0/len(mlist)\n",
    "    return vec"
   ]
  },
  {
   "cell_type": "markdown",
   "metadata": {},
   "source": [
    "Generación de Datos de entrenamiento\n",
    "----\n",
    "\n",
    "Cada dato de entrenamiento se genera de la siguiente forma:\n",
    "\n",
    "1. Se selecciona una lista aleatoria `L` de la primera mitad de listas (`lssize/2`).\n",
    "2. La entrada (`data_x`) corresponde a una de entre 2 y 5 películas pertenecienta a `L`.\n",
    "3. La salida (`data_y`) coresponde a la lista de películas completa `L`\n",
    "\n",
    "Notar que las listas son vectorizadas usando la función `mov2vec`"
   ]
  },
  {
   "cell_type": "code",
   "execution_count": 19,
   "metadata": {},
   "outputs": [],
   "source": [
    "n_data = 10000\n",
    "data_x = np.zeros((n_data, len(mov2index))); data_y = np.zeros((n_data, len(mov2index)));\n",
    "for i in range(0,n_data):\n",
    "    j = random.randint(1001,1000+int(lssize/2))\n",
    "    L = list(get_movies(lsname+str(j)))\n",
    "    sz = len(L)\n",
    "    cut = random.randint(5,10)\n",
    "    random.shuffle(L)\n",
    "    l1 = L[:cut]\n",
    "    data_x[i] = mov2vec(l1, mov2index)\n",
    "    data_y[i] = mov2vec(L, mov2index)"
   ]
  },
  {
   "cell_type": "markdown",
   "metadata": {},
   "source": [
    "Modelo de red neuronal\n",
    "---\n",
    "\n",
    "Se crea la red neuronal densa. Tanto la entrada como la salida es un vector de largo igual a la cantidad total de películas."
   ]
  },
  {
   "cell_type": "code",
   "execution_count": 20,
   "metadata": {},
   "outputs": [],
   "source": [
    "from numpy import loadtxt\n",
    "from keras.models import Sequential\n",
    "from keras.layers import Dense\n",
    "\n",
    "N = len (mov2index)\n",
    "def baseline_model():\n",
    "    # define the keras model\n",
    "    model = Sequential()\n",
    "    model.add(Dense(20, input_dim=N, activation='sigmoid'))  # \"attributes\" layer\n",
    "    #model.add(Dense(50, activation='relu'))  # \"attributes\" layer\n",
    "    model.add(Dense(N))\n",
    "    model.compile(loss='mse', optimizer='adam', metrics=['mse'])\n",
    "    return model"
   ]
  },
  {
   "cell_type": "markdown",
   "metadata": {},
   "source": [
    "Ajuste de la red\n",
    "---\n",
    "\n",
    "La red se entrena usando los datos creados más arriba"
   ]
  },
  {
   "cell_type": "code",
   "execution_count": 21,
   "metadata": {},
   "outputs": [
    {
     "data": {
      "text/plain": [
       "<keras.callbacks.callbacks.History at 0x2b7584fb630>"
      ]
     },
     "execution_count": 21,
     "metadata": {},
     "output_type": "execute_result"
    }
   ],
   "source": [
    "from keras.wrappers.scikit_learn import KerasRegressor\n",
    "from sklearn.model_selection import cross_val_score\n",
    "from sklearn.model_selection import KFold\n",
    "\n",
    "estimator = KerasRegressor(build_fn=baseline_model, epochs=100, batch_size=500, verbose=False)\n",
    "estimator.fit(data_x, data_y)\n",
    "#kfold = KFold(n_splits=10)\n",
    "#results = cross_val_score(estimator, data_x, data_y, cv=kfold)\n",
    "#print(\"Baseline: %.2f (%.2f) MSE\" % (results.mean(), results.std()))"
   ]
  },
  {
   "cell_type": "markdown",
   "metadata": {},
   "source": [
    "Recommend (ANN)\n",
    "----\n",
    "\n",
    "La función `ann_recommend` usa la red entrenada para realizar una recomendación.\n",
    "\n",
    "La función retorna una lista de `n` películas que recomienda a partir de una lista de entrada `F`. Las películas recomendadas no están en el conjunto `F`.\n",
    "\n",
    "Además se puede incluir una lista `seen` con las películas vistas por el usuario para que no aparezcan entre las recomendaciones.\n"
   ]
  },
  {
   "cell_type": "code",
   "execution_count": 22,
   "metadata": {},
   "outputs": [],
   "source": [
    "def ann_recommend(F, n=10, seen=[], verbose=True):\n",
    "    data_x = mov2vec(F, mov2index)\n",
    "    \n",
    "    data_y = estimator.predict([[data_x]])[0]\n",
    "    \n",
    "    max_indexes = (-data_y).argsort() #índices ordenados\n",
    "    recommendations = set()\n",
    "    for i in max_indexes:\n",
    "        if all_movies2[i] not in F and all_movies2[i] not in seen:\n",
    "            if(verbose): print(data_y[i], all_movies2[i])\n",
    "            recommendations.add (all_movies2[i])\n",
    "            if len(recommendations) == n: break  \n",
    "    return recommendations"
   ]
  },
  {
   "cell_type": "markdown",
   "metadata": {},
   "source": [
    "En este ejemplo se muestran las recomendaciones a partir de una lista dada. Adjunto a cada recomendación, el valor asociado a cada película por la red (recuerda que la red retorna un vector en donde cada casilla corresponde a una película, las películas recomendadas son las que maximizan el valor).\n",
    "\n",
    "> Cabe mencionar que utilicé el recomendador con esta lista F para que me recomendara películas y me han parecido bastante buenas las que he visto hasta ahora."
   ]
  },
  {
   "cell_type": "code",
   "execution_count": 23,
   "metadata": {},
   "outputs": [
    {
     "name": "stdout",
     "output_type": "stream",
     "text": [
      "0.021584928 2001-a-space-odyssey\n",
      "0.017897815 portrait-of-a-lady-on-fire\n",
      "0.01672056 phantom-thread\n",
      "0.015966322 paterson\n",
      "0.015290158 moonlight-2016\n",
      "0.013575028 roma-2018\n",
      "0.0132684065 her\n",
      "0.0118889045 spirited-away\n",
      "0.011280146 my-neighbor-totoro\n",
      "0.011270956 the-tree-of-life-2011\n"
     ]
    }
   ],
   "source": [
    "F = ['little-forest','columbus-2017','kikis-delivery-service','the-assassination-of-jesse-james-by-the-coward-robert-ford']\n",
    "ann_recommend(F,10,verbose=True); "
   ]
  },
  {
   "cell_type": "markdown",
   "metadata": {},
   "source": [
    "### Ejemplo\n",
    "\n",
    "En este ejemplo se ve el comportamiento del recomendador usando una de las listas de entrenamiento."
   ]
  },
  {
   "cell_type": "code",
   "execution_count": 25,
   "metadata": {},
   "outputs": [
    {
     "name": "stdout",
     "output_type": "stream",
     "text": [
      "Lista original: ['boy-the-world', 'in-the-crosswind', 'the-fall', 'girls-lost', 'melancholia', 'bait-2019', 'a-ghost-story-2017', 'night-is-short-walk-on-girl', 'upstream-color', 'dead-slow-ahead']\n",
      "Lista de entrada: ['boy-the-world', 'in-the-crosswind', 'the-fall']\n",
      "Películas recomendadas: ['moonlight-2016', '2001-a-space-odyssey', 'portrait-of-a-lady-on-fire', 'phantom-thread', 'paterson']\n",
      "Aciertos: 0 /5\n"
     ]
    }
   ],
   "source": [
    "m = list(get_movies(lsname+\"1010\"))\n",
    "random.shuffle(m)\n",
    "l1 = m[:3]\n",
    "l2 = m[3:]\n",
    "\n",
    "data = mov2vec(l1, mov2index)\n",
    "\n",
    "print(\"Lista original:\",m)\n",
    "print(\"Lista de entrada:\", l1)\n",
    "rec=ann_recommend(l1,5,verbose=False)\n",
    "print(\"Películas recomendadas:\",list(rec))\n",
    "print(\"Aciertos:\",len(rec.intersection(m)),\"/5\")"
   ]
  },
  {
   "cell_type": "markdown",
   "metadata": {},
   "source": [
    "En este ejemplo se ve el comportamiento del recomendador usando una de las listas **no usadas para entrenar**."
   ]
  },
  {
   "cell_type": "code",
   "execution_count": 26,
   "metadata": {},
   "outputs": [
    {
     "name": "stdout",
     "output_type": "stream",
     "text": [
      "Lista original: ['portrait-of-a-lady-on-fire', 'stalker', 'the-florida-project', '2001-a-space-odyssey', 'blade-runner-2049', 'la-la-land', 'personal-shopper', 'the-lighthouse-2019', 'cold-war-2018', 'the-tree-of-life-2011', 'never-rarely-sometimes-always', 'roma-2018', 'columbus-2017', 'the-witch-2015', 'waves-2019', 'your-name', 'her', 'at-eternitys-gate', 'high-life-2018', 'arrival-2016', 'clementine-2019', 'moonlight-2016', 'ocean-waves', 'enter-the-void', 'gods-own-country-2017', 'a-ghost-story-2017', 'heartstone']\n",
      "Lista de entrada: ['portrait-of-a-lady-on-fire', 'stalker', 'the-florida-project', '2001-a-space-odyssey']\n",
      "Películas recomendadas: ['moonlight-2016', 'the-lighthouse-2019', 'uncle-boonmee-who-can-recall-his-past-lives', 'blade-runner', 'columbus-2017', 'phantom-thread', 'her', 'roma-2018', 'paterson', 'eraserhead']\n",
      "Aciertos: 5 /10\n"
     ]
    }
   ],
   "source": [
    "m = list(get_movies(lsname+\"1172\"))\n",
    "random.shuffle(m)\n",
    "l1 = m[:4]\n",
    "l2 = m[4:]\n",
    "\n",
    "data = mov2vec(l1, mov2index)\n",
    "print(\"Lista original:\",m)\n",
    "print(\"Lista de entrada:\", l1)\n",
    "\n",
    "rec=ann_recommend(l1,10,verbose=False)\n",
    "print(\"Películas recomendadas:\",list(rec))\n",
    "print(\"Aciertos:\",len(rec.intersection(m)),\"/10\")"
   ]
  },
  {
   "cell_type": "markdown",
   "metadata": {},
   "source": [
    "### User-based Collaborative Filtering\n",
    "\n",
    "Paper: [Recommender system techniques applied to Netflix movie data (2018)](https://science.vu.nl/en/Images/werkstuk-postmus_tcm296-877824.pdf)\n",
    "\n",
    "Encontrar k usuarios más cercanos a usuario u, es decir, usuario que maximiza:\n",
    "\n",
    "![image](https://i.imgur.com/ud1awnH.png)\n",
    "\n",
    "La nota predicha para  las películas del usuario se obtiene promediando las notas de los usuarios más similares."
   ]
  },
  {
   "cell_type": "code",
   "execution_count": 36,
   "metadata": {},
   "outputs": [
    {
     "data": {
      "text/plain": [
       "1001"
      ]
     },
     "execution_count": 36,
     "metadata": {},
     "output_type": "execute_result"
    }
   ],
   "source": [
    "def sim_cosine(setA, setB):\n",
    "    return len(setA.intersection(setB))/len(setA.union(setB))"
   ]
  },
  {
   "cell_type": "markdown",
   "metadata": {},
   "source": [
    "**Retorna índices de las listas mas cercanas a set_user**"
   ]
  },
  {
   "cell_type": "code",
   "execution_count": 27,
   "metadata": {},
   "outputs": [],
   "source": [
    "def knn(set_user, k=5, ini=1001, end=1101):\n",
    "    sim = np.zeros(end-ini+1)\n",
    "    for i in range(ini,end+1):\n",
    "        sim[i-ini] = (sim_cosine(set_user, get_movies(lsname+str(i))))\n",
    "    return (-sim).argsort()[0:k]+ini"
   ]
  },
  {
   "cell_type": "markdown",
   "metadata": {},
   "source": [
    "Ejemplo"
   ]
  },
  {
   "cell_type": "code",
   "execution_count": 44,
   "metadata": {},
   "outputs": [
    {
     "name": "stdout",
     "output_type": "stream",
     "text": [
      "asmr1001 : 0.4\n",
      "asmr1060 : 0.16666666666666666\n",
      "asmr1053 : 0.09090909090909091\n",
      "asmr1048 : 0.09090909090909091\n",
      "asmr1018 : 0.08333333333333333\n"
     ]
    }
   ],
   "source": [
    "F = set([\"mulholland-drive\",\"the-tree-of-life-2011\",\"roma-2018\",\"uncut-gems\"])\n",
    "sets = knn(F)\n",
    "for s in sets:\n",
    "    print(str(lsname+str(s)),\":\", sim_cosine(F, get_movies(lsname+str(s))))"
   ]
  },
  {
   "cell_type": "code",
   "execution_count": 45,
   "metadata": {},
   "outputs": [],
   "source": [
    "def cf_recommend(F, n=10, seen=[], verbose=False):\n",
    "    F=set(F)\n",
    "    ids = knn(F,10,ini=1001,end=1000+int(lssize/2))\n",
    "    m_counts = dict()\n",
    "    for id in ids:\n",
    "        for m in get_movies(lsname+str(id)):\n",
    "            if m in m_counts: m_counts[m] +=1\n",
    "            else: m_counts[m] = 1\n",
    "                \n",
    "    sorted_map = dict(sorted(m_counts.items(), key=lambda item: -item[1]))\n",
    "    \n",
    "    recommendations = set()\n",
    "    for m in sorted_map:\n",
    "        if m not in F and m not in seen:\n",
    "            recommendations.add (m)\n",
    "            if len(recommendations) == n: break  \n",
    "    return recommendations\n"
   ]
  },
  {
   "cell_type": "markdown",
   "metadata": {},
   "source": [
    "Validación\n",
    "----\n",
    "\n",
    "Para validar que el asunto haga cosas con sentido, se usa la siguiente función de validación.\n",
    "\n",
    "La función `validate` realiza 10 pruebas aleatorias para cada lista que consisten en lo siguiente:\n",
    "\n",
    "1. Se seleccionan `nsample` películas de la lista.\n",
    "2. A partir de estas películas se recomiendan `nrec`\n",
    "3. Se calcula la cantidad de aciertos entre las películas recomendadas y las que no fueron sampleadas de la lista.\n",
    "\n",
    "Para comparar, también se genera una recomendación aleatoria que se obtiene seleccionando películas aleatorias de una **lista de todas las películas con repetición** (para que así las más repetidas tengan mayor probabilidad).\n",
    "Luego se calcula la cantidad de aciertos de la misma manera que usando el recomendador \"inteligente\".\n",
    "\n",
    "\n"
   ]
  },
  {
   "cell_type": "code",
   "execution_count": 46,
   "metadata": {},
   "outputs": [],
   "source": [
    "import random\n",
    "random.seed(1)\n",
    "def validate(list_name, nsample=3, nrec=5):\n",
    "    ann_tot_success = 0\n",
    "    cf_tot_success = 0\n",
    "    rand_tot_success = 0\n",
    "    tot_size = 0\n",
    "    \n",
    "    L = get_movies(list_name) #se obtienen las pelis de la lista\n",
    "    for m in L: all_movies.remove(m)\n",
    "    if verbose: print(\"movies:\", L)\n",
    "\n",
    "    #se eliminan de M las películas que solo aprecen en esta lista\n",
    "    L2 = [x for x in L if x in all_movies]\n",
    "    \n",
    "    #Se considera el caso sólo si existen al menos nsample+2 películas en M\n",
    "    if len(L2)>=nsample+2:\n",
    "        hits_ann = 0\n",
    "        hits_cf = 0\n",
    "        for i in range(10):\n",
    "            # recommendation using ANN\n",
    "            source_movies = random.sample(L2,nsample) #seleccionamos nsample pelis al azar\n",
    "            if verbose: print(\"source_movies:\",source_movies)\n",
    "\n",
    "            recommendations = ann_recommend(source_movies, n=nrec, verbose=False) \n",
    "            MM = [x for x in L2 if x not in source_movies]\n",
    "            hits_ann += len(recommendations.intersection(MM))\n",
    "            ann_tot_success += len(recommendations.intersection(MM))/float(len(L2)-nsample)\n",
    "            tot_size += len(recommendations)\n",
    "            if verbose: print(\"ann_rec:\",recommendations)\n",
    "                \n",
    "            # recommendation using collaborative filtering\n",
    "            source_movies = random.sample(L2,nsample) #seleccionamos nsample pelis al azar\n",
    "            if verbose: print(\"source_movies:\",source_movies)\n",
    "\n",
    "            recommendations = cf_recommend(source_movies, n=nrec, verbose=False) \n",
    "            MM = [x for x in L2 if x not in source_movies]\n",
    "            hits_cf += len(recommendations.intersection(MM))\n",
    "            cf_tot_success += len(recommendations.intersection(MM))/float(len(L2)-nsample)\n",
    "            tot_size += len(recommendations)\n",
    "            if verbose: print(\"ann_rec:\",recommendations)\n",
    "\n",
    "            # random recommendation (conjunto con repetición)\n",
    "            recommendations = set()\n",
    "            #random.sample(all_movies,nrec)\n",
    "            while len(recommendations) < nrec:\n",
    "                recommendations=recommendations.union(set(random.sample(all_movies,nrec-len(recommendations))))\n",
    "            rand_tot_success += len(recommendations.intersection(MM))/float(len(L2)-nsample)\n",
    "            if verbose: print(\"rand_rec\",recommendations)\n",
    "        \n",
    "        print(list_name +\"\\t\"+ \"%.1f\" %(rand_tot_success*10) +\"\\t\"+ \"%.1f\" %(ann_tot_success*10) +\"\\t\" \\\n",
    "              + str(hits_ann/10.0) + \"/\" + str(len(L2)-nsample) +\"\\t\"+ \"%.1f\" %(cf_tot_success*10) +\"\\t\" \\\n",
    "              + str(hits_cf/10.0) + \"/\" + str(len(L2)-nsample) +\"\\t\" + str(len(L2)) )\n",
    "\n",
    "        for m in L: all_movies.append(m)\n",
    "        return rand_tot_success/10.0,ann_tot_success/10.0,cf_tot_success/10.0\n",
    "    \n",
    "    for m in L: all_movies.append(m)\n",
    "    return None, None, None"
   ]
  },
  {
   "cell_type": "markdown",
   "metadata": {},
   "source": [
    "Se ejecuta el experimento de validación con las listas que **no se usaron par el entrenamiento**."
   ]
  },
  {
   "cell_type": "code",
   "execution_count": 47,
   "metadata": {},
   "outputs": [
    {
     "data": {
      "text/markdown": [
       "rand: %acierto de recomendador aleatorio"
      ],
      "text/plain": [
       "<IPython.core.display.Markdown object>"
      ]
     },
     "metadata": {},
     "output_type": "display_data"
    },
    {
     "data": {
      "text/markdown": [
       "ann: %acierto de recomendador ANN"
      ],
      "text/plain": [
       "<IPython.core.display.Markdown object>"
      ]
     },
     "metadata": {},
     "output_type": "display_data"
    },
    {
     "data": {
      "text/markdown": [
       "hits: promedio de aciertos de las 10 películas recomendadas"
      ],
      "text/plain": [
       "<IPython.core.display.Markdown object>"
      ]
     },
     "metadata": {},
     "output_type": "display_data"
    },
    {
     "data": {
      "text/markdown": [
       "lenL: largo de la lista"
      ],
      "text/plain": [
       "<IPython.core.display.Markdown object>"
      ]
     },
     "metadata": {},
     "output_type": "display_data"
    },
    {
     "name": "stdout",
     "output_type": "stream",
     "text": [
      "lista \t\trand \tann \thits \tcf \thits \tlenL\n",
      "asmr1113\t2.0\t0.0\t0.0/5\t16.0\t0.8/5\t10\n",
      "asmr1114\t6.7\t40.0\t1.2/3\t36.7\t1.1/3\t8\n",
      "asmr1115\t2.0\t0.0\t0.0/5\t6.0\t0.3/5\t10\n",
      "asmr1118\t10.0\t17.5\t0.7/4\t35.0\t1.4/4\t9\n",
      "asmr1119\t10.0\t25.0\t1.0/4\t37.5\t1.5/4\t9\n",
      "asmr1120\t1.4\t0.0\t0.0/22\t5.0\t1.1/22\t27\n",
      "asmr1121\t6.9\t7.7\t1.0/13\t9.2\t1.2/13\t18\n",
      "asmr1123\t12.0\t26.0\t1.3/5\t26.0\t1.3/5\t10\n",
      "asmr1124\t2.7\t4.6\t1.2/26\t5.4\t1.4/26\t31\n",
      "asmr1125\t0.0\t0.0\t0.0/3\t23.3\t0.7/3\t8\n",
      "asmr1126\t5.0\t25.0\t0.5/2\t15.0\t0.3/2\t7\n",
      "asmr1127\t2.8\t7.6\t1.9/25\t8.0\t2.0/25\t30\n",
      "asmr1128\t2.0\t12.0\t0.6/5\t4.0\t0.2/5\t10\n",
      "asmr1130\t0.0\t26.0\t1.3/5\t30.0\t1.5/5\t10\n",
      "asmr1131\t0.0\t0.0\t0.0/4\t10.0\t0.4/4\t9\n",
      "asmr1132\t3.3\t0.0\t0.0/3\t0.0\t0.0/3\t8\n",
      "asmr1134\t5.0\t5.0\t0.1/2\t35.0\t0.7/2\t7\n",
      "asmr1135\t2.0\t0.0\t0.0/10\t0.0\t0.0/10\t15\n",
      "asmr1136\t6.7\t26.7\t0.8/3\t26.7\t0.8/3\t8\n",
      "asmr1137\t7.5\t17.5\t0.7/4\t7.5\t0.3/4\t9\n",
      "asmr1138\t0.0\t7.5\t0.3/4\t2.5\t0.1/4\t9\n",
      "asmr1139\t2.0\t9.0\t0.9/10\t8.0\t0.8/10\t15\n",
      "asmr1141\t2.1\t12.1\t2.9/24\t7.9\t1.9/24\t29\n",
      "asmr1143\t3.3\t23.3\t0.7/3\t53.3\t1.6/3\t8\n",
      "asmr1144\t5.6\t8.9\t0.8/9\t10.0\t0.9/9\t14\n",
      "asmr1146\t0.0\t10.0\t0.2/2\t0.0\t0.0/2\t7\n",
      "asmr1148\t0.0\t0.0\t0.0/3\t0.0\t0.0/3\t8\n",
      "asmr1149\t10.0\t35.0\t1.4/4\t27.5\t1.1/4\t9\n",
      "asmr1150\t2.5\t20.0\t0.8/4\t22.5\t0.9/4\t9\n",
      "asmr1151\t2.5\t0.0\t0.0/4\t2.5\t0.1/4\t9\n",
      "asmr1152\t5.0\t30.0\t2.4/8\t16.2\t1.3/8\t13\n",
      "asmr1153\t0.0\t16.7\t0.5/3\t13.3\t0.4/3\t8\n",
      "asmr1154\t3.3\t3.3\t0.1/3\t6.7\t0.2/3\t8\n",
      "asmr1155\t3.3\t26.7\t0.8/3\t16.7\t0.5/3\t8\n",
      "asmr1156\t2.2\t10.7\t2.9/27\t6.7\t1.8/27\t32\n",
      "asmr1158\t0.0\t50.0\t2.0/4\t22.5\t0.9/4\t9\n",
      "asmr1162\t5.0\t7.5\t0.3/4\t2.5\t0.1/4\t9\n",
      "asmr1164\t0.0\t10.0\t0.2/2\t0.0\t0.0/2\t7\n",
      "asmr1166\t1.2\t6.2\t0.5/8\t12.5\t1.0/8\t13\n",
      "asmr1167\t2.0\t16.0\t0.8/5\t10.0\t0.5/5\t10\n",
      "asmr1168\t10.0\t5.0\t0.1/2\t15.0\t0.3/2\t7\n",
      "asmr1170\t0.0\t0.0\t0.0/2\t0.0\t0.0/2\t7\n",
      "asmr1172\t6.5\t30.0\t6.0/20\t29.0\t5.8/20\t25\n",
      "asmr1173\t0.0\t10.0\t0.7/7\t25.7\t1.8/7\t12\n",
      "asmr1174\t4.2\t33.3\t4.0/12\t20.8\t2.5/12\t17\n",
      "asmr1175\t0.0\t15.0\t0.3/2\t20.0\t0.4/2\t7\n",
      "asmr1176\t10.0\t0.0\t0.0/2\t5.0\t0.1/2\t7\n",
      "asmr1177\t7.5\t22.5\t0.9/4\t27.5\t1.1/4\t9\n",
      "asmr1179\t5.0\t5.0\t0.1/2\t10.0\t0.2/2\t7\n",
      "asmr1180\t5.0\t22.5\t0.9/4\t17.5\t0.7/4\t9\n",
      "asmr1181\t5.6\t16.7\t1.5/9\t15.6\t1.4/9\t14\n",
      "asmr1182\t5.0\t55.0\t1.1/2\t30.0\t0.6/2\t7\n",
      "asmr1185\t8.0\t14.0\t0.7/5\t12.0\t0.6/5\t10\n",
      "asmr1186\t0.0\t0.0\t0.0/4\t0.0\t0.0/4\t9\n",
      "asmr1187\t4.0\t28.0\t1.4/5\t32.0\t1.6/5\t10\n",
      "asmr1188\t0.0\t0.0\t0.0/3\t3.3\t0.1/3\t8\n",
      "asmr1189\t8.0\t10.0\t0.5/5\t16.0\t0.8/5\t10\n",
      "asmr1190\t5.7\t18.6\t1.3/7\t24.3\t1.7/7\t12\n",
      "asmr1191\t7.5\t25.0\t1.0/4\t15.0\t0.6/4\t9\n",
      "asmr1193\t7.5\t0.0\t0.0/4\t5.0\t0.2/4\t9\n",
      "asmr1197\t10.0\t37.5\t1.5/4\t27.5\t1.1/4\t9\n",
      "asmr1198\t10.0\t12.5\t0.5/4\t5.0\t0.2/4\t9\n",
      "asmr1199\t4.0\t6.0\t0.6/10\t7.0\t0.7/10\t15\n",
      "asmr1200\t2.0\t6.0\t0.3/5\t12.0\t0.6/5\t10\n",
      "asmr1202\t3.3\t20.0\t0.6/3\t26.7\t0.8/3\t8\n",
      "asmr1203\t5.0\t5.0\t0.1/2\t35.0\t0.7/2\t7\n",
      "asmr1205\t4.0\t8.0\t0.4/5\t8.0\t0.4/5\t10\n",
      "asmr1206\t5.0\t17.3\t3.8/22\t11.8\t2.6/22\t27\n",
      "asmr1207\t0.0\t0.0\t0.0/2\t0.0\t0.0/2\t7\n",
      "asmr1209\t9.3\t64.7\t9.7/15\t60.7\t9.1/15\t20\n",
      "asmr1210\t5.0\t20.0\t0.8/4\t15.0\t0.6/4\t9\n",
      "asmr1214\t0.0\t2.5\t0.1/4\t7.5\t0.3/4\t9\n",
      "asmr1216\t0.0\t18.3\t1.1/6\t8.3\t0.5/6\t11\n",
      "asmr1217\t6.0\t8.0\t0.4/5\t20.0\t1.0/5\t10\n",
      "asmr1218\t0.0\t0.0\t0.0/3\t0.0\t0.0/3\t8\n",
      "asmr1220\t5.0\t45.0\t0.9/2\t45.0\t0.9/2\t7\n",
      "asmr1221\t6.0\t28.0\t1.4/5\t42.0\t2.1/5\t10\n",
      "asmr1223\t0.0\t0.0\t0.0/4\t0.0\t0.0/4\t9\n",
      "asmr1224\t30.0\t35.0\t0.7/2\t85.0\t1.7/2\t7\n",
      "% acierto del recomendador ANN: 15.0\n",
      "% acierto recomendador collaborative filtering: 16.7\n",
      "% acierto recomendador aleatorio: 4.3\n"
     ]
    }
   ],
   "source": [
    "verbose=False\n",
    "from IPython.display import display, Markdown, Latex\n",
    "display(Markdown('rand: %acierto de recomendador aleatorio'))\n",
    "display(Markdown('ann: %acierto de recomendador ANN'))\n",
    "display(Markdown('hits: promedio de aciertos de las 10 películas recomendadas'))\n",
    "display(Markdown('lenL: largo de la lista'))\n",
    "\n",
    "print(\"lista \\t\\trand \\tann \\thits \\tcf \\thits \\tlenL\")\n",
    "tot_rnd_success = 0.0; tot_ann_success=0; tot_cf_success=0; count=0\n",
    "for i in range(int(lssize/2)+1,lssize):\n",
    "    rnd_success, ann_success, cf_success = validate(lsname+str(1000+i), nsample=5, nrec=10)\n",
    "    if rnd_success != None:\n",
    "        tot_rnd_success += rnd_success\n",
    "        tot_ann_success += ann_success\n",
    "        tot_cf_success += cf_success\n",
    "        count +=1\n",
    "print(\"% acierto del recomendador ANN:\",  \"%.1f\" %(tot_ann_success/count*100))\n",
    "print(\"% acierto recomendador collaborative filtering:\", \"%.1f\" %(tot_cf_success/count*100))\n",
    "print(\"% acierto recomendador aleatorio:\", \"%.1f\" %(tot_rnd_success/count*100))"
   ]
  },
  {
   "cell_type": "code",
   "execution_count": null,
   "metadata": {},
   "outputs": [],
   "source": []
  }
 ],
 "metadata": {
  "kernelspec": {
   "display_name": "Python 3",
   "language": "python",
   "name": "python3"
  },
  "language_info": {
   "codemirror_mode": {
    "name": "ipython",
    "version": 3
   },
   "file_extension": ".py",
   "mimetype": "text/x-python",
   "name": "python",
   "nbconvert_exporter": "python",
   "pygments_lexer": "ipython3",
   "version": "3.7.3"
  }
 },
 "nbformat": 4,
 "nbformat_minor": 4
}
