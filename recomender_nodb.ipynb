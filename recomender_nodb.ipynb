{
 "cells": [
  {
   "cell_type": "markdown",
   "metadata": {},
   "source": [
    "Carga de archivo\n",
    "----\n",
    "\n",
    "Se lee el archivo con listas de películas y se almacena en mapas. El formato del archivo es:\n",
    "````\n",
    "id_lista1, movie1, movie2,...\n",
    "id_lista2, ...\n",
    "....\n",
    "````"
   ]
  },
  {
   "cell_type": "code",
   "execution_count": 277,
   "metadata": {},
   "outputs": [
    {
     "name": "stdout",
     "output_type": "stream",
     "text": [
      "Total de peliculas: 1248\n",
      "Total de peliculas (contando repetidas): 2967\n",
      "Total de listas: 225\n"
     ]
    }
   ],
   "source": [
    "import csv \n",
    "lsname = \"asmr\"\n",
    "filename = \"asmr.txt\"\n",
    "\n",
    "movie2list = dict()\n",
    "list2movie = dict()\n",
    "\n",
    "mov2index = dict();\n",
    "all_movies = [] # con repetición\n",
    "all_movies2 = []; # sin repetición\n",
    "idm=0\n",
    "\n",
    "\n",
    "with open(filename) as tsv:\n",
    "    for mlist in csv.reader(tsv, dialect=\"excel-tab\"):\n",
    "        while '' in mlist: mlist.remove('')\n",
    "        id_list = mlist[0]\n",
    "        list2movie[id_list] = set(mlist[1:])\n",
    "        for movie in mlist[1:]:\n",
    "            if movie in movie2list:\n",
    "                movie2list[movie].add(id_list)\n",
    "            else: \n",
    "                movie2list[movie] = set([id_list])\n",
    "                \n",
    "            if movie not in all_movies2:\n",
    "                mov2index[movie]=idm\n",
    "                all_movies2.append(movie)\n",
    "                idm += 1\n",
    "            all_movies.append(movie)\n",
    "                \n",
    "lssize = len(list2movie)\n",
    "print(\"Total de peliculas:\",len(mov2index))\n",
    "print(\"Total de peliculas (contando repetidas):\",len(all_movies))\n",
    "print(\"Total de listas:\",lssize)"
   ]
  },
  {
   "cell_type": "code",
   "execution_count": 19,
   "metadata": {},
   "outputs": [
    {
     "name": "stdout",
     "output_type": "stream",
     "text": [
      "{'mulholland-drive', 'whiplash-2014', 'uncle-boonmee-who-can-recall-his-past-lives', 'uncut-gems', 'birdman-or-the-unexpected-virtue-of-ignorance', 'where-the-wild-things-are', 'the-diving-bell-and-the-butterfly', 'moonlight-2016', 'roma-2018', 'the-tree-of-life-2011'}\n"
     ]
    }
   ],
   "source": [
    "def get_movies(idList):      \n",
    "    return list2movie[idList]\n",
    "print(get_movies(\"asmr1001\"))"
   ]
  },
  {
   "cell_type": "code",
   "execution_count": 233,
   "metadata": {},
   "outputs": [
    {
     "name": "stdout",
     "output_type": "stream",
     "text": [
      "{'asmr1141', 'asmr1048', 'asmr1152', 'asmr1175', 'asmr1209', 'asmr1158', 'asmr1078', 'asmr1107', 'asmr1121', 'asmr1053', 'asmr1114', 'asmr1155', 'asmr1086', 'asmr1116', 'asmr1129', 'asmr1146', 'asmr1191', 'asmr1110', 'asmr1197', 'asmr1001', 'asmr1153', 'asmr1050', 'asmr1025', 'asmr1097', 'asmr1172', 'asmr1018', 'asmr1150', 'asmr1060', 'asmr1123', 'asmr1137', 'asmr1026', 'asmr1205', 'asmr1017', 'asmr1177', 'asmr1170'}\n"
     ]
    }
   ],
   "source": [
    "def get_lists(idMovie):      \n",
    "    return movie2list[idMovie]\n",
    "print(get_lists(\"the-tree-of-life-2011\"))"
   ]
  },
  {
   "cell_type": "markdown",
   "metadata": {},
   "source": [
    "mov2vec\n",
    "---\n",
    "\n",
    "Esta función transforma una lista de películas `mlist` en un vector `[0 0 0 0 X .... X .. X .. 0]`.\n",
    "Cada casilla del vector represnta a una película, y las `X=1/len(mlist)` corresponden a las películas de la lista."
   ]
  },
  {
   "cell_type": "code",
   "execution_count": 21,
   "metadata": {},
   "outputs": [],
   "source": [
    "import random\n",
    "import numpy as np\n",
    "def mov2vec(mlist, mov2index):\n",
    "    size = len (mov2index)\n",
    "    vec = np.zeros(size)\n",
    "    for m in mlist:\n",
    "        vec[mov2index[m]] = 1.0/len(mlist)\n",
    "    return vec"
   ]
  },
  {
   "cell_type": "markdown",
   "metadata": {},
   "source": [
    "Generación de Datos de entrenamiento\n",
    "----\n",
    "\n",
    "Cada dato de entrenamiento se genera de la siguiente forma:\n",
    "\n",
    "1. Se selecciona una lista aleatoria `L` de la primera mitad de listas (`lssize/2`).\n",
    "2. La entrada (`data_x`) corresponde a una de entre 2 y 5 películas pertenecienta a `L`.\n",
    "3. La salida (`data_y`) coresponde a la lista de películas completa `L`\n",
    "\n",
    "Notar que las listas son vectorizadas usando la función `mov2vec`"
   ]
  },
  {
   "cell_type": "code",
   "execution_count": 211,
   "metadata": {},
   "outputs": [],
   "source": [
    "n_data = 10000\n",
    "data_x = np.zeros((n_data, len(mov2index))); data_y = np.zeros((n_data, len(mov2index)));\n",
    "for i in range(0,n_data):\n",
    "    j = random.randint(1001,1000+int(lssize/2))\n",
    "    L = list(get_movies(lsname+str(j)))\n",
    "    sz = len(L)\n",
    "    cut = random.randint(5,10)\n",
    "    random.shuffle(L)\n",
    "    l1 = L[:cut]\n",
    "    data_x[i] = mov2vec(l1, mov2index)\n",
    "    data_y[i] = mov2vec(L, mov2index)"
   ]
  },
  {
   "cell_type": "markdown",
   "metadata": {},
   "source": [
    "Modelo de red neuronal\n",
    "---\n",
    "\n",
    "Se crea la red neuronal densa. Tanto la entrada como la salida es un vector de largo igual a la cantidad total de películas."
   ]
  },
  {
   "cell_type": "code",
   "execution_count": 220,
   "metadata": {},
   "outputs": [],
   "source": [
    "from numpy import loadtxt\n",
    "from keras.models import Sequential\n",
    "from keras.layers import Dense\n",
    "\n",
    "N = len (mov2index)\n",
    "def baseline_model():\n",
    "    # define the keras model\n",
    "    model = Sequential()\n",
    "    model.add(Dense(20, input_dim=N, activation='relu'))  # \"attributes\" layer\n",
    "    #model.add(Dense(50, activation='relu'))  # \"attributes\" layer\n",
    "    model.add(Dense(N))\n",
    "    model.compile(loss='mse', optimizer='adam', metrics=['mse'])\n",
    "    return model"
   ]
  },
  {
   "cell_type": "markdown",
   "metadata": {},
   "source": [
    "Ajuste de la red\n",
    "---\n",
    "\n",
    "La red se entrena usando los datos creados más arriba"
   ]
  },
  {
   "cell_type": "code",
   "execution_count": 221,
   "metadata": {},
   "outputs": [
    {
     "data": {
      "text/plain": [
       "<keras.callbacks.callbacks.History at 0x27918064780>"
      ]
     },
     "execution_count": 221,
     "metadata": {},
     "output_type": "execute_result"
    }
   ],
   "source": [
    "from keras.wrappers.scikit_learn import KerasRegressor\n",
    "from sklearn.model_selection import cross_val_score\n",
    "from sklearn.model_selection import KFold\n",
    "\n",
    "estimator = KerasRegressor(build_fn=baseline_model, epochs=100, batch_size=500, verbose=False)\n",
    "estimator.fit(data_x, data_y)\n",
    "#kfold = KFold(n_splits=10)\n",
    "#results = cross_val_score(estimator, data_x, data_y, cv=kfold)\n",
    "#print(\"Baseline: %.2f (%.2f) MSE\" % (results.mean(), results.std()))"
   ]
  },
  {
   "cell_type": "markdown",
   "metadata": {},
   "source": [
    "Recommend\n",
    "----\n",
    "\n",
    "La función `recommend` usa la red entrenada para realizar una recomendación.\n",
    "\n",
    "La función retorna una lista de `n` películas que recomienda a partir de una lista de entrada `F`. Las películas recomendadas no están en el conjunto `F`.\n",
    "\n",
    "Además se puede incluir una lista `seen` con las películas vistas por el usuario para que no aparezcan entre las recomendaciones.\n"
   ]
  },
  {
   "cell_type": "code",
   "execution_count": 222,
   "metadata": {},
   "outputs": [],
   "source": [
    "def recommend(F, n=10, seen=[], verbose=True):\n",
    "    data_x = mov2vec(F, mov2index)\n",
    "    \n",
    "    data_y = estimator.predict([[data_x]])[0]\n",
    "    \n",
    "    max_indexes = (-data_y).argsort()\n",
    "    recommendations = set()\n",
    "    for i in max_indexes:\n",
    "        if all_movies2[i] not in F and all_movies2[i] not in seen:\n",
    "            if(verbose): print(data_y[i], all_movies2[i])\n",
    "            recommendations.add (all_movies2[i])\n",
    "            if len(recommendations) == n: break  \n",
    "    return recommendations"
   ]
  },
  {
   "cell_type": "markdown",
   "metadata": {},
   "source": [
    "En este ejemplo se muestran las recomendaciones a partir de una lista dada. Adjunto a cada recomendación, el valor asociado a cada película por la red (recuerda que la red retorna un vector en donde cada casilla corresponde a una película, las películas recomendadas son las que maximizan el valor).\n",
    "\n",
    "> Cabe mencionar que utilicé el recomendador con esta lista F para que me recomendara películas y me han parecido bastante buenas las que he visto hasta ahora."
   ]
  },
  {
   "cell_type": "code",
   "execution_count": 223,
   "metadata": {},
   "outputs": [
    {
     "name": "stdout",
     "output_type": "stream",
     "text": [
      "0.04554712 portrait-of-a-lady-on-fire\n",
      "0.040911097 arrival-2016\n",
      "0.03221978 roma-2018\n",
      "0.032007195 my-neighbor-totoro\n",
      "0.03129747 blade-runner-2049\n",
      "0.026988376 the-tree-of-life-2011\n",
      "0.02692424 once-upon-a-time-in-hollywood\n",
      "0.017013665 little-women-2019\n",
      "0.016400408 in-the-mood-for-love\n",
      "0.014349551 fantasia\n"
     ]
    }
   ],
   "source": [
    "F = ['little-forest','columbus-2017','kikis-delivery-service','the-assassination-of-jesse-james-by-the-coward-robert-ford']\n",
    "recommend(F,10,verbose=True); "
   ]
  },
  {
   "cell_type": "markdown",
   "metadata": {},
   "source": [
    "### Ejemplo\n",
    "\n",
    "En este ejemplo se ve el comportamiento del recomendador usando una de las listas de entrenamiento."
   ]
  },
  {
   "cell_type": "code",
   "execution_count": 224,
   "metadata": {},
   "outputs": [
    {
     "name": "stdout",
     "output_type": "stream",
     "text": [
      "Lista original: ['night-is-short-walk-on-girl', 'bait-2019', 'dead-slow-ahead', 'in-the-crosswind', 'boy-the-world', 'upstream-color', 'girls-lost', 'the-fall', 'a-ghost-story-2017', 'melancholia']\n",
      "Lista de entrada: ['night-is-short-walk-on-girl', 'bait-2019', 'dead-slow-ahead']\n",
      "Películas recomendadas: ['paterson', 'stalker', 'the-duke-of-burgundy', 'the-lighthouse-2019', '2001-a-space-odyssey']\n",
      "Aciertos: 0 /5\n"
     ]
    }
   ],
   "source": [
    "m = list(get_movies(lsname+\"1010\"))\n",
    "random.shuffle(m)\n",
    "l1 = m[:3]\n",
    "l2 = m[3:]\n",
    "\n",
    "data = mov2vec(l1, mov2index)\n",
    "\n",
    "print(\"Lista original:\",m)\n",
    "print(\"Lista de entrada:\", l1)\n",
    "rec=recommend(l1,5,verbose=False)\n",
    "print(\"Películas recomendadas:\",list(rec))\n",
    "print(\"Aciertos:\",len(rec.intersection(m)),\"/5\")"
   ]
  },
  {
   "cell_type": "markdown",
   "metadata": {},
   "source": [
    "En este ejemplo se ve el comportamiento del recomendador usando una de las listas **no usadas para entrenar**."
   ]
  },
  {
   "cell_type": "code",
   "execution_count": 225,
   "metadata": {},
   "outputs": [
    {
     "name": "stdout",
     "output_type": "stream",
     "text": [
      "Lista original: ['columbus-2017', 'the-witch-2015', 'cold-war-2018', 'clementine-2019', 'heartstone', 'portrait-of-a-lady-on-fire', 'personal-shopper', '2001-a-space-odyssey', 'stalker', 'arrival-2016', 'blade-runner-2049', 'at-eternitys-gate', 'enter-the-void', 'never-rarely-sometimes-always', 'the-florida-project', 'the-lighthouse-2019', 'ocean-waves', 'high-life-2018', 'her', 'la-la-land', 'roma-2018', 'moonlight-2016', 'your-name', 'the-tree-of-life-2011', 'gods-own-country-2017', 'waves-2019', 'a-ghost-story-2017']\n",
      "Lista de entrada: ['columbus-2017', 'the-witch-2015', 'cold-war-2018', 'clementine-2019']\n",
      "Películas recomendadas: ['the-lure', 'paterson', 'portrait-of-a-lady-on-fire', 'in-the-mood-for-love', 'my-neighbor-totoro', 'jodhaa-akbar', 'roma-2018', 'the-tree-of-life-2011', 'arrival-2016', '2001-a-space-odyssey']\n",
      "Aciertos: 5 /10\n"
     ]
    }
   ],
   "source": [
    "m = list(get_movies(lsname+\"1172\"))\n",
    "random.shuffle(m)\n",
    "l1 = m[:4]\n",
    "l2 = m[4:]\n",
    "\n",
    "data = mov2vec(l1, mov2index)\n",
    "print(\"Lista original:\",m)\n",
    "print(\"Lista de entrada:\", l1)\n",
    "\n",
    "rec=recommend(l1,10,verbose=False)\n",
    "print(\"Películas recomendadas:\",list(rec))\n",
    "print(\"Aciertos:\",len(rec.intersection(m)),\"/10\")"
   ]
  },
  {
   "cell_type": "markdown",
   "metadata": {},
   "source": [
    "Validación\n",
    "----\n",
    "\n",
    "Para validar que el asunto haga cosas con sentido, se usa la siguiente función de validación.\n",
    "\n",
    "La función `validate` realiza 10 pruebas aleatorias para cada lista que consisten en lo siguiente:\n",
    "\n",
    "1. Se seleccionan `nsample` películas de la lista.\n",
    "2. A partir de estas películas se recomiendan `npred`\n",
    "3. Se calcula la cantidad de aciertos entre las películas recomendadas y las que no fueron sampleadas de la lista.\n",
    "\n",
    "Para comparar, también se genera una recomendación aleatoria que se obtiene seleccionando películas aleatorias de una **lista de todas las películas con repetición** (para que así las más repetidas tengan mayor probabilidad).\n",
    "Luego se calcula la cantidad de aciertos de la misma manera que usando el recomendador \"inteligente\".\n",
    "\n",
    "\n"
   ]
  },
  {
   "cell_type": "code",
   "execution_count": 275,
   "metadata": {},
   "outputs": [],
   "source": [
    "import random\n",
    "random.seed(1)\n",
    "def validate(list_name, nsample=3, nrec=5):\n",
    "    rw_tot_success = 0\n",
    "    rand_tot_success = 0\n",
    "    tot_size = 0\n",
    "    \n",
    "    L = get_movies(list_name) #se obtienen las pelis de la lista\n",
    "    for m in L: all_movies.remove(m)\n",
    "    if verbose: print(\"movies:\", L)\n",
    "\n",
    "    #se eliminan de M las películas que solo aprecen en esta lista\n",
    "    L2 = [x for x in L if x in all_movies]\n",
    "    \n",
    "    #Se considera el caso sólo si existen al menos nsample+2 películas en M\n",
    "    if len(L2)>=nsample+2:\n",
    "        hits = 0\n",
    "        for i in range(10):\n",
    "            # recommendation using ANN\n",
    "            source_movies = random.sample(L2,nsample) #seleccionamos nsample pelis al azar\n",
    "            if verbose: print(\"source_movies:\",source_movies)\n",
    "\n",
    "            recommendations = recommend(source_movies, n=nrec, verbose=False) \n",
    "            MM = [x for x in L2 if x not in source_movies]\n",
    "            hits += len(recommendations.intersection(MM))\n",
    "            rw_tot_success += len(recommendations.intersection(MM))/float(len(L2)-nsample)\n",
    "            tot_size += len(recommendations)\n",
    "            if verbose: print(\"ann_rec:\",recommendations)\n",
    "\n",
    "            # random recommendation\n",
    "            recommendations = set()\n",
    "            while len(recommendations) < nrec:\n",
    "                recommendations=recommendations.union(set(random.sample(all_movies,nrec-len(recommendations))))\n",
    "            rand_tot_success += len(recommendations.intersection(MM))/float(len(L2)-nsample)\n",
    "            if verbose: print(\"rand_rec\",recommendations)\n",
    "        \n",
    "        print(list_name +\"\\t\"+ \"%.1f\" %(rand_tot_success*10) +\"\\t\"+ \"%.1f\" %(rw_tot_success*10) +\"\\t\" \\\n",
    "              + str(hits/10.0) + \"/\" + str(len(L2)-nsample) +\"\\t\" + str(len(L2)) )\n",
    "\n",
    "        for m in L: all_movies.append(m)\n",
    "        return rw_tot_success/10.0,rand_tot_success/10.0\n",
    "    \n",
    "    for m in L: all_movies.append(m)\n",
    "    return None, None"
   ]
  },
  {
   "cell_type": "markdown",
   "metadata": {},
   "source": [
    "Se ejecuta el experimento de validación con las listas que **no se usaron par el entrenamiento**."
   ]
  },
  {
   "cell_type": "code",
   "execution_count": 278,
   "metadata": {},
   "outputs": [
    {
     "data": {
      "text/markdown": [
       "rand: %acierto de recomendador aleatorio"
      ],
      "text/plain": [
       "<IPython.core.display.Markdown object>"
      ]
     },
     "metadata": {},
     "output_type": "display_data"
    },
    {
     "data": {
      "text/markdown": [
       "ann: %acierto de recomendador ANN"
      ],
      "text/plain": [
       "<IPython.core.display.Markdown object>"
      ]
     },
     "metadata": {},
     "output_type": "display_data"
    },
    {
     "data": {
      "text/markdown": [
       "hits: promedio de aciertos de las 10 películas recomendadas"
      ],
      "text/plain": [
       "<IPython.core.display.Markdown object>"
      ]
     },
     "metadata": {},
     "output_type": "display_data"
    },
    {
     "data": {
      "text/markdown": [
       "lenL: largo de la lista"
      ],
      "text/plain": [
       "<IPython.core.display.Markdown object>"
      ]
     },
     "metadata": {},
     "output_type": "display_data"
    },
    {
     "name": "stdout",
     "output_type": "stream",
     "text": [
      "lista \t\trand \tann \thits \tlenL\n",
      "asmr1113\t10.0\t14.3\t1.0/7\t10\n",
      "asmr1114\t8.0\t50.0\t2.5/5\t8\n",
      "asmr1115\t8.6\t24.3\t1.7/7\t10\n",
      "asmr1117\t13.3\t10.0\t0.3/3\t6\n",
      "asmr1118\t11.7\t33.3\t2.0/6\t9\n",
      "asmr1119\t6.7\t28.3\t1.7/6\t9\n",
      "asmr1120\t3.8\t5.8\t1.4/24\t27\n",
      "asmr1121\t6.0\t11.3\t1.7/15\t18\n",
      "asmr1122\t5.0\t15.0\t0.3/2\t5\n",
      "asmr1123\t5.7\t27.1\t1.9/7\t10\n",
      "asmr1124\t3.6\t5.7\t1.6/28\t31\n",
      "asmr1125\t4.0\t32.0\t1.6/5\t8\n",
      "asmr1126\t7.5\t20.0\t0.8/4\t7\n",
      "asmr1127\t7.4\t14.8\t4.0/27\t30\n",
      "asmr1128\t7.1\t12.9\t0.9/7\t10\n",
      "asmr1129\t26.7\t70.0\t2.1/3\t6\n",
      "asmr1130\t8.6\t20.0\t1.4/7\t10\n",
      "asmr1131\t1.7\t6.7\t0.4/6\t9\n",
      "asmr1132\t6.0\t4.0\t0.2/5\t8\n",
      "asmr1133\t0.0\t50.0\t1.0/2\t5\n",
      "asmr1134\t12.5\t12.5\t0.5/4\t7\n",
      "asmr1135\t4.2\t10.0\t1.2/12\t15\n",
      "asmr1136\t20.0\t38.0\t1.9/5\t8\n",
      "asmr1137\t5.0\t18.3\t1.1/6\t9\n",
      "asmr1138\t3.3\t0.0\t0.0/6\t9\n",
      "asmr1139\t6.7\t22.5\t2.7/12\t15\n",
      "asmr1140\t13.3\t10.0\t0.3/3\t6\n",
      "asmr1141\t5.4\t11.5\t3.0/26\t29\n",
      "asmr1142\t10.0\t13.3\t0.4/3\t6\n",
      "asmr1143\t10.0\t50.0\t2.5/5\t8\n",
      "asmr1144\t11.8\t16.4\t1.8/11\t14\n",
      "asmr1145\t10.0\t40.0\t0.8/2\t5\n",
      "asmr1146\t2.5\t10.0\t0.4/4\t7\n",
      "asmr1148\t16.0\t8.0\t0.4/5\t8\n",
      "asmr1149\t11.7\t43.3\t2.6/6\t9\n",
      "asmr1150\t18.3\t31.7\t1.9/6\t9\n",
      "asmr1151\t5.0\t11.7\t0.7/6\t9\n",
      "asmr1152\t11.0\t26.0\t2.6/10\t13\n",
      "asmr1153\t6.0\t14.0\t0.7/5\t8\n",
      "asmr1154\t10.0\t28.0\t1.4/5\t8\n",
      "asmr1155\t16.0\t34.0\t1.7/5\t8\n",
      "asmr1156\t6.6\t14.1\t4.1/29\t32\n",
      "asmr1157\t6.7\t16.7\t0.5/3\t6\n",
      "asmr1158\t11.7\t46.7\t2.8/6\t9\n",
      "asmr1160\t5.0\t0.0\t0.0/2\t5\n",
      "asmr1161\t3.3\t0.0\t0.0/3\t6\n",
      "asmr1162\t1.7\t11.7\t0.7/6\t9\n",
      "asmr1164\t7.5\t10.0\t0.4/4\t7\n",
      "asmr1165\t0.0\t15.0\t0.3/2\t5\n",
      "asmr1166\t3.0\t12.0\t1.2/10\t13\n",
      "asmr1167\t12.9\t22.9\t1.6/7\t10\n",
      "asmr1168\t7.5\t10.0\t0.4/4\t7\n",
      "asmr1170\t7.5\t20.0\t0.8/4\t7\n",
      "asmr1172\t12.7\t37.3\t8.2/22\t25\n",
      "asmr1173\t6.7\t23.3\t2.1/9\t12\n",
      "asmr1174\t9.3\t23.6\t3.3/14\t17\n",
      "asmr1175\t10.0\t32.5\t1.3/4\t7\n",
      "asmr1176\t0.0\t20.0\t0.8/4\t7\n",
      "asmr1177\t13.3\t31.7\t1.9/6\t9\n",
      "asmr1178\t0.0\t0.0\t0.0/3\t6\n",
      "asmr1179\t7.5\t17.5\t0.7/4\t7\n",
      "asmr1180\t6.7\t18.3\t1.1/6\t9\n",
      "asmr1181\t4.5\t31.8\t3.5/11\t14\n",
      "asmr1182\t5.0\t32.5\t1.3/4\t7\n",
      "asmr1183\t0.0\t0.0\t0.0/3\t6\n",
      "asmr1184\t20.0\t25.0\t0.5/2\t5\n",
      "asmr1185\t12.9\t22.9\t1.6/7\t10\n",
      "asmr1186\t1.7\t10.0\t0.6/6\t9\n",
      "asmr1187\t11.4\t32.9\t2.3/7\t10\n",
      "asmr1188\t6.0\t12.0\t0.6/5\t8\n",
      "asmr1189\t14.3\t38.6\t2.7/7\t10\n",
      "asmr1190\t6.7\t6.7\t0.6/9\t12\n",
      "asmr1191\t5.0\t13.3\t0.8/6\t9\n",
      "asmr1192\t0.0\t16.7\t0.5/3\t6\n",
      "asmr1193\t6.7\t16.7\t1.0/6\t9\n",
      "asmr1197\t10.0\t23.3\t1.4/6\t9\n",
      "asmr1198\t13.3\t20.0\t1.2/6\t9\n",
      "asmr1199\t10.0\t20.0\t2.4/12\t15\n",
      "asmr1200\t7.1\t11.4\t0.8/7\t10\n",
      "asmr1201\t0.0\t0.0\t0.0/2\t5\n",
      "asmr1202\t6.0\t18.0\t0.9/5\t8\n",
      "asmr1203\t10.0\t17.5\t0.7/4\t7\n",
      "asmr1205\t7.1\t15.7\t1.1/7\t10\n",
      "asmr1206\t10.4\t16.2\t3.9/24\t27\n",
      "asmr1207\t7.5\t0.0\t0.0/4\t7\n",
      "asmr1208\t13.3\t13.3\t0.4/3\t6\n",
      "asmr1209\t20.6\t68.8\t11.7/17\t20\n",
      "asmr1210\t0.0\t18.3\t1.1/6\t9\n",
      "asmr1211\t3.3\t6.7\t0.2/3\t6\n",
      "asmr1214\t5.0\t6.7\t0.4/6\t9\n",
      "asmr1216\t7.5\t17.5\t1.4/8\t11\n",
      "asmr1217\t7.1\t24.3\t1.7/7\t10\n",
      "asmr1218\t6.0\t2.0\t0.1/5\t8\n",
      "asmr1219\t10.0\t6.7\t0.2/3\t6\n",
      "asmr1220\t10.0\t50.0\t2.0/4\t7\n",
      "asmr1221\t7.1\t25.7\t1.8/7\t10\n",
      "asmr1223\t1.7\t0.0\t0.0/6\t9\n",
      "asmr1224\t22.5\t65.0\t2.6/4\t7\n",
      "% acierto del recomendador ANN: 20.3\n",
      "% acierto recomendador aleatorio: 8.1\n"
     ]
    }
   ],
   "source": [
    "verbose=False\n",
    "from IPython.display import display, Markdown, Latex\n",
    "display(Markdown('rand: %acierto de recomendador aleatorio'))\n",
    "display(Markdown('ann: %acierto de recomendador ANN'))\n",
    "display(Markdown('hits: promedio de aciertos de las 10 películas recomendadas'))\n",
    "display(Markdown('lenL: largo de la lista'))\n",
    "\n",
    "print(\"lista \\t\\trand \\tann \\thits \\tlenL\")\n",
    "tot_success = 0.0; tot_rnd_success=0; count=0\n",
    "for i in range(int(lssize/2)+1,lssize):\n",
    "    success, rnd_success = validate(\"asmr\"+str(1000+i), nsample=3, nrec=20)\n",
    "    if success != None:\n",
    "        tot_success += success\n",
    "        tot_rnd_success += rnd_success\n",
    "        count +=1\n",
    "print(\"% acierto del recomendador ANN:\",  \"%.1f\" %(tot_success/count*100))\n",
    "print(\"% acierto recomendador aleatorio:\", \"%.1f\" %(tot_rnd_success/count*100))"
   ]
  },
  {
   "cell_type": "code",
   "execution_count": null,
   "metadata": {},
   "outputs": [],
   "source": []
  },
  {
   "cell_type": "code",
   "execution_count": null,
   "metadata": {},
   "outputs": [],
   "source": []
  }
 ],
 "metadata": {
  "kernelspec": {
   "display_name": "Python 3",
   "language": "python",
   "name": "python3"
  },
  "language_info": {
   "codemirror_mode": {
    "name": "ipython",
    "version": 3
   },
   "file_extension": ".py",
   "mimetype": "text/x-python",
   "name": "python",
   "nbconvert_exporter": "python",
   "pygments_lexer": "ipython3",
   "version": "3.7.4"
  }
 },
 "nbformat": 4,
 "nbformat_minor": 4
}
