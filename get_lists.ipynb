{
 "cells": [
  {
   "cell_type": "code",
   "execution_count": 70,
   "metadata": {},
   "outputs": [
    {
     "name": "stdout",
     "output_type": "stream",
     "text": [
      "n \tmovies\ttotal\n",
      "1\t540\t540\n",
      "2\t128\t599\n",
      "3\t49\t645\n",
      "4\t561\t1200\n",
      "5\t254\t1281\n",
      "6\t113\t1320\n",
      "7\t173\t1456\n",
      "8\t807\t2181\n",
      "9\t76\t2247\n",
      "10\t50\t2249\n",
      "11\t721\t2914\n",
      "12\t10\t2914\n",
      "13\t373\t3171\n",
      "14\t300\t3284\n",
      "15\t91\t3353\n",
      "16\t24\t3354\n",
      "17\t837\t3652\n",
      "18\t122\t3652\n",
      "19\t20\t3652\n",
      "20\t46\t3652\n",
      "21\t36\t3652\n",
      "22\t28\t3652\n",
      "23\t20\t3652\n",
      "24\t52\t3653\n",
      "25\t12\t3653\n",
      "26\t279\t3820\n",
      "27\t348\t4040\n",
      "28\t32\t4061\n",
      "29\t50\t4104\n",
      "30\t200\t4106\n",
      "31\t115\t4147\n",
      "32\t26\t4163\n",
      "33\t66\t4201\n",
      "34\t954\t4991\n",
      "35\t1139\t5672\n",
      "36\t43\t5706\n",
      "37\t18\t5719\n",
      "38\t155\t5823\n",
      "39\t100\t5825\n",
      "40\t190\t5914\n",
      "41\t8\t5915\n",
      "42\t100\t5981\n",
      "43\t534\t6315\n",
      "44\t67\t6368\n"
     ]
    }
   ],
   "source": [
    "import sys\n",
    "import time\n",
    "import requests\n",
    "from bs4 import BeautifulSoup\n",
    "\n",
    "list2movies = dict()\n",
    "movie2lists = dict()\n",
    "print(\"n \\tmovies\\ttotal\")\n",
    "\n",
    "for page in range(100):\n",
    "    page = requests.get(\"https://letterboxd.com/film/daytime-drinking/lists/page/\"+str(page+1)+\"/\")\n",
    "    soup = BeautifulSoup(page.content, 'html.parser')\n",
    " \n",
    "    valid=False\n",
    "    for section in soup.find_all('section', class_='list'):\n",
    "        valid =True\n",
    "        a=section.find('a', href=True)\n",
    "        value = section.find('small',class_='value').text.split()[0]\n",
    "        value = int(value.replace(',',''))\n",
    "        if value > 1200: break\n",
    "        \n",
    "        list2movies[a['href']] = set()\n",
    "        \n",
    "        ppage = 1; validpage = True\n",
    "        while validpage:\n",
    "            page = requests.get(\"https://letterboxd.com\"+a['href']+\"/page/\"+str(ppage)+\"/\")\n",
    "            soup2 = BeautifulSoup(page.content, 'html.parser')   \n",
    "            validpage = False\n",
    "            for span in soup2.find_all('div', class_=\"really-lazy-load\"):\n",
    "                validpage = True\n",
    "                movie = span['data-target-link'].split('/')[2]\n",
    "                list2movies[a['href']].add(movie)\n",
    "                if movie not in movie2lists: movie2lists[movie]=set()\n",
    "                movie2lists[movie].add(a['href']) \n",
    "            ppage += 1\n",
    "            \n",
    "        print(str(len(list2movies))+\"\\t\"+str(value)+\"\\t\"+str(len(movie2lists)))\n",
    "        time.sleep(1)\n",
    "            \n",
    "    if not valid: break"
   ]
  },
  {
   "cell_type": "markdown",
   "metadata": {},
   "source": [
    "## Cálculo de similitud usando listas\n",
    "\n",
    "El valor de similitud entre las películas $p_i$ y $p_j$ que pertenecen al conjunto de listas ${L_1, L_2,...,L_n}$. Es calculado:\n",
    "\n",
    "$sim(p_i,p_j) = \\frac{1}{|L_1 \\cap L_2 \\cap ... \\cap L_n|-1}$\n",
    "\n",
    "\n",
    "\n"
   ]
  },
  {
   "cell_type": "code",
   "execution_count": 78,
   "metadata": {},
   "outputs": [
    {
     "ename": "KeyError",
     "evalue": "'/supremelemon/list/korean-films-ive-seen/'",
     "output_type": "error",
     "traceback": [
      "\u001b[1;31m---------------------------------------------------------------------------\u001b[0m",
      "\u001b[1;31mKeyError\u001b[0m                                  Traceback (most recent call last)",
      "\u001b[1;32m<ipython-input-78-90658fd067f1>\u001b[0m in \u001b[0;36m<module>\u001b[1;34m()\u001b[0m\n\u001b[0;32m      3\u001b[0m     \u001b[0msetlist\u001b[0m \u001b[1;33m=\u001b[0m \u001b[1;33m[\u001b[0m\u001b[1;33m]\u001b[0m\u001b[1;33m\u001b[0m\u001b[1;33m\u001b[0m\u001b[0m\n\u001b[0;32m      4\u001b[0m     \u001b[1;32mfor\u001b[0m \u001b[0mls\u001b[0m \u001b[1;32min\u001b[0m \u001b[0mmovie2lists\u001b[0m\u001b[1;33m[\u001b[0m\u001b[0mmovie\u001b[0m\u001b[1;33m]\u001b[0m\u001b[1;33m:\u001b[0m\u001b[1;33m\u001b[0m\u001b[1;33m\u001b[0m\u001b[0m\n\u001b[1;32m----> 5\u001b[1;33m         \u001b[0msetlist\u001b[0m\u001b[1;33m.\u001b[0m\u001b[0mappend\u001b[0m\u001b[1;33m(\u001b[0m\u001b[0mlist2movies\u001b[0m\u001b[1;33m[\u001b[0m\u001b[0mls\u001b[0m\u001b[1;33m]\u001b[0m\u001b[1;33m)\u001b[0m\u001b[1;33m\u001b[0m\u001b[1;33m\u001b[0m\u001b[0m\n\u001b[0m\u001b[0;32m      6\u001b[0m \u001b[1;33m\u001b[0m\u001b[0m\n\u001b[0;32m      7\u001b[0m     \u001b[0mleninter\u001b[0m \u001b[1;33m=\u001b[0m \u001b[0mlen\u001b[0m\u001b[1;33m(\u001b[0m\u001b[0mset\u001b[0m\u001b[1;33m.\u001b[0m\u001b[0mintersection\u001b[0m\u001b[1;33m(\u001b[0m\u001b[1;33m*\u001b[0m\u001b[0msetlist\u001b[0m\u001b[1;33m)\u001b[0m\u001b[1;33m)\u001b[0m\u001b[1;33m\u001b[0m\u001b[1;33m\u001b[0m\u001b[0m\n",
      "\u001b[1;31mKeyError\u001b[0m: '/supremelemon/list/korean-films-ive-seen/'"
     ]
    }
   ],
   "source": [
    "sym = dict()\n",
    "for movie in movie2lists:\n",
    "    setlist = []\n",
    "    for ls in movie2lists[movie]:\n",
    "        setlist.append(list2movies[ls])\n",
    "        \n",
    "    leninter = len(set.intersection(*setlist))\n",
    "    if(leninter <= 1):\n",
    "        print(movie)\n",
    "        continue\n",
    "    sym[movie] = (1.0/(len(set.intersection(*setlist))-1),len(setlist))\n",
    "        "
   ]
  },
  {
   "cell_type": "code",
   "execution_count": 79,
   "metadata": {},
   "outputs": [],
   "source": [
    "for m in sym:\n",
    "    if sym[m][0] == 1.0: print(m,sym[m])"
   ]
  },
  {
   "cell_type": "code",
   "execution_count": null,
   "metadata": {},
   "outputs": [],
   "source": []
  }
 ],
 "metadata": {
  "kernelspec": {
   "display_name": "Python 3",
   "language": "python",
   "name": "python3"
  },
  "language_info": {
   "codemirror_mode": {
    "name": "ipython",
    "version": 3
   },
   "file_extension": ".py",
   "mimetype": "text/x-python",
   "name": "python",
   "nbconvert_exporter": "python",
   "pygments_lexer": "ipython3",
   "version": "3.7.3"
  }
 },
 "nbformat": 4,
 "nbformat_minor": 4
}
